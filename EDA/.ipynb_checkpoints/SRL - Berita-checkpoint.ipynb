{
 "cells": [
  {
   "cell_type": "code",
   "execution_count": 2,
   "metadata": {},
   "outputs": [],
   "source": [
    "import string\n",
    "import nltk\n",
    "import pandas as pd\n",
    "from collections import defaultdict\n",
    "from Sastrawi.Stemmer.StemmerFactory import StemmerFactory"
   ]
  },
  {
   "cell_type": "code",
   "execution_count": 3,
   "metadata": {},
   "outputs": [],
   "source": [
    "factory = StemmerFactory()\n",
    "stemmer = factory.create_stemmer()"
   ]
  },
  {
   "cell_type": "code",
   "execution_count": 4,
   "metadata": {},
   "outputs": [],
   "source": [
    "annotators = ['Furqon', 'Richard']"
   ]
  },
  {
   "cell_type": "code",
   "execution_count": 17,
   "metadata": {},
   "outputs": [],
   "source": [
    "filepath = '../data/SRL/indonesia_srl_annotation.csv'\n",
    "base_output_filepath = '../data/SRL/indonesia_srl_annotation_predicates_{}.txt'\n",
    "base_sentence_predicate_pair_filepath = '../data/SRL/sentence_predicate_pair_{}.txt'"
   ]
  },
  {
   "cell_type": "code",
   "execution_count": 6,
   "metadata": {},
   "outputs": [],
   "source": [
    "class SRLAnnotation:\n",
    "    USELESS_TOKEN = \"()\"\n",
    "    def __init__(self, sentence, annotation):\n",
    "        cleaned_sentence = sentence\n",
    "        for token in self.USELESS_TOKEN:\n",
    "            cleaned_sentence = cleaned_sentence.replace(token, '')\n",
    "        self.sentence = cleaned_sentence\n",
    "        self.words = nltk.tokenize.word_tokenize(self.sentence)\n",
    "        annotation_list = annotation.split(' ')\n",
    "        self.annotation = annotation_list\n",
    "    def get_predicate(self):\n",
    "        try:\n",
    "            predicate_index = self.annotation.index('B-V')\n",
    "            return stemmer.stem(self.words[predicate_index])\n",
    "        except:\n",
    "            return \"NOPRED\""
   ]
  },
  {
   "cell_type": "code",
   "execution_count": 18,
   "metadata": {},
   "outputs": [],
   "source": [
    "def get_output_filepath(annotator):\n",
    "    return base_output_filepath.format(annotator)\n",
    "\n",
    "def get_sentence_predicate_pair_filepath(annotator):\n",
    "    return base_sentence_predicate_pair_filepath.format(annotator)"
   ]
  },
  {
   "cell_type": "code",
   "execution_count": 8,
   "metadata": {},
   "outputs": [],
   "source": [
    "srl_annotations_df = pd.read_csv(filepath)"
   ]
  },
  {
   "cell_type": "markdown",
   "metadata": {},
   "source": [
    "### Create SRLAnnotations objects from csv"
   ]
  },
  {
   "cell_type": "code",
   "execution_count": 9,
   "metadata": {},
   "outputs": [],
   "source": [
    "srl_annotations = defaultdict(defaultdict)\n",
    "\n",
    "for annotator in annotators:\n",
    "    current_srl_annotations = []\n",
    "    for index, row in srl_annotations_df.iterrows():\n",
    "        current_srl_annotations.append(SRLAnnotation(row['Kalimat'], row['Anotasi '+annotator]))\n",
    "    srl_annotations[annotator][\"annotations\"] = current_srl_annotations"
   ]
  },
  {
   "cell_type": "markdown",
   "metadata": {},
   "source": [
    "### Get predicates from SRLAnnotation object"
   ]
  },
  {
   "cell_type": "code",
   "execution_count": 10,
   "metadata": {},
   "outputs": [
    {
     "name": "stdout",
     "output_type": "stream",
     "text": [
      "Di tempat cawagub petahana Djarot Saiful Hidayat, TPS 08 Setiabudi, Kuningan Timur, Jakarta Selatan, suara pasangan Ahok-Djarot berada di bawah suara pasangan calon Anies-Sandi.\n"
     ]
    }
   ],
   "source": [
    "print(srl_annotations[annotator][\"annotations\"][2].sentence)"
   ]
  },
  {
   "cell_type": "code",
   "execution_count": 11,
   "metadata": {},
   "outputs": [],
   "source": [
    "for annotator in srl_annotations:\n",
    "    predicates = list(\n",
    "        map(lambda srl: srl.get_predicate(), srl_annotations[annotator][\"annotations\"])\n",
    "    )\n",
    "    filtered_predicates = list(\n",
    "        filter(lambda predicate: predicate is not None, predicates)\n",
    "    )\n",
    "    srl_annotations[annotator][\"predicates\"] = filtered_predicates"
   ]
  },
  {
   "cell_type": "markdown",
   "metadata": {},
   "source": [
    "#### Sanity Check"
   ]
  },
  {
   "cell_type": "code",
   "execution_count": 12,
   "metadata": {},
   "outputs": [
    {
     "name": "stdout",
     "output_type": "stream",
     "text": [
      "Furqon\n",
      "['NOPRED', 'hitung', 'pasang', 'unggul', 'dapat', 'NOPRED', 'jumlah', 'ikut', 'lolos', 'raih', 'oleh', 'kerja', 'tetap', '', '', 'tahu', 'menang', 'kantong', 'NOPRED', 'jadi', 'oleh', 'oleh', 'unggul', 'NOPRED', 'coblos', 'oleh', 'NOPRED', 'kalah', 'raih', 'NOPRED', 'menang', 'guna', 'raih', 'raih', 'ujar', 'pantau', 'menang', 'raih', 'ada', 'ada', 'klaim', 'klaim', 'kata', 'nyata', 'kata', 'aku', 'oleh', 'kata', 'sebut', 'kata', 'jamin', 'dapat', 'kata', 'urus', 'kata', 'raih', 'ada', 'demokat', 'klaim', 'tang', 'ujar', 'kata', 'tegas', 'ucap', 'kata', 'dapat', 'ucap', 'sampai', 'kata', 'usai', 'tarung', 'kalah', 'kalah', 'hana', 'NOPRED', 'dukung', 'dukung', 'kalah', '', 'pasang', 'dan', 'kholiq', 'kalah', 'muka', 'kata', 'resmi', 'menang', 'ujar', 'ujar', 'calon', 'ujar', 'lanjut', 'dapat', 'ujar', 'ujar', 'ingat', 'ujar', 'sebut', 'ujar', 'kata']\n",
      "NOPRED\n",
      "2112\n",
      "Richard\n",
      "['NOPRED', 'hitung', 'ada', 'unggul', 'dapat', 'NOPRED', 'jumlah', 'ikut', 'lolos', 'raih', 'oleh', 'kerja', 'tetap', 'unggul', 'kalah', 'tahu', 'menang', 'kantong', 'NOPRED', 'jadi', 'oleh', 'oleh', 'unggul', 'NOPRED', 'coblos', 'oleh', 'NOPRED', 'kalah', 'raih', 'NOPRED', 'menang', 'guna', 'raih', 'raih', 'ujar', 'pantau', 'menang', 'raih', 'ada', 'ada', 'klaim', 'klaim', 'kata', 'nyata', 'kata', 'NOPRED', 'anggap', 'kata', 'sebut', 'kata', 'jamin', 'dapat', 'NOPRED', 'catat', 'kata', 'raih', 'ada', 'ada', 'klaim', 'tang', 'ujar', 'kata', 'tegas', 'ucap', 'kata', 'dapat', 'ucap', 'sampai', 'kata', 'usai', 'tarung', 'kalah', 'kalah', 'kalah', 'NOPRED', 'dukung', 'dukung', 'kalah', 'kalah', 'kalah', 'kalah', '', 'kalah', 'muka', 'kata', 'resmi', 'menang', 'ujar', 'ujar', 'kata', 'ujar', 'lanjut', 'dapat', 'ujar', 'ujar', 'ingat', 'ujar', 'sebut', 'ujar', 'kata']\n",
      "NOPRED\n",
      "2112\n"
     ]
    }
   ],
   "source": [
    "for annotator in srl_annotations:\n",
    "    print(annotator)\n",
    "    print(srl_annotations[annotator][\"predicates\"][:100])\n",
    "    print(srl_annotations[annotator][\"predicates\"][18])\n",
    "    print(len(srl_annotations[annotator][\"predicates\"]))"
   ]
  },
  {
   "cell_type": "markdown",
   "metadata": {},
   "source": [
    "#### Only get the agreed predicates (Furqon == Richard)\n",
    "\n",
    "Also filter the predicates (Delete list that has no predicates)"
   ]
  },
  {
   "cell_type": "code",
   "execution_count": 13,
   "metadata": {},
   "outputs": [],
   "source": [
    "predicates_pair = zip(srl_annotations[annotators[0]][\"predicates\"], srl_annotations[annotators[1]][\"predicates\"])\n",
    "agreed_predicates = set([predicate[0] for predicate in predicates_pair if predicate[0] == predicate[1]])\n",
    "filtered_agreed_predicates = [predicate for predicate in agreed_predicates if predicate != 'NOPRED']"
   ]
  },
  {
   "cell_type": "code",
   "execution_count": 14,
   "metadata": {},
   "outputs": [
    {
     "name": "stdout",
     "output_type": "stream",
     "text": [
      "Agreed predicates:  325\n",
      "Filtered agreed predicates 324\n",
      "Deleted predicates 1\n"
     ]
    }
   ],
   "source": [
    "print(\"Agreed predicates: \", len(agreed_predicates))\n",
    "print(\"Filtered agreed predicates\", len(filtered_agreed_predicates))\n",
    "print(\"Deleted predicates\", len(agreed_predicates) - len(filtered_agreed_predicates))"
   ]
  },
  {
   "cell_type": "markdown",
   "metadata": {},
   "source": [
    "### Analysis\n",
    "\n",
    "Turns out that Richard's annotation is better thatn Furqon's. Therefore, we should use the Richard's one"
   ]
  },
  {
   "cell_type": "code",
   "execution_count": 15,
   "metadata": {},
   "outputs": [
    {
     "name": "stdout",
     "output_type": "stream",
     "text": [
      "['hitung', 'ada', 'unggul', 'dapat', 'jumlah', 'ikut', 'lolos', 'raih', 'oleh', 'kerja', 'tetap', 'unggul', 'kalah', 'tahu', 'menang', 'kantong', 'jadi', 'oleh', 'oleh', 'unggul', 'coblos', 'oleh', 'kalah', 'raih', 'menang', 'guna', 'raih', 'raih', 'ujar', 'pantau', 'menang', 'raih', 'ada', 'ada', 'klaim', 'klaim', 'kata', 'nyata', 'kata', 'anggap', 'kata', 'sebut', 'kata', 'jamin', 'dapat', 'catat', 'kata', 'raih', 'ada', 'ada', 'klaim', 'tang', 'ujar', 'kata', 'tegas', 'ucap', 'kata', 'dapat', 'ucap', 'sampai', 'kata', 'usai', 'tarung', 'kalah', 'kalah', 'kalah', 'dukung', 'dukung', 'kalah', 'kalah', 'kalah', 'kalah', '', 'kalah', 'muka', 'kata', 'resmi', 'menang', 'ujar', 'ujar', 'kata', 'ujar', 'lanjut', 'dapat', 'ujar', 'ujar', 'ingat', 'ujar', 'sebut', 'ujar', 'kata', 'aku', 'kata', 'duga', 'tegas', 'sikap', 'bahas', 'minta', 'ujar', 'dapat']\n"
     ]
    },
    {
     "data": {
      "text/plain": [
       "2029"
      ]
     },
     "execution_count": 15,
     "metadata": {},
     "output_type": "execute_result"
    }
   ],
   "source": [
    "richard_filtered_predicates = [predicate for predicate in srl_annotations[\"Richard\"][\"predicates\"] if predicate != 'NOPRED']\n",
    "print(richard_filtered_predicates[:100])\n",
    "len(richard_filtered_predicates)"
   ]
  },
  {
   "cell_type": "markdown",
   "metadata": {},
   "source": [
    "Let's just use both anyway"
   ]
  },
  {
   "cell_type": "code",
   "execution_count": 16,
   "metadata": {},
   "outputs": [
    {
     "name": "stdout",
     "output_type": "stream",
     "text": [
      "Writing 364 predicates \n",
      "Writing 357 predicates \n"
     ]
    }
   ],
   "source": [
    "for annotator in annotators:    \n",
    "    filtered_annotator_predicates = set([predicate for predicate in srl_annotations[annotator][\"predicates\"] if predicate != 'NOPRED'])\n",
    "#     filtered_annotator_predicates = srl_annotations[annotator][\"predicates\"]\n",
    "    print(\"Writing {} predicates \".format(len(filtered_annotator_predicates)))\n",
    "    with open(get_output_filepath(annotator), 'w') as fp:\n",
    "        fp.seek(0)\n",
    "        for predicate in filtered_annotator_predicates:\n",
    "            fp.writelines(predicate + '\\n')\n",
    "        fp.truncate()"
   ]
  },
  {
   "cell_type": "markdown",
   "metadata": {},
   "source": [
    "### Create (predicate, sentence) pair"
   ]
  },
  {
   "cell_type": "code",
   "execution_count": 21,
   "metadata": {},
   "outputs": [],
   "source": [
    "for annotator in srl_annotations:\n",
    "    with open(get_sentence_predicate_pair_filepath(annotator), 'w') as fp:\n",
    "        fp.seek(0)\n",
    "        for annotation in srl_annotations[annotator][\"annotations\"]:\n",
    "            fp.writelines(\"{}|{}\\n\".format(annotation.sentence, annotation.get_predicate()))\n",
    "        fp.truncate()"
   ]
  }
 ],
 "metadata": {
  "kernelspec": {
   "display_name": "Python 3",
   "language": "python",
   "name": "python3"
  },
  "language_info": {
   "codemirror_mode": {
    "name": "ipython",
    "version": 3
   },
   "file_extension": ".py",
   "mimetype": "text/x-python",
   "name": "python",
   "nbconvert_exporter": "python",
   "pygments_lexer": "ipython3",
   "version": "3.7.3"
  }
 },
 "nbformat": 4,
 "nbformat_minor": 2
}
