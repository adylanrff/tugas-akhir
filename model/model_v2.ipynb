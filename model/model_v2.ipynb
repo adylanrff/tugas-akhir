{
 "cells": [
  {
   "cell_type": "code",
   "execution_count": null,
   "metadata": {},
   "outputs": [],
   "source": [
    "import os\n",
    "import sys\n",
    "os.environ['TF_CPP_MIN_LOG_LEVEL'] = '2' \n",
    "module_path = os.path.abspath(os.path.join('..'))\n",
    "if module_path not in sys.path:\n",
    "    sys.path.append(module_path)"
   ]
  },
  {
   "cell_type": "code",
   "execution_count": 2,
   "metadata": {},
   "outputs": [],
   "source": [
    "import tensorflow as tf\n",
    "tf.executing_eagerly()\n",
    "tf.get_logger().setLevel('ERROR')\n",
    "tf.random.set_seed(\n",
    "    13516013\n",
    ")"
   ]
  },
  {
   "cell_type": "code",
   "execution_count": 36,
   "metadata": {},
   "outputs": [],
   "source": [
    "import numpy as np\n",
    "import matplotlib.pyplot as plt\n",
    "plt.rcParams['figure.figsize'] = [15, 10]\n",
    "\n",
    "from tqdm import tqdm\n",
    "\n",
    "from stog.utils.params import Params\n",
    "from stog.data.dataset_builder import dataset_from_params, iterator_from_params\n",
    "from stog.data.vocabulary import Vocabulary\n",
    "from stog.training.trainer import Trainer\n",
    "from stog.data.dataset import Batch\n",
    "from model.text_to_amr import TextToAMR\n",
    "from model.glove_embedding import GloveEmbedding\n",
    "\n",
    "from tensorflow.keras.layers import Embedding, Input, Dense, Flatten, LSTM, concatenate, Bidirectional, Lambda\n",
    "from tensorflow.keras.models import Model\n",
    "from tensorflow.keras.utils import plot_model\n",
    "from tensorflow.keras.losses import MeanSquaredError\n",
    "from tensorflow.keras.utils import to_categorical\n",
    "from sklearn.preprocessing import OneHotEncoder"
   ]
  },
  {
   "cell_type": "code",
   "execution_count": 37,
   "metadata": {},
   "outputs": [
    {
     "name": "stderr",
     "output_type": "stream",
     "text": [
      "/home/adylanrff/Documents/Kuliah/TA/amr_parser/stog/utils/params.py:104: YAMLLoadWarning: calling yaml.load() without Loader=... is deprecated, as the default Loader is unsafe. Please read https://msg.pyyaml.org/load for full details.\n",
      "  dict_merge.dict_merge(params_dict, yaml.load(f))\n"
     ]
    }
   ],
   "source": [
    "params = Params.from_file(\"../model/model_params.yaml\")"
   ]
  },
  {
   "cell_type": "code",
   "execution_count": 38,
   "metadata": {},
   "outputs": [
    {
     "name": "stderr",
     "output_type": "stream",
     "text": [
      "[2020-03-31 16:22:17,677 ERROR] Model name 'data/bert-base-cased/bert-base-cased-vocab.txt' was not found in model name list (bert-base-uncased, bert-large-uncased, bert-base-cased, bert-large-cased, bert-base-multilingual-uncased, bert-base-multilingual-cased, bert-base-chinese). We assumed 'data/bert-base-cased/bert-base-cased-vocab.txt' was a path or url but couldn't find any file associated to this path or url.\n",
      "0it [00:00, ?it/s][2020-03-31 16:22:17,680 INFO] Reading instances from lines in file at: ../data/raw/amr.txt.features\n",
      "[2020-03-31 16:22:17,765 INFO] POS tag coverage: 0.3087 (184/596)\n",
      "40it [00:00, 466.55it/s]\n",
      "[2020-03-31 16:22:17,767 ERROR] Model name 'data/bert-base-cased/bert-base-cased-vocab.txt' was not found in model name list (bert-base-uncased, bert-large-uncased, bert-base-cased, bert-large-cased, bert-base-multilingual-uncased, bert-base-multilingual-cased, bert-base-chinese). We assumed 'data/bert-base-cased/bert-base-cased-vocab.txt' was a path or url but couldn't find any file associated to this path or url.\n",
      "0it [00:00, ?it/s][2020-03-31 16:22:17,768 INFO] Reading instances from lines in file at: ../data/raw/amr.txt.features\n",
      "[2020-03-31 16:22:17,831 INFO] POS tag coverage: 0.3087 (184/596)\n",
      "40it [00:00, 622.90it/s]\n",
      "[2020-03-31 16:22:17,834 ERROR] Model name 'data/bert-base-cased/bert-base-cased-vocab.txt' was not found in model name list (bert-base-uncased, bert-large-uncased, bert-base-cased, bert-large-cased, bert-base-multilingual-uncased, bert-base-multilingual-cased, bert-base-chinese). We assumed 'data/bert-base-cased/bert-base-cased-vocab.txt' was a path or url but couldn't find any file associated to this path or url.\n",
      "0it [00:00, ?it/s][2020-03-31 16:22:17,835 INFO] Reading instances from lines in file at: ../data/raw/amr.txt.features\n"
     ]
    },
    {
     "name": "stdout",
     "output_type": "stream",
     "text": [
      "Building train datasets ...\n",
      "False\n",
      "Building dev datasets ...\n",
      "False\n",
      "Building test datasets ...\n",
      "False\n"
     ]
    },
    {
     "name": "stderr",
     "output_type": "stream",
     "text": [
      "[2020-03-31 16:22:17,897 INFO] POS tag coverage: 0.3087 (184/596)\n",
      "40it [00:00, 634.99it/s]\n"
     ]
    }
   ],
   "source": [
    "data_params = params['data']\n",
    "dataset = dataset_from_params(data_params)"
   ]
  },
  {
   "cell_type": "code",
   "execution_count": 6,
   "metadata": {},
   "outputs": [],
   "source": [
    "train_data = dataset['train']\n",
    "dev_data = dataset.get('dev')\n",
    "test_data = dataset.get('test')"
   ]
  },
  {
   "cell_type": "code",
   "execution_count": 7,
   "metadata": {},
   "outputs": [
    {
     "name": "stderr",
     "output_type": "stream",
     "text": [
      "[2020-03-31 16:08:40,086 INFO] Fitting token dictionary from dataset.\n",
      "100%|██████████| 40/40 [00:00<00:00, 2875.17it/s]\n",
      "[2020-03-31 16:08:40,106 WARNING] vocabulary serialization directory ../data/processed/serialization is not empty\n"
     ]
    },
    {
     "name": "stdout",
     "output_type": "stream",
     "text": [
      "<stog.data.dataset.Batch object at 0x7f367e71ff50>\n",
      "src_tokens\n",
      "   encoder_tokens\n",
      "   encoder_characters\n",
      "src_must_copy_tags\n",
      "tgt_tokens\n",
      "   decoder_tokens\n",
      "   decoder_characters\n",
      "src_pos_tags\n",
      "tgt_pos_tags\n",
      "tgt_copy_indices\n",
      "tgt_copy_mask\n",
      "tgt_copy_map\n",
      "src_copy_indices\n",
      "src_copy_map\n",
      "head_tags\n",
      "head_indices\n"
     ]
    }
   ],
   "source": [
    "vocab_params = params.get('vocab', {})\n",
    "vocab = Vocabulary.from_instances(instances=train_data, **vocab_params)\n",
    "vocab.save_to_files(\"../data/processed/serialization\")\n",
    "\n",
    "dataset = Batch(train_data)\n",
    "dataset.index_instances(vocab)\n",
    "print(dataset)\n",
    "\n",
    "for key in dataset.as_tensor_dict():\n",
    "    print(key)\n",
    "    content = dataset.as_tensor_dict()[key]\n",
    "    if isinstance(content, dict):\n",
    "        for inner_key in content:\n",
    "            print(\"  \", inner_key)\n",
    "\n",
    "train_iterator, dev_iterater, test_iterater = iterator_from_params(vocab, data_params['iterator'])\n",
    "\n",
    "train_dataset = Batch(train_data)\n",
    "train_dataset.index_instances(vocab)\n",
    "\n",
    "test_dataset = Batch(test_data)\n",
    "test_dataset.index_instances(vocab)\n",
    "\n",
    "train_dataset = train_dataset.as_tensor_dict()\n",
    "test_dataset = test_dataset.as_tensor_dict()"
   ]
  },
  {
   "cell_type": "code",
   "execution_count": 8,
   "metadata": {},
   "outputs": [],
   "source": [
    "def create_model_input(encoder_input, decoder_input, generator_input, parser_input):\n",
    "    token_encoder_input = encoder_input.get('token')\n",
    "    pos_encoder_input = encoder_input.get('pos_tag')\n",
    "    mask_encoder_input = encoder_input.get('mask')\n",
    "    token_decoder_input = decoder_input.get('token')\n",
    "    pos_decoder_input = decoder_input.get('pos_tag')\n",
    "\n",
    "    copy_attention_map_input = generator_input.get('copy_attention_maps')\n",
    "    coref_attention_map_input = generator_input.get('coref_attention_maps')\n",
    "    vocab_target_input  = generator_input.get('vocab_targets')\n",
    "    coref_target_input  = generator_input.get('coref_targets')\n",
    "    copy_target_input  = generator_input.get('copy_targets')\n",
    "\n",
    "    edge_heads_input = parser_input.get('edge_heads')\n",
    "    edge_labels_input = parser_input.get('edge_labels')\n",
    "    parser_mask_input = parser_input.get('mask')\n",
    "    coref_input = parser_input.get('corefs')\n",
    "\n",
    "    # token_encoder_input, \n",
    "    # pos_encoder_input, \n",
    "    # token_decoder_input, \n",
    "    # pos_decoder_input, \n",
    "    # copy_attention_maps_input, \n",
    "    # coref_attention_maps_input,\n",
    "    # mask_input,\n",
    "    # edge_heads_input,\n",
    "    # edge_labels_input,\n",
    "    # corefs_input,\n",
    "\n",
    "    model_input = dict(\n",
    "        token_encoder=token_encoder_input, \n",
    "        pos_encoder=pos_encoder_input, \n",
    "        token_decoder=token_decoder_input, \n",
    "        pos_decoder=pos_decoder_input, \n",
    "        copy_attention_map=copy_attention_map_input, \n",
    "        coref_attention_map=coref_attention_map_input,\n",
    "        mask_parser=parser_mask_input, \n",
    "        edge_heads=edge_heads_input,\n",
    "        edge_labels=edge_labels_input,\n",
    "        coref=coref_input,\n",
    "        vocab_target=vocab_target_input,\n",
    "        coref_target=coref_target_input,\n",
    "        copy_target=copy_target_input,\n",
    "        mask_encoder=mask_encoder_input\n",
    "    )\n",
    "    \n",
    "    model_input = dict([(e,model_input[e].astype('int32')) for e in model_input])\n",
    "    \n",
    "    return model_input\n"
   ]
  },
  {
   "cell_type": "code",
   "execution_count": 9,
   "metadata": {},
   "outputs": [
    {
     "name": "stdout",
     "output_type": "stream",
     "text": [
      "Vocabulary with namespaces:\n",
      " \tNon Padded Namespaces: {'coref_tags', 'must_copy_tags'}\n",
      " \tNamespace: encoder_token_ids, Size: 334 \n",
      " \tNamespace: encoder_token_characters, Size: 39 \n",
      " \tNamespace: decoder_token_ids, Size: 283 \n",
      " \tNamespace: decoder_token_characters, Size: 65 \n",
      " \tNamespace: pos_tags, Size: 16 \n",
      " \tNamespace: head_tags, Size: 35 \n",
      "\n"
     ]
    }
   ],
   "source": [
    "print(vocab)"
   ]
  },
  {
   "cell_type": "markdown",
   "metadata": {},
   "source": [
    "###### Test Model"
   ]
  },
  {
   "cell_type": "code",
   "execution_count": 10,
   "metadata": {},
   "outputs": [
    {
     "name": "stdout",
     "output_type": "stream",
     "text": [
      "ENCODER_INPUT\n",
      "bert_token: None\n",
      "token_subword_index: None\n",
      "token: (40, 25)\n",
      "pos_tag: (40, 25)\n",
      "must_copy_tag: (40, 25)\n",
      "char: (40, 25, 14)\n",
      "mask: (40, 25)\n",
      "\n",
      "DECODER_INPUT\n",
      "token: (40, 28)\n",
      "pos_tag: (40, 28)\n",
      "char: (40, 28, 17)\n",
      "coref: (40, 28)\n",
      "\n",
      "GENERATOR_INPUT\n",
      "vocab_targets: (40, 28)\n",
      "coref_targets: (40, 28)\n",
      "coref_attention_maps: (40, 28, 29)\n",
      "copy_targets: (40, 28)\n",
      "copy_attention_maps: (40, 25, 27)\n",
      "\n",
      "PARSER_INPUT\n",
      "edge_heads: (40, 28)\n",
      "edge_labels: (40, 28)\n",
      "corefs: (40, 28)\n",
      "mask: (40, 28)\n",
      "\n"
     ]
    }
   ],
   "source": [
    "text_to_amr = TextToAMR(vocab)\n",
    "encoder_input, decoder_input, generator_input, parser_input = text_to_amr.prepare_input(train_dataset)"
   ]
  },
  {
   "cell_type": "code",
   "execution_count": 11,
   "metadata": {},
   "outputs": [
    {
     "name": "stdout",
     "output_type": "stream",
     "text": [
      "[ 0  1  2  3  4  5  3  2  8  8  8  1 12 12 14  0  0  0  0  0  0  0  0  0\n",
      "  0  0  0  0]\n"
     ]
    }
   ],
   "source": [
    "print(parser_input.get('edge_heads')[5])"
   ]
  },
  {
   "cell_type": "code",
   "execution_count": 12,
   "metadata": {},
   "outputs": [],
   "source": [
    "train_model_input = create_model_input(encoder_input, decoder_input, generator_input, parser_input)"
   ]
  },
  {
   "cell_type": "code",
   "execution_count": 13,
   "metadata": {},
   "outputs": [],
   "source": [
    "batch_size = 64  # Batch size for training.\n",
    "ENCODER_LATENT_DIM = 200  # Latent dimensionality of the encoding space.\n",
    "DECODER_LATENT_DIM = 400\n",
    "EMBEDDING_OUTPUT_DIM = 100\n",
    "\n",
    "epochs = 100  # Number of epochs to train for.\n",
    "num_samples = train_model_input['token_encoder'].shape[0]  # Number of samples to train on.\n",
    "\n",
    "num_encoder_tokens = train_model_input['token_encoder'].shape[1]\n",
    "num_decoder_tokens = train_model_input['token_decoder'].shape[1]\n",
    "encoder_token_vocab_size = vocab.get_vocab_size(\"encoder_token_ids\")\n",
    "encoder_pos_vocab_size = vocab.get_vocab_size(\"encoder_token_ids\")\n",
    "decoder_token_vocab_size = vocab.get_vocab_size(\"decoder_token_ids\")\n",
    "encoder_pos_vocab_size = decoder_pos_vocab_size = vocab.get_vocab_size(\"pos_tags\")"
   ]
  },
  {
   "cell_type": "markdown",
   "metadata": {},
   "source": [
    "## Encoder Decoder"
   ]
  },
  {
   "cell_type": "code",
   "execution_count": 14,
   "metadata": {},
   "outputs": [
    {
     "name": "stdout",
     "output_type": "stream",
     "text": [
      "(40, 25)\n",
      "(40, 28)\n"
     ]
    }
   ],
   "source": [
    "encoder_decoder_model_input = [train_model_input.get('token_encoder'), \\\n",
    "                               train_model_input.get('pos_encoder'), \\\n",
    "                               train_model_input.get('token_decoder'), \n",
    "                               train_model_input.get('pos_decoder')\n",
    "                              ]\n",
    "encoder_decoder_model_output = train_model_input.get('vocab_target')\n",
    "\n",
    "print(encoder_decoder_model_input[0].shape)\n",
    "print(encoder_decoder_model_output.shape)"
   ]
  },
  {
   "cell_type": "markdown",
   "metadata": {},
   "source": [
    "### Encoder"
   ]
  },
  {
   "cell_type": "code",
   "execution_count": 15,
   "metadata": {},
   "outputs": [],
   "source": [
    "encoder = Bidirectional(LSTM(\n",
    "            ENCODER_LATENT_DIM,\n",
    "            return_sequences=True,\n",
    "            return_state=True))"
   ]
  },
  {
   "cell_type": "code",
   "execution_count": 16,
   "metadata": {},
   "outputs": [],
   "source": [
    "def encoder_embedding(token, pos):\n",
    "    token_embedding = GloveEmbedding(\n",
    "            encoder_token_vocab_size, num_encoder_tokens)(token)\n",
    "    pos_embedding = Embedding(\n",
    "            input_dim=encoder_pos_vocab_size, output_dim=EMBEDDING_OUTPUT_DIM, input_length=num_encoder_tokens, mask_zero=True)(pos)\n",
    "\n",
    "    return concatenate([token_embedding, pos_embedding])\n",
    "\n",
    "def encode(x):\n",
    "    output, forward_h, forward_c, backward_h, backward_c = encoder(\n",
    "            x)\n",
    "    state_h = concatenate([forward_h, backward_h])\n",
    "    state_c = concatenate([forward_c, backward_c])\n",
    "    states = (state_h, state_c)\n",
    "    return output, states"
   ]
  },
  {
   "cell_type": "markdown",
   "metadata": {},
   "source": [
    "### Decoder"
   ]
  },
  {
   "cell_type": "code",
   "execution_count": 17,
   "metadata": {},
   "outputs": [],
   "source": [
    "decoder = LSTM(\n",
    "                DECODER_LATENT_DIM,\n",
    "                return_state=True,\n",
    "                return_sequences=True)\n",
    "\n",
    "decoder_linear = Dense(decoder_token_vocab_size)"
   ]
  },
  {
   "cell_type": "code",
   "execution_count": 18,
   "metadata": {},
   "outputs": [],
   "source": [
    "def decoder_embedding(token, pos):\n",
    "    token_embedding = GloveEmbedding(\n",
    "            decoder_token_vocab_size, num_decoder_tokens)(token)\n",
    "    pos_embedding = Embedding(\n",
    "            input_dim=decoder_pos_vocab_size, output_dim=EMBEDDING_OUTPUT_DIM, input_length=num_decoder_tokens, mask_zero=True)(pos)\n",
    "\n",
    "    return concatenate([token_embedding, pos_embedding])\n"
   ]
  },
  {
   "cell_type": "markdown",
   "metadata": {},
   "source": [
    "### Loss"
   ]
  },
  {
   "cell_type": "code",
   "execution_count": 33,
   "metadata": {},
   "outputs": [],
   "source": [
    "def simple_loss(self, probs, generate_targets):\n",
    "    non_pad_mask = tf.cast(tf.math.not_equal(generate_targets, self.vocab_pad_idx), dtype='int32')\n",
    "\n",
    "    generate_targets_indices = create_generator_indices(generate_targets)\n",
    "    generate_target_probs = tf.gather_nd(probs, generate_targets_indices)\n",
    "\n",
    "    mul_result = generate_target_probs\n",
    "    likelihood = mul_result\n",
    "    num_tokens = tf.math.reduce_sum(non_pad_mask)\n",
    "\n",
    "    likelihood = likelihood + self.eps\n",
    "\n",
    "    # Drop pads.\n",
    "    loss = -np.log(likelihood) * tf.cast(non_pad_mask, dtype='float32')\n",
    "\n",
    "    return loss"
   ]
  },
  {
   "cell_type": "code",
   "execution_count": 58,
   "metadata": {},
   "outputs": [
    {
     "name": "stdout",
     "output_type": "stream",
     "text": [
      "Tensor(\"bidirectional_1_8/Identity:0\", shape=(None, 25, 400), dtype=float32)\n",
      "Tensor(\"dense_7_8/Identity:0\", shape=(None, 28, 283), dtype=float32)\n"
     ]
    }
   ],
   "source": [
    "# Define an input sequence and process it.\n",
    "\n",
    "## Encoder Inputs\n",
    "token_encoder_inputs = Input(shape=(num_encoder_tokens))\n",
    "pos_encoder_inputs = Input(shape=(num_encoder_tokens))\n",
    "\n",
    "\n",
    "encoder_inputs = [token_encoder_inputs, pos_encoder_inputs]\n",
    "embedded_encoder = encoder_embedding(token_encoder_inputs, pos_encoder_inputs)\n",
    "## Decoder Inputs\n",
    "token_decoder_inputs = Input(shape=(num_decoder_tokens))\n",
    "pos_decoder_inputs = Input(shape=(num_decoder_tokens))\n",
    "decoder_inputs = [token_decoder_inputs, pos_decoder_inputs]\n",
    "embedded_decoder = decoder_embedding(token_decoder_inputs, pos_decoder_inputs)\n",
    "\n",
    "# Encoder Embedding\n",
    "encoder_outputs, encoder_states = encode(embedded_encoder)\n",
    "# We discard `encoder_outputs` and only keep the states.\n",
    "\n",
    "# Set up the decoder, using `encoder_states` as initial state.\n",
    "print(encoder_outputs)\n",
    "\n",
    "# We set up our decoder to return full output sequences,\n",
    "# and to return internal states as well. We don't use the\n",
    "# return states in the training model, but we will use them in inference.\n",
    "decoder_outputs, _, _ = decoder(embedded_decoder)\n",
    "decoder_outputs = decoder_linear(decoder_outputs) \n",
    "print(decoder_outputs)\n",
    "# Define the model that will turn\n",
    "# `encoder_input_data` & `decoder_input_data` into `decoder_target_data`\n",
    "model = Model(encoder_inputs + decoder_inputs, decoder_outputs)"
   ]
  },
  {
   "cell_type": "code",
   "execution_count": 60,
   "metadata": {},
   "outputs": [
    {
     "name": "stdout",
     "output_type": "stream",
     "text": [
      "Train on 40 samples\n",
      "Epoch 1/100\n",
      "40/40 [==============================] - 4s 89ms/sample - loss: 4.5822 - accuracy: 0.0168\n",
      "Epoch 2/100\n",
      "40/40 [==============================] - 0s 6ms/sample - loss: 5.7914 - accuracy: 0.0370\n",
      "Epoch 3/100\n",
      "40/40 [==============================] - 0s 6ms/sample - loss: 5.4799 - accuracy: 0.0303\n",
      "Epoch 4/100\n",
      "40/40 [==============================] - 0s 6ms/sample - loss: 4.2856 - accuracy: 0.0319\n",
      "Epoch 5/100\n",
      "40/40 [==============================] - 0s 6ms/sample - loss: 4.6920 - accuracy: 0.0319\n",
      "Epoch 6/100\n",
      "40/40 [==============================] - 0s 6ms/sample - loss: 4.6179 - accuracy: 0.0303\n",
      "Epoch 7/100\n",
      "40/40 [==============================] - 0s 6ms/sample - loss: 4.5074 - accuracy: 0.0303\n",
      "Epoch 8/100\n",
      "40/40 [==============================] - 0s 6ms/sample - loss: 4.5094 - accuracy: 0.0319\n",
      "Epoch 9/100\n",
      "40/40 [==============================] - 0s 6ms/sample - loss: 5.5048 - accuracy: 0.0336\n",
      "Epoch 10/100\n",
      "40/40 [==============================] - 0s 6ms/sample - loss: 4.7836 - accuracy: 0.0353\n",
      "Epoch 11/100\n",
      "40/40 [==============================] - 0s 7ms/sample - loss: 5.8393 - accuracy: 0.0370\n",
      "Epoch 12/100\n",
      "40/40 [==============================] - 0s 6ms/sample - loss: 5.4854 - accuracy: 0.0353\n",
      "Epoch 13/100\n",
      "40/40 [==============================] - 0s 6ms/sample - loss: 4.7480 - accuracy: 0.0454\n",
      "Epoch 14/100\n",
      "40/40 [==============================] - 0s 6ms/sample - loss: 4.6474 - accuracy: 0.0387\n",
      "Epoch 15/100\n",
      "40/40 [==============================] - 0s 6ms/sample - loss: 4.5029 - accuracy: 0.0353\n",
      "Epoch 16/100\n",
      "40/40 [==============================] - 0s 7ms/sample - loss: 4.6500 - accuracy: 0.0437\n",
      "Epoch 17/100\n",
      "40/40 [==============================] - 0s 6ms/sample - loss: 5.1074 - accuracy: 0.0521\n",
      "Epoch 18/100\n",
      "40/40 [==============================] - 0s 6ms/sample - loss: 4.6994 - accuracy: 0.0571\n",
      "Epoch 19/100\n",
      "40/40 [==============================] - 0s 6ms/sample - loss: 5.6142 - accuracy: 0.0538\n",
      "Epoch 20/100\n",
      "40/40 [==============================] - 0s 8ms/sample - loss: 5.5002 - accuracy: 0.0555\n",
      "Epoch 21/100\n",
      "40/40 [==============================] - 0s 6ms/sample - loss: 5.0278 - accuracy: 0.0487\n",
      "Epoch 22/100\n",
      "40/40 [==============================] - 0s 6ms/sample - loss: 4.4268 - accuracy: 0.0370\n",
      "Epoch 23/100\n",
      "40/40 [==============================] - 0s 6ms/sample - loss: 4.5841 - accuracy: 0.0387\n",
      "Epoch 24/100\n",
      "40/40 [==============================] - 0s 6ms/sample - loss: 4.9010 - accuracy: 0.0387\n",
      "Epoch 25/100\n",
      "40/40 [==============================] - 0s 6ms/sample - loss: 4.4547 - accuracy: 0.0403\n",
      "Epoch 26/100\n",
      "40/40 [==============================] - 0s 6ms/sample - loss: 4.3431 - accuracy: 0.0403\n",
      "Epoch 27/100\n",
      "40/40 [==============================] - 0s 6ms/sample - loss: 4.2102 - accuracy: 0.0403\n",
      "Epoch 28/100\n",
      "40/40 [==============================] - 0s 6ms/sample - loss: 5.6380 - accuracy: 0.0403\n",
      "Epoch 29/100\n",
      "40/40 [==============================] - 0s 7ms/sample - loss: 4.3147 - accuracy: 0.0370\n",
      "Epoch 30/100\n",
      "40/40 [==============================] - 0s 7ms/sample - loss: 4.1735 - accuracy: 0.0387\n",
      "Epoch 31/100\n",
      "40/40 [==============================] - 0s 6ms/sample - loss: 4.5106 - accuracy: 0.0387\n",
      "Epoch 32/100\n",
      "40/40 [==============================] - 0s 6ms/sample - loss: 5.3502 - accuracy: 0.0403\n",
      "Epoch 33/100\n",
      "40/40 [==============================] - 0s 6ms/sample - loss: 4.9354 - accuracy: 0.0420\n",
      "Epoch 34/100\n",
      "40/40 [==============================] - 0s 6ms/sample - loss: 5.1300 - accuracy: 0.0387\n",
      "Epoch 35/100\n",
      "40/40 [==============================] - 0s 8ms/sample - loss: 5.7221 - accuracy: 0.0403\n",
      "Epoch 36/100\n",
      "40/40 [==============================] - 0s 8ms/sample - loss: 4.9919 - accuracy: 0.0387\n",
      "Epoch 37/100\n",
      "40/40 [==============================] - 0s 6ms/sample - loss: 5.3654 - accuracy: 0.0403\n",
      "Epoch 38/100\n",
      "40/40 [==============================] - 0s 8ms/sample - loss: 4.1410 - accuracy: 0.0403\n",
      "Epoch 39/100\n",
      "40/40 [==============================] - 0s 6ms/sample - loss: 5.0607 - accuracy: 0.0420\n",
      "Epoch 40/100\n",
      "40/40 [==============================] - 0s 6ms/sample - loss: 4.7713 - accuracy: 0.0403\n",
      "Epoch 41/100\n",
      "40/40 [==============================] - 0s 6ms/sample - loss: 5.2394 - accuracy: 0.0370\n",
      "Epoch 42/100\n",
      "40/40 [==============================] - 0s 6ms/sample - loss: 4.2980 - accuracy: 0.0403\n",
      "Epoch 43/100\n",
      "40/40 [==============================] - 0s 6ms/sample - loss: 4.1041 - accuracy: 0.0420\n",
      "Epoch 44/100\n",
      "40/40 [==============================] - 0s 6ms/sample - loss: 5.7944 - accuracy: 0.0403\n",
      "Epoch 45/100\n",
      "40/40 [==============================] - 0s 8ms/sample - loss: 4.3019 - accuracy: 0.0403\n",
      "Epoch 46/100\n",
      "40/40 [==============================] - 0s 8ms/sample - loss: 5.4852 - accuracy: 0.0403\n",
      "Epoch 47/100\n",
      "40/40 [==============================] - 0s 9ms/sample - loss: 4.5016 - accuracy: 0.0403\n",
      "Epoch 48/100\n",
      "40/40 [==============================] - 0s 7ms/sample - loss: 4.3902 - accuracy: 0.0403\n",
      "Epoch 49/100\n",
      "40/40 [==============================] - 0s 6ms/sample - loss: 4.2554 - accuracy: 0.0403\n",
      "Epoch 50/100\n",
      "40/40 [==============================] - 0s 6ms/sample - loss: 4.3748 - accuracy: 0.0403\n",
      "Epoch 51/100\n",
      "40/40 [==============================] - 0s 7ms/sample - loss: 4.2918 - accuracy: 0.0403\n",
      "Epoch 52/100\n",
      "40/40 [==============================] - 0s 8ms/sample - loss: 4.1515 - accuracy: 0.0403\n",
      "Epoch 53/100\n",
      "40/40 [==============================] - 0s 6ms/sample - loss: 4.8765 - accuracy: 0.0420\n",
      "Epoch 54/100\n",
      "40/40 [==============================] - 0s 6ms/sample - loss: 4.1856 - accuracy: 0.0387\n",
      "Epoch 55/100\n",
      "40/40 [==============================] - 0s 6ms/sample - loss: 4.2839 - accuracy: 0.0403\n",
      "Epoch 56/100\n",
      "40/40 [==============================] - 0s 6ms/sample - loss: 4.1888 - accuracy: 0.0387\n",
      "Epoch 57/100\n",
      "40/40 [==============================] - 0s 6ms/sample - loss: 4.3389 - accuracy: 0.0403\n",
      "Epoch 58/100\n",
      "40/40 [==============================] - 0s 6ms/sample - loss: 4.2873 - accuracy: 0.0403\n",
      "Epoch 59/100\n",
      "40/40 [==============================] - 0s 5ms/sample - loss: 4.0618 - accuracy: 0.0403\n",
      "Epoch 60/100\n",
      "40/40 [==============================] - 0s 7ms/sample - loss: 5.5337 - accuracy: 0.0420\n",
      "Epoch 61/100\n",
      "40/40 [==============================] - 0s 6ms/sample - loss: 4.3923 - accuracy: 0.0403\n",
      "Epoch 62/100\n",
      "40/40 [==============================] - 0s 6ms/sample - loss: 5.5365 - accuracy: 0.0403\n",
      "Epoch 63/100\n",
      "40/40 [==============================] - 0s 5ms/sample - loss: 3.9156 - accuracy: 0.0403\n",
      "Epoch 64/100\n",
      "40/40 [==============================] - 0s 7ms/sample - loss: 4.8617 - accuracy: 0.0420\n",
      "Epoch 65/100\n",
      "40/40 [==============================] - 0s 6ms/sample - loss: 5.5862 - accuracy: 0.0403\n",
      "Epoch 66/100\n",
      "40/40 [==============================] - 0s 5ms/sample - loss: 4.1446 - accuracy: 0.0403\n",
      "Epoch 67/100\n",
      "40/40 [==============================] - 0s 7ms/sample - loss: 5.5808 - accuracy: 0.0403\n",
      "Epoch 68/100\n",
      "40/40 [==============================] - 0s 6ms/sample - loss: 4.2395 - accuracy: 0.0454\n",
      "Epoch 69/100\n",
      "40/40 [==============================] - 0s 8ms/sample - loss: 4.0110 - accuracy: 0.0403\n",
      "Epoch 70/100\n",
      "40/40 [==============================] - 0s 6ms/sample - loss: 5.5788 - accuracy: 0.0437\n",
      "Epoch 71/100\n",
      "40/40 [==============================] - 0s 7ms/sample - loss: 4.9514 - accuracy: 0.0420\n",
      "Epoch 72/100\n",
      "40/40 [==============================] - 0s 8ms/sample - loss: 5.1592 - accuracy: 0.0454\n",
      "Epoch 73/100\n",
      "40/40 [==============================] - 0s 6ms/sample - loss: 4.0827 - accuracy: 0.0454\n",
      "Epoch 74/100\n",
      "40/40 [==============================] - 0s 6ms/sample - loss: 5.5337 - accuracy: 0.0420\n",
      "Epoch 75/100\n",
      "40/40 [==============================] - 0s 6ms/sample - loss: 5.2221 - accuracy: 0.0437\n",
      "Epoch 76/100\n",
      "40/40 [==============================] - 0s 7ms/sample - loss: 5.2009 - accuracy: 0.0420\n",
      "Epoch 77/100\n",
      "40/40 [==============================] - 0s 8ms/sample - loss: 4.0200 - accuracy: 0.0471\n",
      "Epoch 78/100\n",
      "40/40 [==============================] - 0s 6ms/sample - loss: 5.0054 - accuracy: 0.0471\n",
      "Epoch 79/100\n",
      "40/40 [==============================] - 0s 5ms/sample - loss: 4.8846 - accuracy: 0.0471\n",
      "Epoch 80/100\n",
      "40/40 [==============================] - 0s 7ms/sample - loss: 4.6070 - accuracy: 0.0471\n",
      "Epoch 81/100\n",
      "40/40 [==============================] - 0s 7ms/sample - loss: 4.3689 - accuracy: 0.0471\n",
      "Epoch 82/100\n",
      "40/40 [==============================] - 0s 6ms/sample - loss: 4.5421 - accuracy: 0.0471\n",
      "Epoch 83/100\n",
      "40/40 [==============================] - 0s 7ms/sample - loss: 4.1674 - accuracy: 0.0471\n",
      "Epoch 84/100\n",
      "40/40 [==============================] - 0s 6ms/sample - loss: 5.1997 - accuracy: 0.0471\n",
      "Epoch 85/100\n",
      "40/40 [==============================] - 0s 6ms/sample - loss: 5.1282 - accuracy: 0.0487\n",
      "Epoch 86/100\n",
      "40/40 [==============================] - 0s 6ms/sample - loss: 4.0701 - accuracy: 0.0454\n",
      "Epoch 87/100\n",
      "40/40 [==============================] - 0s 6ms/sample - loss: 4.4558 - accuracy: 0.0454\n",
      "Epoch 88/100\n",
      "40/40 [==============================] - 0s 6ms/sample - loss: 4.9871 - accuracy: 0.0387\n",
      "Epoch 89/100\n",
      "40/40 [==============================] - 0s 6ms/sample - loss: 5.3187 - accuracy: 0.0403\n",
      "Epoch 90/100\n",
      "40/40 [==============================] - 0s 6ms/sample - loss: 5.3623 - accuracy: 0.0454\n",
      "Epoch 91/100\n",
      "40/40 [==============================] - 0s 7ms/sample - loss: 4.2473 - accuracy: 0.0471\n",
      "Epoch 92/100\n",
      "40/40 [==============================] - 0s 6ms/sample - loss: 4.8179 - accuracy: 0.0471\n",
      "Epoch 93/100\n",
      "40/40 [==============================] - 0s 9ms/sample - loss: 4.5606 - accuracy: 0.0454\n",
      "Epoch 94/100\n",
      "40/40 [==============================] - 0s 9ms/sample - loss: 5.0696 - accuracy: 0.0454\n",
      "Epoch 95/100\n",
      "40/40 [==============================] - 0s 7ms/sample - loss: 5.5322 - accuracy: 0.0454\n",
      "Epoch 96/100\n",
      "40/40 [==============================] - 0s 6ms/sample - loss: 4.4203 - accuracy: 0.0420\n",
      "Epoch 97/100\n",
      "40/40 [==============================] - 0s 6ms/sample - loss: 4.8260 - accuracy: 0.0487\n",
      "Epoch 98/100\n",
      "40/40 [==============================] - 0s 8ms/sample - loss: 4.1102 - accuracy: 0.0471\n",
      "Epoch 99/100\n",
      "40/40 [==============================] - 0s 6ms/sample - loss: 5.4022 - accuracy: 0.0521\n",
      "Epoch 100/100\n",
      "40/40 [==============================] - 0s 6ms/sample - loss: 5.3095 - accuracy: 0.0588\n"
     ]
    },
    {
     "data": {
      "text/plain": [
       "<tensorflow.python.keras.callbacks.History at 0x7f35a2f22c50>"
      ]
     },
     "execution_count": 60,
     "metadata": {},
     "output_type": "execute_result"
    }
   ],
   "source": [
    "model.compile(optimizer='rmsprop', loss='categorical_crossentropy',\n",
    "              metrics=['accuracy'])\n",
    "model.fit(encoder_decoder_model_input, to_categorical(encoder_decoder_model_output), epochs=epochs)"
   ]
  },
  {
   "cell_type": "code",
   "execution_count": 65,
   "metadata": {},
   "outputs": [
    {
     "data": {
      "text/plain": [
       "array([ 7, 19,  6,  6,  6,  6,  6,  6,  6,  6,  6,  6,  6,  6,  6,  6,  6,\n",
       "        6,  6,  6,  6,  6,  6,  6,  6,  6,  6,  6])"
      ]
     },
     "execution_count": 65,
     "metadata": {},
     "output_type": "execute_result"
    }
   ],
   "source": [
    "prediction = model.predict(encoder_decoder_model_input)\n",
    "np.argmax(prediction[5], axis=-1)"
   ]
  }
 ],
 "metadata": {
  "kernelspec": {
   "display_name": "Python 3",
   "language": "python",
   "name": "python3"
  },
  "language_info": {
   "codemirror_mode": {
    "name": "ipython",
    "version": 3
   },
   "file_extension": ".py",
   "mimetype": "text/x-python",
   "name": "python",
   "nbconvert_exporter": "python",
   "pygments_lexer": "ipython3",
   "version": "3.7.5"
  }
 },
 "nbformat": 4,
 "nbformat_minor": 4
}
