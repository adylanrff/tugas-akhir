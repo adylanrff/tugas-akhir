{
 "cells": [
  {
   "cell_type": "code",
   "execution_count": 1,
   "metadata": {},
   "outputs": [],
   "source": [
    "import os\n",
    "import sys\n",
    "module_path = os.path.abspath(os.path.join('..'))\n",
    "if module_path not in sys.path:\n",
    "    sys.path.append(module_path)"
   ]
  },
  {
   "cell_type": "code",
   "execution_count": 2,
   "metadata": {},
   "outputs": [
    {
     "name": "stderr",
     "output_type": "stream",
     "text": [
      "[2020-02-12 22:33:08,864 INFO] Better speed can be achieved with apex installed from https://www.github.com/nvidia/apex .\n",
      "Using TensorFlow backend.\n"
     ]
    }
   ],
   "source": [
    "import numpy as np\n",
    "\n",
    "from stog.utils.params import Params\n",
    "from stog.data.dataset_builder import dataset_from_params, iterator_from_params\n",
    "from stog.data.vocabulary import Vocabulary\n",
    "from stog.training.trainer import Trainer\n",
    "from stog.data.dataset import Batch\n",
    "from model.text_to_amr import TextToAMR\n",
    "\n",
    "from keras.layers import Embedding, Input, Dense, Flatten, LSTM, concatenate\n",
    "from keras.models import Model\n",
    "from keras.utils import plot_model\n",
    "from keras.losses import MeanSquaredError"
   ]
  },
  {
   "cell_type": "code",
   "execution_count": 3,
   "metadata": {},
   "outputs": [
    {
     "name": "stderr",
     "output_type": "stream",
     "text": [
      "/home/adylanrff/Documents/Kuliah/TA/amr_parser/stog/utils/params.py:104: YAMLLoadWarning: calling yaml.load() without Loader=... is deprecated, as the default Loader is unsafe. Please read https://msg.pyyaml.org/load for full details.\n",
      "  dict_merge.dict_merge(params_dict, yaml.load(f))\n"
     ]
    }
   ],
   "source": [
    "params = Params.from_file(\"../model/model_params.yaml\")"
   ]
  },
  {
   "cell_type": "code",
   "execution_count": 4,
   "metadata": {},
   "outputs": [
    {
     "name": "stderr",
     "output_type": "stream",
     "text": [
      "[2020-02-12 22:33:10,420 INFO] Building train datasets ...\n",
      "[2020-02-12 22:33:10,421 ERROR] Model name 'data/bert-base-cased/bert-base-cased-vocab.txt' was not found in model name list (bert-base-uncased, bert-large-uncased, bert-base-cased, bert-large-cased, bert-base-multilingual-uncased, bert-base-multilingual-cased, bert-base-chinese). We assumed 'data/bert-base-cased/bert-base-cased-vocab.txt' was a path or url but couldn't find any file associated to this path or url.\n",
      "0it [00:00, ?it/s][2020-02-12 22:33:10,423 INFO] Reading instances from lines in file at: ../data/raw/amr.txt.features\n",
      "[2020-02-12 22:33:10,499 INFO] POS tag coverage: 0.3087 (184/596)\n",
      "40it [00:00, 518.54it/s]\n",
      "[2020-02-12 22:33:10,501 INFO] Building dev datasets ...\n",
      "[2020-02-12 22:33:10,502 ERROR] Model name 'data/bert-base-cased/bert-base-cased-vocab.txt' was not found in model name list (bert-base-uncased, bert-large-uncased, bert-base-cased, bert-large-cased, bert-base-multilingual-uncased, bert-base-multilingual-cased, bert-base-chinese). We assumed 'data/bert-base-cased/bert-base-cased-vocab.txt' was a path or url but couldn't find any file associated to this path or url.\n",
      "0it [00:00, ?it/s][2020-02-12 22:33:10,504 INFO] Reading instances from lines in file at: ../data/raw/amr.txt.features\n",
      "[2020-02-12 22:33:10,575 INFO] POS tag coverage: 0.3087 (184/596)\n",
      "40it [00:00, 558.43it/s]\n",
      "[2020-02-12 22:33:10,576 INFO] Building test datasets ...\n",
      "[2020-02-12 22:33:10,577 ERROR] Model name 'data/bert-base-cased/bert-base-cased-vocab.txt' was not found in model name list (bert-base-uncased, bert-large-uncased, bert-base-cased, bert-large-cased, bert-base-multilingual-uncased, bert-base-multilingual-cased, bert-base-chinese). We assumed 'data/bert-base-cased/bert-base-cased-vocab.txt' was a path or url but couldn't find any file associated to this path or url.\n",
      "0it [00:00, ?it/s][2020-02-12 22:33:10,578 INFO] Reading instances from lines in file at: ../data/raw/amr.txt.features\n",
      "[2020-02-12 22:33:10,646 INFO] POS tag coverage: 0.3087 (184/596)\n",
      "40it [00:00, 570.30it/s]\n"
     ]
    }
   ],
   "source": [
    "data_params = params['data']\n",
    "dataset = dataset_from_params(data_params)"
   ]
  },
  {
   "cell_type": "code",
   "execution_count": 5,
   "metadata": {},
   "outputs": [],
   "source": [
    "train_data = dataset['train']\n",
    "dev_data = dataset.get('dev')\n",
    "test_data = dataset.get('test')"
   ]
  },
  {
   "cell_type": "code",
   "execution_count": 6,
   "metadata": {},
   "outputs": [
    {
     "name": "stderr",
     "output_type": "stream",
     "text": [
      "[2020-02-12 22:33:10,674 INFO] Fitting token dictionary from dataset.\n",
      "100%|██████████| 40/40 [00:00<00:00, 2356.02it/s]\n",
      "[2020-02-12 22:33:10,698 WARNING] vocabulary serialization directory ../data/processed/serialization is not empty\n"
     ]
    },
    {
     "name": "stdout",
     "output_type": "stream",
     "text": [
      "src_tokens\n",
      "   encoder_tokens\n",
      "   encoder_characters\n",
      "src_must_copy_tags\n",
      "tgt_tokens\n",
      "   decoder_tokens\n",
      "   decoder_characters\n",
      "src_pos_tags\n",
      "tgt_pos_tags\n",
      "tgt_copy_indices\n",
      "tgt_copy_mask\n",
      "tgt_copy_map\n",
      "src_copy_indices\n",
      "src_copy_map\n",
      "head_tags\n",
      "head_indices\n"
     ]
    }
   ],
   "source": [
    "vocab_params = params.get('vocab', {})\n",
    "vocab = Vocabulary.from_instances(instances=train_data, **vocab_params)\n",
    "vocab.save_to_files(\"../data/processed/serialization\")\n",
    "\n",
    "dataset = Batch(train_data)\n",
    "dataset.index_instances(vocab)\n",
    "dataset.index_instances(vocab)\n",
    "\n",
    "# print(dataset.as_tensor_dict()['src_tokens']['encoder_tokens'][1].numpy())\n",
    "# print(dataset.as_tensor_dict()['tgt_tokens']['decoder_tokens'][1].numpy())\n",
    "# print(dataset.get_padding_lengths())\n",
    "# print(dataset.as_tensor_dict())\n",
    "\n",
    "for key in dataset.as_tensor_dict():\n",
    "    print(key)\n",
    "    content = dataset.as_tensor_dict()[key]\n",
    "    if isinstance(content, dict):\n",
    "        for inner_key in content:\n",
    "            print(\"  \", inner_key)\n",
    "\n",
    "train_iterator, dev_iterater, test_iterater = iterator_from_params(vocab, data_params['iterator'])\n",
    "\n",
    "train_dataset = Batch(train_data)\n",
    "train_dataset.index_instances(vocab)\n",
    "\n",
    "test_dataset = Batch(test_data)\n",
    "test_dataset.index_instances(vocab)\n",
    "\n",
    "train_dataset = train_dataset.as_tensor_dict()\n",
    "test_dataset = test_dataset.as_tensor_dict()"
   ]
  },
  {
   "cell_type": "code",
   "execution_count": 7,
   "metadata": {},
   "outputs": [
    {
     "name": "stdout",
     "output_type": "stream",
     "text": [
      "Vocabulary with namespaces:\n",
      " \tNon Padded Namespaces: {'must_copy_tags', 'coref_tags'}\n",
      " \tNamespace: encoder_token_ids, Size: 334 \n",
      " \tNamespace: encoder_token_characters, Size: 39 \n",
      " \tNamespace: decoder_token_ids, Size: 283 \n",
      " \tNamespace: decoder_token_characters, Size: 65 \n",
      " \tNamespace: pos_tags, Size: 16 \n",
      " \tNamespace: head_tags, Size: 35 \n",
      "\n"
     ]
    }
   ],
   "source": [
    "print(vocab)"
   ]
  },
  {
   "cell_type": "markdown",
   "metadata": {},
   "source": [
    "## Test Model"
   ]
  },
  {
   "cell_type": "code",
   "execution_count": 8,
   "metadata": {},
   "outputs": [
    {
     "name": "stderr",
     "output_type": "stream",
     "text": [
      "[2020-02-12 22:33:11,157 WARNING] From /home/linuxbrew/.linuxbrew/opt/python/lib/python3.7/site-packages/tensorflow_core/python/ops/resource_variable_ops.py:1630: calling BaseResourceVariable.__init__ (from tensorflow.python.ops.resource_variable_ops) with constraint is deprecated and will be removed in a future version.\n",
      "Instructions for updating:\n",
      "If using Keras pass *_constraint arguments to layers.\n"
     ]
    }
   ],
   "source": [
    "text_to_amr = TextToAMR(vocab)\n",
    "model = text_to_amr.model\n",
    "model.compile(optimizer='rmsprop', loss=\"mean_squared_error\")"
   ]
  },
  {
   "cell_type": "code",
   "execution_count": 9,
   "metadata": {},
   "outputs": [
    {
     "name": "stdout",
     "output_type": "stream",
     "text": [
      "Model: \"model_1\"\n",
      "__________________________________________________________________________________________________\n",
      "Layer (type)                    Output Shape         Param #     Connected to                     \n",
      "==================================================================================================\n",
      "token_encoder_input (InputLayer (None, 25)           0                                            \n",
      "__________________________________________________________________________________________________\n",
      "pos_encoder_input (InputLayer)  (None, 25)           0                                            \n",
      "__________________________________________________________________________________________________\n",
      "glove_embedding_1 (GloveEmbeddi (None, 25, 100)      33400       token_encoder_input[0][0]        \n",
      "__________________________________________________________________________________________________\n",
      "embedding_1 (Embedding)         (None, 25, 100)      1600        pos_encoder_input[0][0]          \n",
      "__________________________________________________________________________________________________\n",
      "token_decoder_input (InputLayer (None, 28)           0                                            \n",
      "__________________________________________________________________________________________________\n",
      "pos_decoder_input (InputLayer)  (None, 28)           0                                            \n",
      "__________________________________________________________________________________________________\n",
      "concatenate_1 (Concatenate)     (None, 25, 200)      0           glove_embedding_1[0][0]          \n",
      "                                                                 embedding_1[0][0]                \n",
      "__________________________________________________________________________________________________\n",
      "glove_embedding_2 (GloveEmbeddi (None, 28, 100)      28300       token_decoder_input[0][0]        \n",
      "__________________________________________________________________________________________________\n",
      "embedding_2 (Embedding)         (None, 28, 100)      1600        pos_decoder_input[0][0]          \n",
      "__________________________________________________________________________________________________\n",
      "bidirectional_1 (Bidirectional) [(None, 25, 400), (N 641600      concatenate_1[0][0]              \n",
      "__________________________________________________________________________________________________\n",
      "concatenate_2 (Concatenate)     (None, 28, 200)      0           glove_embedding_2[0][0]          \n",
      "                                                                 embedding_2[0][0]                \n",
      "__________________________________________________________________________________________________\n",
      "concatenate_3 (Concatenate)     (None, 400)          0           bidirectional_1[0][1]            \n",
      "                                                                 bidirectional_1[0][3]            \n",
      "__________________________________________________________________________________________________\n",
      "concatenate_4 (Concatenate)     (None, 400)          0           bidirectional_1[0][2]            \n",
      "                                                                 bidirectional_1[0][4]            \n",
      "__________________________________________________________________________________________________\n",
      "lstm_2 (LSTM)                   [(None, 28, 400), (N 961600      concatenate_2[0][0]              \n",
      "                                                                 concatenate_3[0][0]              \n",
      "                                                                 concatenate_4[0][0]              \n",
      "__________________________________________________________________________________________________\n",
      "flatten_1 (Flatten)             (None, 11200)        0           lstm_2[0][0]                     \n",
      "__________________________________________________________________________________________________\n",
      "dense_1 (Dense)                 (None, 1)            11201       flatten_1[0][0]                  \n",
      "==================================================================================================\n",
      "Total params: 1,679,301\n",
      "Trainable params: 1,617,601\n",
      "Non-trainable params: 61,700\n",
      "__________________________________________________________________________________________________\n"
     ]
    }
   ],
   "source": [
    "model.summary()"
   ]
  },
  {
   "cell_type": "code",
   "execution_count": 10,
   "metadata": {},
   "outputs": [
    {
     "data": {
      "image/png": "[encoded data removed]",
      "text/plain": [
       "<IPython.core.display.Image object>"
      ]
     },
     "execution_count": 10,
     "metadata": {},
     "output_type": "execute_result"
    }
   ],
   "source": [
    "plot_model(model)"
   ]
  },
  {
   "cell_type": "code",
   "execution_count": 11,
   "metadata": {},
   "outputs": [],
   "source": [
    "encoder_input, decoder_input = text_to_amr.prepare_input(train_dataset)"
   ]
  },
  {
   "cell_type": "code",
   "execution_count": 13,
   "metadata": {},
   "outputs": [
    {
     "name": "stdout",
     "output_type": "stream",
     "text": [
      "Epoch 1/10\n",
      "40/40 [==============================] - 0s 9ms/step - loss: 30.7261\n",
      "Epoch 2/10\n",
      "40/40 [==============================] - 0s 8ms/step - loss: 0.2047\n",
      "Epoch 3/10\n",
      "40/40 [==============================] - 0s 9ms/step - loss: 0.1282\n",
      "Epoch 4/10\n",
      "40/40 [==============================] - 0s 9ms/step - loss: 0.0772\n",
      "Epoch 5/10\n",
      "40/40 [==============================] - 0s 9ms/step - loss: 0.0459\n",
      "Epoch 6/10\n",
      "40/40 [==============================] - 0s 11ms/step - loss: 0.0308\n",
      "Epoch 7/10\n",
      "40/40 [==============================] - 0s 9ms/step - loss: 0.0254\n",
      "Epoch 8/10\n",
      "40/40 [==============================] - 0s 8ms/step - loss: 0.0232\n",
      "Epoch 9/10\n",
      "40/40 [==============================] - 0s 10ms/step - loss: 0.0211\n",
      "Epoch 10/10\n",
      "40/40 [==============================] - 0s 9ms/step - loss: 0.0213\n"
     ]
    },
    {
     "data": {
      "text/plain": [
       "<keras.callbacks.callbacks.History at 0x7f58ed69df50>"
      ]
     },
     "execution_count": 13,
     "metadata": {},
     "output_type": "execute_result"
    }
   ],
   "source": [
    "\n",
    "token_encoder_input = encoder_input.get('token').numpy()\n",
    "pos_encoder_input = encoder_input.get('pos_tag').numpy()\n",
    "token_decoder_input = decoder_input.get('token').numpy()\n",
    "pos_decoder_input = decoder_input.get('pos_tag').numpy()\n",
    "\n",
    "model_input = [token_encoder_input, pos_encoder_input, token_decoder_input, pos_decoder_input]\n",
    "model.fit(model_input, [1 for _ in range(len(model_input[0]))], epochs=10)"
   ]
  },
  {
   "cell_type": "code",
   "execution_count": 14,
   "metadata": {},
   "outputs": [
    {
     "data": {
      "text/plain": [
       "array([[0.96392125],\n",
       "       [0.9643069 ],\n",
       "       [1.0293987 ],\n",
       "       [1.0396862 ],\n",
       "       [1.0576358 ],\n",
       "       [1.0293806 ],\n",
       "       [0.97784716],\n",
       "       [0.6372025 ],\n",
       "       [0.8563642 ],\n",
       "       [0.99410665],\n",
       "       [0.53456503],\n",
       "       [0.94862187],\n",
       "       [0.99534327],\n",
       "       [0.9508408 ],\n",
       "       [0.9255717 ],\n",
       "       [0.86808795],\n",
       "       [0.5114711 ],\n",
       "       [1.0021183 ],\n",
       "       [1.0053271 ],\n",
       "       [1.0722044 ],\n",
       "       [1.019841  ],\n",
       "       [1.0633816 ],\n",
       "       [0.80477065],\n",
       "       [0.7835452 ],\n",
       "       [0.95638317],\n",
       "       [1.0020767 ],\n",
       "       [0.90810084],\n",
       "       [0.9841866 ],\n",
       "       [1.0592308 ],\n",
       "       [1.0352436 ],\n",
       "       [1.0422039 ],\n",
       "       [0.98826104],\n",
       "       [1.011428  ],\n",
       "       [0.99178064],\n",
       "       [0.9744502 ],\n",
       "       [1.030625  ],\n",
       "       [0.8824213 ],\n",
       "       [1.0149896 ],\n",
       "       [1.0253288 ],\n",
       "       [1.0010474 ]], dtype=float32)"
      ]
     },
     "execution_count": 14,
     "metadata": {},
     "output_type": "execute_result"
    }
   ],
   "source": []
  },
  {
   "cell_type": "code",
   "execution_count": null,
   "metadata": {},
   "outputs": [],
   "source": []
  }
 ],
 "metadata": {
  "kernelspec": {
   "display_name": "Python 3",
   "language": "python",
   "name": "python3"
  },
  "language_info": {
   "codemirror_mode": {
    "name": "ipython",
    "version": 3
   },
   "file_extension": ".py",
   "mimetype": "text/x-python",
   "name": "python",
   "nbconvert_exporter": "python",
   "pygments_lexer": "ipython3",
   "version": "3.7.5"
  }
 },
 "nbformat": 4,
 "nbformat_minor": 4
}
