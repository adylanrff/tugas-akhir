{
 "cells": [
  {
   "cell_type": "code",
   "execution_count": 1,
   "metadata": {},
   "outputs": [
    {
     "data": {
      "text/plain": [
       "True"
      ]
     },
     "execution_count": 1,
     "metadata": {},
     "output_type": "execute_result"
    }
   ],
   "source": [
    "import tensorflow as tf\n",
    "tf.executing_eagerly()"
   ]
  },
  {
   "cell_type": "code",
   "execution_count": 2,
   "metadata": {},
   "outputs": [],
   "source": [
    "import os\n",
    "import sys\n",
    "module_path = os.path.abspath(os.path.join('..'))\n",
    "if module_path not in sys.path:\n",
    "    sys.path.append(module_path)"
   ]
  },
  {
   "cell_type": "code",
   "execution_count": 3,
   "metadata": {},
   "outputs": [
    {
     "name": "stderr",
     "output_type": "stream",
     "text": [
      "[2020-03-24 15:35:57,938 INFO] Better speed can be achieved with apex installed from https://www.github.com/nvidia/apex .\n"
     ]
    }
   ],
   "source": [
    "import numpy as np\n",
    "import matplotlib.pyplot as plt\n",
    "plt.rcParams['figure.figsize'] = [15, 10]\n",
    "\n",
    "from stog.utils.params import Params\n",
    "from stog.data.dataset_builder import dataset_from_params, iterator_from_params\n",
    "from stog.data.vocabulary import Vocabulary\n",
    "from stog.training.trainer import Trainer\n",
    "from stog.data.dataset import Batch\n",
    "from model.text_to_amr import TextToAMR\n",
    "\n",
    "from tensorflow.keras.layers import Embedding, Input, Dense, Flatten, LSTM, concatenate\n",
    "from tensorflow.keras.models import Model\n",
    "from tensorflow.keras.utils import plot_model\n",
    "from tensorflow.keras.losses import MeanSquaredError"
   ]
  },
  {
   "cell_type": "code",
   "execution_count": 4,
   "metadata": {},
   "outputs": [
    {
     "name": "stderr",
     "output_type": "stream",
     "text": [
      "/home/adylanrff/Documents/Kuliah/TA/amr_parser/stog/utils/params.py:104: YAMLLoadWarning: calling yaml.load() without Loader=... is deprecated, as the default Loader is unsafe. Please read https://msg.pyyaml.org/load for full details.\n",
      "  dict_merge.dict_merge(params_dict, yaml.load(f))\n"
     ]
    }
   ],
   "source": [
    "params = Params.from_file(\"../model/model_params.yaml\")"
   ]
  },
  {
   "cell_type": "code",
   "execution_count": 5,
   "metadata": {},
   "outputs": [
    {
     "name": "stderr",
     "output_type": "stream",
     "text": [
      "[2020-03-24 15:35:58,022 ERROR] Model name 'data/bert-base-cased/bert-base-cased-vocab.txt' was not found in model name list (bert-base-uncased, bert-large-uncased, bert-base-cased, bert-large-cased, bert-base-multilingual-uncased, bert-base-multilingual-cased, bert-base-chinese). We assumed 'data/bert-base-cased/bert-base-cased-vocab.txt' was a path or url but couldn't find any file associated to this path or url.\n",
      "0it [00:00, ?it/s][2020-03-24 15:35:58,024 INFO] Reading instances from lines in file at: ../data/raw/amr.txt.features\n",
      "[2020-03-24 15:35:58,089 INFO] POS tag coverage: 0.3087 (184/596)\n",
      "40it [00:00, 613.27it/s]\n",
      "[2020-03-24 15:35:58,090 ERROR] Model name 'data/bert-base-cased/bert-base-cased-vocab.txt' was not found in model name list (bert-base-uncased, bert-large-uncased, bert-base-cased, bert-large-cased, bert-base-multilingual-uncased, bert-base-multilingual-cased, bert-base-chinese). We assumed 'data/bert-base-cased/bert-base-cased-vocab.txt' was a path or url but couldn't find any file associated to this path or url.\n",
      "0it [00:00, ?it/s][2020-03-24 15:35:58,092 INFO] Reading instances from lines in file at: ../data/raw/amr.txt.features\n",
      "[2020-03-24 15:35:58,150 INFO] POS tag coverage: 0.3087 (184/596)\n",
      "40it [00:00, 677.91it/s]\n",
      "[2020-03-24 15:35:58,152 ERROR] Model name 'data/bert-base-cased/bert-base-cased-vocab.txt' was not found in model name list (bert-base-uncased, bert-large-uncased, bert-base-cased, bert-large-cased, bert-base-multilingual-uncased, bert-base-multilingual-cased, bert-base-chinese). We assumed 'data/bert-base-cased/bert-base-cased-vocab.txt' was a path or url but couldn't find any file associated to this path or url.\n",
      "0it [00:00, ?it/s][2020-03-24 15:35:58,153 INFO] Reading instances from lines in file at: ../data/raw/amr.txt.features\n",
      "[2020-03-24 15:35:58,210 INFO] POS tag coverage: 0.3087 (184/596)\n",
      "40it [00:00, 686.88it/s]"
     ]
    },
    {
     "name": "stdout",
     "output_type": "stream",
     "text": [
      "Building train datasets ...\n",
      "False\n",
      "Building dev datasets ...\n",
      "False\n",
      "Building test datasets ...\n",
      "False\n"
     ]
    },
    {
     "name": "stderr",
     "output_type": "stream",
     "text": [
      "\n"
     ]
    }
   ],
   "source": [
    "data_params = params['data']\n",
    "dataset = dataset_from_params(data_params)"
   ]
  },
  {
   "cell_type": "code",
   "execution_count": 6,
   "metadata": {},
   "outputs": [],
   "source": [
    "train_data = dataset['train']\n",
    "dev_data = dataset.get('dev')\n",
    "test_data = dataset.get('test')"
   ]
  },
  {
   "cell_type": "code",
   "execution_count": 7,
   "metadata": {},
   "outputs": [
    {
     "name": "stderr",
     "output_type": "stream",
     "text": [
      "[2020-03-24 15:35:58,245 INFO] Fitting token dictionary from dataset.\n",
      "100%|██████████| 40/40 [00:00<00:00, 2904.49it/s]\n",
      "[2020-03-24 15:35:58,266 WARNING] vocabulary serialization directory ../data/processed/serialization is not empty\n"
     ]
    },
    {
     "name": "stdout",
     "output_type": "stream",
     "text": [
      "<stog.data.dataset.Batch object at 0x7f84bbc65590>\n",
      "src_tokens\n",
      "   encoder_tokens\n",
      "   encoder_characters\n",
      "src_must_copy_tags\n",
      "tgt_tokens\n",
      "   decoder_tokens\n",
      "   decoder_characters\n",
      "src_pos_tags\n",
      "tgt_pos_tags\n",
      "tgt_copy_indices\n",
      "tgt_copy_mask\n",
      "tgt_copy_map\n",
      "src_copy_indices\n",
      "src_copy_map\n",
      "head_tags\n",
      "head_indices\n"
     ]
    }
   ],
   "source": [
    "vocab_params = params.get('vocab', {})\n",
    "vocab = Vocabulary.from_instances(instances=train_data, **vocab_params)\n",
    "vocab.save_to_files(\"../data/processed/serialization\")\n",
    "\n",
    "dataset = Batch(train_data)\n",
    "dataset.index_instances(vocab)\n",
    "dataset.index_instances(vocab)\n",
    "print(dataset)\n",
    "\n",
    "\n",
    "for key in dataset.as_tensor_dict():\n",
    "    print(key)\n",
    "    content = dataset.as_tensor_dict()[key]\n",
    "    if isinstance(content, dict):\n",
    "        for inner_key in content:\n",
    "            print(\"  \", inner_key)\n",
    "\n",
    "train_iterator, dev_iterater, test_iterater = iterator_from_params(vocab, data_params['iterator'])\n",
    "\n",
    "train_dataset = Batch(train_data)\n",
    "train_dataset.index_instances(vocab)\n",
    "\n",
    "test_dataset = Batch(test_data)\n",
    "test_dataset.index_instances(vocab)\n",
    "\n",
    "train_dataset = train_dataset.as_tensor_dict()\n",
    "test_dataset = test_dataset.as_tensor_dict()"
   ]
  },
  {
   "cell_type": "code",
   "execution_count": 8,
   "metadata": {},
   "outputs": [],
   "source": [
    "def create_model_input(encoder_input, decoder_input, generator_input, parser_input):\n",
    "    token_encoder_input = encoder_input.get('token')\n",
    "    pos_encoder_input = encoder_input.get('pos_tag')\n",
    "    mask_encoder_input = encoder_input.get('mask')\n",
    "    token_decoder_input = decoder_input.get('token')\n",
    "    pos_decoder_input = decoder_input.get('pos_tag')\n",
    "\n",
    "    copy_attention_map_input = generator_input.get('copy_attention_maps')\n",
    "    coref_attention_map_input = generator_input.get('coref_attention_maps')\n",
    "    vocab_target_input  = generator_input.get('vocab_targets')\n",
    "    coref_target_input  = generator_input.get('coref_targets')\n",
    "    copy_target_input  = generator_input.get('copy_targets')\n",
    "\n",
    "    edge_heads_input = parser_input.get('edge_heads')\n",
    "    edge_labels_input = parser_input.get('edge_labels')\n",
    "    parser_mask_input = parser_input.get('mask')\n",
    "    coref_input = parser_input.get('corefs')\n",
    "\n",
    "\n",
    "    # token_encoder_input, \n",
    "    # pos_encoder_input, \n",
    "    # token_decoder_input, \n",
    "    # pos_decoder_input, \n",
    "    # copy_attention_maps_input, \n",
    "    # coref_attention_maps_input,\n",
    "    # mask_input,\n",
    "    # edge_heads_input,\n",
    "    # edge_labels_input,\n",
    "    # corefs_input,\n",
    "\n",
    "    model_input = [\n",
    "        token_encoder_input, \n",
    "        pos_encoder_input, \n",
    "        token_decoder_input, \n",
    "        pos_decoder_input, \n",
    "        copy_attention_map_input, \n",
    "        coref_attention_map_input,\n",
    "        parser_mask_input, \n",
    "        edge_heads_input,\n",
    "        edge_labels_input,\n",
    "        coref_input,\n",
    "        vocab_target_input,\n",
    "        coref_target_input,\n",
    "        copy_target_input\n",
    "    ]\n",
    "    \n",
    "    return model_input\n"
   ]
  },
  {
   "cell_type": "code",
   "execution_count": 9,
   "metadata": {},
   "outputs": [
    {
     "name": "stdout",
     "output_type": "stream",
     "text": [
      "Vocabulary with namespaces:\n",
      " \tNon Padded Namespaces: {'must_copy_tags', 'coref_tags'}\n",
      " \tNamespace: encoder_token_ids, Size: 334 \n",
      " \tNamespace: encoder_token_characters, Size: 39 \n",
      " \tNamespace: decoder_token_ids, Size: 283 \n",
      " \tNamespace: decoder_token_characters, Size: 65 \n",
      " \tNamespace: pos_tags, Size: 16 \n",
      " \tNamespace: head_tags, Size: 35 \n",
      "\n"
     ]
    }
   ],
   "source": [
    "print(vocab)"
   ]
  },
  {
   "cell_type": "markdown",
   "metadata": {},
   "source": [
    "###### Test Model"
   ]
  },
  {
   "cell_type": "code",
   "execution_count": 10,
   "metadata": {},
   "outputs": [
    {
     "name": "stdout",
     "output_type": "stream",
     "text": [
      "ENCODER_INPUT\n",
      "bert_token: None\n",
      "token_subword_index: None\n",
      "token: (40, 25)\n",
      "pos_tag: (40, 25)\n",
      "must_copy_tag: (40, 25)\n",
      "char: (40, 25, 14)\n",
      "mask: torch.Size([40, 25])\n",
      "\n",
      "DECODER_INPUT\n",
      "token: (40, 28)\n",
      "pos_tag: (40, 28)\n",
      "char: (40, 28, 17)\n",
      "coref: (40, 28)\n",
      "\n",
      "GENERATOR_INPUT\n",
      "vocab_targets: (40, 28)\n",
      "coref_targets: (40, 28)\n",
      "coref_attention_maps: (40, 28, 29)\n",
      "copy_targets: (40, 28)\n",
      "copy_attention_maps: (40, 25, 27)\n",
      "\n",
      "PARSER_INPUT\n",
      "edge_heads: (40, 28)\n",
      "edge_labels: (40, 28)\n",
      "corefs: (40, 28)\n",
      "mask: (40, 28)\n",
      "\n"
     ]
    }
   ],
   "source": [
    "text_to_amr = TextToAMR(vocab)\n",
    "encoder_input, decoder_input, generator_input, parser_input = text_to_amr.prepare_input(train_dataset)"
   ]
  },
  {
   "cell_type": "code",
   "execution_count": 12,
   "metadata": {},
   "outputs": [],
   "source": [
    "train_model_input = create_model_input(encoder_input, decoder_input, generator_input, parser_input)\n",
    "train_model_input = [e.astype('int32') for e in train_model_input]"
   ]
  },
  {
   "cell_type": "markdown",
   "metadata": {},
   "source": [
    "### Train"
   ]
  },
  {
   "cell_type": "code",
   "execution_count": 11,
   "metadata": {},
   "outputs": [
    {
     "name": "stdout",
     "output_type": "stream",
     "text": [
      "EPOCH: 199, TOKEN LOSS: 8.1571, EDGE LOSS: 63.3534, TOTAL LOSS: 71.51059\r"
     ]
    }
   ],
   "source": [
    "total_losses = []\n",
    "token_losses = []\n",
    "edge_losses = []\n",
    "\n",
    "EPOCHS = 200\n",
    "\n",
    "for epoch in range(EPOCHS):\n",
    "    loss, token_loss, edge_loss = text_to_amr.train(train_model_input)\n",
    "    total_losses.append(loss)\n",
    "    token_losses.append(token_loss)\n",
    "    edge_losses.append(edge_loss)\n",
    "    print(\"EPOCH: {}, TOKEN LOSS: {:.4f}, EDGE LOSS: {:.4f}, TOTAL LOSS: {:.4f}\".format(epoch,\\\n",
    "                                             float(token_loss.numpy()), \\\n",
    "                                             float(edge_loss.numpy()), \\\n",
    "                                            float(loss.numpy())), end='\\r')"
   ]
  },
  {
   "cell_type": "code",
   "execution_count": 12,
   "metadata": {},
   "outputs": [
    {
     "data": {
      "image/png": "[encoded data removed]",
      "text/plain": [
       "<Figure size 1080x720 with 1 Axes>"
      ]
     },
     "metadata": {
      "needs_background": "light"
     },
     "output_type": "display_data"
    }
   ],
   "source": [
    "plt.stackplot([i for i in range(EPOCHS)], token_losses, edge_losses, labels=['Token Loss', 'Edge Loss'])\n",
    "plt.title(\"TRAIN 200 EPOCH\")\n",
    "plt.legend()\n",
    "plt.show()"
   ]
  },
  {
   "cell_type": "code",
   "execution_count": 13,
   "metadata": {},
   "outputs": [
    {
     "data": {
      "image/png": "[encoded data removed]",
      "text/plain": [
       "<Figure size 1080x720 with 1 Axes>"
      ]
     },
     "metadata": {
      "needs_background": "light"
     },
     "output_type": "display_data"
    }
   ],
   "source": [
    "plt.plot(token_losses)\n",
    "plt.show()"
   ]
  },
  {
   "cell_type": "code",
   "execution_count": 15,
   "metadata": {},
   "outputs": [
    {
     "data": {
      "image/png": "[encoded data removed]",
      "text/plain": [
       "<Figure size 1080x720 with 1 Axes>"
      ]
     },
     "metadata": {
      "needs_background": "light"
     },
     "output_type": "display_data"
    }
   ],
   "source": [
    "plt.plot(edge_losses)\n",
    "plt.show()"
   ]
  },
  {
   "cell_type": "markdown",
   "metadata": {},
   "source": [
    "## Inference"
   ]
  },
  {
   "cell_type": "code",
   "execution_count": 13,
   "metadata": {},
   "outputs": [
    {
     "name": "stderr",
     "output_type": "stream",
     "text": [
      "[2020-03-24 15:36:12,145 ERROR] Model name 'data/bert-base-cased/bert-base-cased-vocab.txt' was not found in model name list (bert-base-uncased, bert-large-uncased, bert-base-cased, bert-large-cased, bert-base-multilingual-uncased, bert-base-multilingual-cased, bert-base-chinese). We assumed 'data/bert-base-cased/bert-base-cased-vocab.txt' was a path or url but couldn't find any file associated to this path or url.\n",
      "0it [00:00, ?it/s][2020-03-24 15:36:12,148 INFO] Reading instances from lines in file at: ../data/raw/amr.txt.features\n",
      "[2020-03-24 15:36:12,204 INFO] POS tag coverage: 0.3087 (184/596)\n",
      "40it [00:00, 701.94it/s]\n",
      "[2020-03-24 15:36:12,206 ERROR] Model name 'data/bert-base-cased/bert-base-cased-vocab.txt' was not found in model name list (bert-base-uncased, bert-large-uncased, bert-base-cased, bert-large-cased, bert-base-multilingual-uncased, bert-base-multilingual-cased, bert-base-chinese). We assumed 'data/bert-base-cased/bert-base-cased-vocab.txt' was a path or url but couldn't find any file associated to this path or url.\n",
      "0it [00:00, ?it/s][2020-03-24 15:36:12,209 INFO] Reading instances from lines in file at: ../data/raw/amr.txt.features\n"
     ]
    },
    {
     "name": "stdout",
     "output_type": "stream",
     "text": [
      "Building train datasets ...\n",
      "True\n",
      "Building dev datasets ...\n",
      "True\n"
     ]
    },
    {
     "name": "stderr",
     "output_type": "stream",
     "text": [
      "39it [00:00, 244.26it/s][2020-03-24 15:36:12,373 INFO] POS tag coverage: 0.3087 (184/596)\n",
      "40it [00:00, 241.23it/s]\n",
      "[2020-03-24 15:36:12,378 ERROR] Model name 'data/bert-base-cased/bert-base-cased-vocab.txt' was not found in model name list (bert-base-uncased, bert-large-uncased, bert-base-cased, bert-large-cased, bert-base-multilingual-uncased, bert-base-multilingual-cased, bert-base-chinese). We assumed 'data/bert-base-cased/bert-base-cased-vocab.txt' was a path or url but couldn't find any file associated to this path or url.\n",
      "0it [00:00, ?it/s][2020-03-24 15:36:12,381 INFO] Reading instances from lines in file at: ../data/raw/amr.txt.features\n",
      "[2020-03-24 15:36:12,441 INFO] POS tag coverage: 0.3087 (184/596)\n",
      "40it [00:00, 656.49it/s]"
     ]
    },
    {
     "name": "stdout",
     "output_type": "stream",
     "text": [
      "Building test datasets ...\n",
      "True\n"
     ]
    },
    {
     "name": "stderr",
     "output_type": "stream",
     "text": [
      "\n"
     ]
    }
   ],
   "source": [
    "test_dataset = dataset_from_params(data_params, evaluation=True)"
   ]
  },
  {
   "cell_type": "code",
   "execution_count": 19,
   "metadata": {},
   "outputs": [],
   "source": [
    "test_data = test_dataset['test']\n",
    "test_data = Batch(test_data)\n",
    "test_data.index_instances(vocab)\n",
    "test_data_tensor = test_data.as_tensor_dict()"
   ]
  },
  {
   "cell_type": "code",
   "execution_count": 23,
   "metadata": {},
   "outputs": [
    {
     "name": "stdout",
     "output_type": "stream",
     "text": [
      "ENCODER_INPUT\n",
      "bert_token: None\n",
      "token_subword_index: None\n",
      "token: (40, 25)\n",
      "pos_tag: (40, 25)\n",
      "must_copy_tag: (40, 25)\n",
      "char: (40, 25, 14)\n",
      "mask: torch.Size([40, 25])\n",
      "\n",
      "DECODER_INPUT\n",
      "token: (40, 28)\n",
      "pos_tag: (40, 28)\n",
      "char: (40, 28, 17)\n",
      "coref: (40, 28)\n",
      "\n",
      "GENERATOR_INPUT\n",
      "vocab_targets: (40, 28)\n",
      "coref_targets: (40, 28)\n",
      "coref_attention_maps: (40, 28, 29)\n",
      "copy_targets: (40, 28)\n",
      "copy_attention_maps: (40, 25, 27)\n",
      "\n",
      "PARSER_INPUT\n",
      "edge_heads: (40, 28)\n",
      "edge_labels: (40, 28)\n",
      "corefs: (40, 28)\n",
      "mask: (40, 28)\n",
      "\n"
     ]
    }
   ],
   "source": [
    "encoder_input, decoder_input, generator_input, parser_input = text_to_amr.prepare_input(test_data_tensor)"
   ]
  },
  {
   "cell_type": "code",
   "execution_count": 16,
   "metadata": {},
   "outputs": [],
   "source": [
    "test_model_input = create_model_input(encoder_input, decoder_input, generator_input, parser_input)\n",
    "test_model_input += [test_data_tensor['src_copy_vocab'], test_data_tensor['tag_lut'], test_data_tensor.get('source_copy_invalid_ids', None)]"
   ]
  },
  {
   "cell_type": "code",
   "execution_count": 22,
   "metadata": {},
   "outputs": [],
   "source": []
  },
  {
   "cell_type": "code",
   "execution_count": null,
   "metadata": {},
   "outputs": [],
   "source": []
  }
 ],
 "metadata": {
  "kernelspec": {
   "display_name": "Python 3",
   "language": "python",
   "name": "python3"
  },
  "language_info": {
   "codemirror_mode": {
    "name": "ipython",
    "version": 3
   },
   "file_extension": ".py",
   "mimetype": "text/x-python",
   "name": "python",
   "nbconvert_exporter": "python",
   "pygments_lexer": "ipython3",
   "version": "3.7.5"
  }
 },
 "nbformat": 4,
 "nbformat_minor": 4
}
