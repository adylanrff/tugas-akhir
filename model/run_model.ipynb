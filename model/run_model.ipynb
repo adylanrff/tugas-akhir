{
 "cells": [
  {
   "cell_type": "code",
   "execution_count": null,
   "metadata": {},
   "outputs": [],
   "source": [
    "import os\n",
    "import sys\n",
    "os.environ['TF_CPP_MIN_LOG_LEVEL'] = '2' \n",
    "module_path = os.path.abspath(os.path.join('..'))\n",
    "if module_path not in sys.path:\n",
    "    sys.path.append(module_path)"
   ]
  },
  {
   "cell_type": "code",
   "execution_count": null,
   "metadata": {},
   "outputs": [],
   "source": [
    "import tensorflow as tf\n",
    "tf.executing_eagerly()\n",
    "tf.get_logger().setLevel('ERROR')"
   ]
  },
  {
   "cell_type": "code",
   "execution_count": null,
   "metadata": {},
   "outputs": [],
   "source": [
    "import numpy as np\n",
    "import matplotlib.pyplot as plt\n",
    "plt.rcParams['figure.figsize'] = [15, 10]\n",
    "\n",
    "from tqdm import tqdm\n",
    "\n",
    "from stog.utils.params import Params\n",
    "from stog.data.dataset_builder import dataset_from_params, iterator_from_params\n",
    "from stog.data.vocabulary import Vocabulary\n",
    "from stog.training.trainer import Trainer\n",
    "from stog.data.dataset import Batch\n",
    "from model.text_to_amr import TextToAMR\n",
    "\n",
    "from tensorflow.keras.layers import Embedding, Input, Dense, Flatten, LSTM, concatenate\n",
    "from tensorflow.keras.models import Model\n",
    "from tensorflow.keras.utils import plot_model\n",
    "from tensorflow.keras.losses import MeanSquaredError"
   ]
  },
  {
   "cell_type": "code",
   "execution_count": null,
   "metadata": {},
   "outputs": [],
   "source": [
    "params = Params.from_file(\"../model/model_params.yaml\")"
   ]
  },
  {
   "cell_type": "code",
   "execution_count": null,
   "metadata": {},
   "outputs": [],
   "source": [
    "data_params = params['data']\n",
    "dataset = dataset_from_params(data_params)"
   ]
  },
  {
   "cell_type": "code",
   "execution_count": null,
   "metadata": {},
   "outputs": [],
   "source": [
    "train_data = dataset['train']\n",
    "dev_data = dataset.get('dev')\n",
    "test_data = dataset.get('test')"
   ]
  },
  {
   "cell_type": "code",
   "execution_count": null,
   "metadata": {},
   "outputs": [],
   "source": [
    "vocab_params = params.get('vocab', {})\n",
    "vocab = Vocabulary.from_instances(instances=train_data, **vocab_params)\n",
    "vocab.save_to_files(\"../data/processed/serialization\")\n",
    "\n",
    "dataset = Batch(train_data)\n",
    "dataset.index_instances(vocab)\n",
    "dataset.index_instances(vocab)\n",
    "print(dataset)\n",
    "\n",
    "\n",
    "for key in dataset.as_tensor_dict():\n",
    "    print(key)\n",
    "    content = dataset.as_tensor_dict()[key]\n",
    "    if isinstance(content, dict):\n",
    "        for inner_key in content:\n",
    "            print(\"  \", inner_key)\n",
    "\n",
    "train_iterator, dev_iterater, test_iterater = iterator_from_params(vocab, data_params['iterator'])\n",
    "\n",
    "train_dataset = Batch(train_data)\n",
    "train_dataset.index_instances(vocab)\n",
    "\n",
    "test_dataset = Batch(test_data)\n",
    "test_dataset.index_instances(vocab)\n",
    "\n",
    "train_dataset = train_dataset.as_tensor_dict()\n",
    "test_dataset = test_dataset.as_tensor_dict()"
   ]
  },
  {
   "cell_type": "code",
   "execution_count": null,
   "metadata": {},
   "outputs": [],
   "source": [
    "def create_model_input(encoder_input, decoder_input, generator_input, parser_input):\n",
    "    token_encoder_input = encoder_input.get('token')\n",
    "    pos_encoder_input = encoder_input.get('pos_tag')\n",
    "    mask_encoder_input = encoder_input.get('mask')\n",
    "    token_decoder_input = decoder_input.get('token')\n",
    "    pos_decoder_input = decoder_input.get('pos_tag')\n",
    "\n",
    "    copy_attention_map_input = generator_input.get('copy_attention_maps')\n",
    "    coref_attention_map_input = generator_input.get('coref_attention_maps')\n",
    "    vocab_target_input  = generator_input.get('vocab_targets')\n",
    "    coref_target_input  = generator_input.get('coref_targets')\n",
    "    copy_target_input  = generator_input.get('copy_targets')\n",
    "\n",
    "    edge_heads_input = parser_input.get('edge_heads')\n",
    "    edge_labels_input = parser_input.get('edge_labels')\n",
    "    parser_mask_input = parser_input.get('mask')\n",
    "    coref_input = parser_input.get('corefs')\n",
    "\n",
    "\n",
    "    # token_encoder_input, \n",
    "    # pos_encoder_input, \n",
    "    # token_decoder_input, \n",
    "    # pos_decoder_input, \n",
    "    # copy_attention_maps_input, \n",
    "    # coref_attention_maps_input,\n",
    "    # mask_input,\n",
    "    # edge_heads_input,\n",
    "    # edge_labels_input,\n",
    "    # corefs_input,\n",
    "\n",
    "    model_input = [\n",
    "        token_encoder_input, \n",
    "        pos_encoder_input, \n",
    "        token_decoder_input, \n",
    "        pos_decoder_input, \n",
    "        copy_attention_map_input, \n",
    "        coref_attention_map_input,\n",
    "        parser_mask_input, \n",
    "        edge_heads_input,\n",
    "        edge_labels_input,\n",
    "        coref_input,\n",
    "        vocab_target_input,\n",
    "        coref_target_input,\n",
    "        copy_target_input,\n",
    "        mask_encoder_input\n",
    "    ]\n",
    "    \n",
    "    return model_input\n"
   ]
  },
  {
   "cell_type": "code",
   "execution_count": null,
   "metadata": {},
   "outputs": [],
   "source": [
    "print(vocab)"
   ]
  },
  {
   "cell_type": "markdown",
   "metadata": {},
   "source": [
    "###### Test Model"
   ]
  },
  {
   "cell_type": "code",
   "execution_count": null,
   "metadata": {},
   "outputs": [],
   "source": [
    "text_to_amr = TextToAMR(vocab)\n",
    "encoder_input, decoder_input, generator_input, parser_input = text_to_amr.prepare_input(train_dataset)"
   ]
  },
  {
   "cell_type": "code",
   "execution_count": null,
   "metadata": {},
   "outputs": [],
   "source": [
    "train_model_input = create_model_input(encoder_input, decoder_input, generator_input, parser_input)\n",
    "train_model_input = [e.astype('int32') for e in train_model_input]"
   ]
  },
  {
   "cell_type": "code",
   "execution_count": null,
   "metadata": {},
   "outputs": [],
   "source": [
    "print(train_dataset['tgt_tokens']['decoder_tokens'][0])"
   ]
  },
  {
   "cell_type": "markdown",
   "metadata": {},
   "source": [
    "### Train"
   ]
  },
  {
   "cell_type": "code",
   "execution_count": null,
   "metadata": {},
   "outputs": [],
   "source": [
    "total_losses = []\n",
    "token_losses = []\n",
    "edge_losses = []\n",
    "\n",
    "EPOCHS = 100\n",
    "\n",
    "epoch_tqdm = tqdm(range(EPOCHS))\n",
    "\n",
    "for epoch in epoch_tqdm:\n",
    "    loss, token_loss, edge_loss = text_to_amr.train(train_model_input)\n",
    "    total_losses.append(loss)\n",
    "    token_losses.append(token_loss)\n",
    "    edge_losses.append(edge_loss)\n",
    "    epoch_tqdm.set_description(\"TOKEN LOSS: {:.4f}, EDGE LOSS: {:.4f}, TOTAL LOSS: {:.4f}\".format(float(token_loss.numpy()), \\\n",
    "                                             float(edge_loss.numpy()), \\\n",
    "                                            float(loss.numpy())))"
   ]
  },
  {
   "cell_type": "code",
   "execution_count": null,
   "metadata": {},
   "outputs": [],
   "source": [
    "plt.stackplot([i for i in range(EPOCHS)], token_losses, edge_losses, labels=['Token Loss', 'Edge Loss'])\n",
    "plt.title(\"TRAIN 200 EPOCH\")\n",
    "plt.legend()\n",
    "plt.show()"
   ]
  },
  {
   "cell_type": "code",
   "execution_count": null,
   "metadata": {},
   "outputs": [],
   "source": [
    "plt.plot(edge_losses, label=\"Edge Losses\", color=\"orange\")\n",
    "plt.legend()\n",
    "plt.show()"
   ]
  },
  {
   "cell_type": "code",
   "execution_count": null,
   "metadata": {},
   "outputs": [],
   "source": [
    "plt.plot(token_losses, label=\"Token Losses\")\n",
    "plt.legend()\n",
    "plt.show()"
   ]
  },
  {
   "cell_type": "markdown",
   "metadata": {},
   "source": [
    "## Inference"
   ]
  },
  {
   "cell_type": "code",
   "execution_count": null,
   "metadata": {},
   "outputs": [],
   "source": [
    "test_dataset = dataset_from_params(data_params, evaluation=True)"
   ]
  },
  {
   "cell_type": "code",
   "execution_count": null,
   "metadata": {},
   "outputs": [],
   "source": [
    "test_data = test_dataset['test']\n",
    "test_data = Batch(test_data)\n",
    "test_data.index_instances(vocab)\n",
    "test_data_tensor = test_data.as_tensor_dict()"
   ]
  },
  {
   "cell_type": "code",
   "execution_count": null,
   "metadata": {},
   "outputs": [],
   "source": [
    "encoder_input, decoder_input, generator_input, parser_input = text_to_amr.prepare_input(test_data_tensor)"
   ]
  },
  {
   "cell_type": "code",
   "execution_count": null,
   "metadata": {},
   "outputs": [],
   "source": [
    "test_model_input = create_model_input(encoder_input, decoder_input, generator_input, parser_input)\n",
    "test_model_input += [test_data_tensor['src_copy_vocab'], test_data_tensor['tag_lut'], test_data_tensor.get('source_copy_invalid_ids', None)]"
   ]
  },
  {
   "cell_type": "code",
   "execution_count": null,
   "metadata": {},
   "outputs": [],
   "source": [
    "outputs = text_to_amr.predict(test_model_input)"
   ]
  },
  {
   "cell_type": "code",
   "execution_count": null,
   "metadata": {},
   "outputs": [],
   "source": [
    "outputs['heads']"
   ]
  },
  {
   "cell_type": "code",
   "execution_count": null,
   "metadata": {},
   "outputs": [],
   "source": [
    "outputs['head_labels'][0]"
   ]
  },
  {
   "cell_type": "code",
   "execution_count": null,
   "metadata": {},
   "outputs": [],
   "source": [
    "for node in outputs['nodes']:\n",
    "    print(node)"
   ]
  }
 ],
 "metadata": {
  "kernelspec": {
   "display_name": "Python 3",
   "language": "python",
   "name": "python3"
  },
  "language_info": {
   "codemirror_mode": {
    "name": "ipython",
    "version": 3
   },
   "file_extension": ".py",
   "mimetype": "text/x-python",
   "name": "python",
   "nbconvert_exporter": "python",
   "pygments_lexer": "ipython3",
   "version": "3.7.5"
  }
 },
 "nbformat": 4,
 "nbformat_minor": 4
}
