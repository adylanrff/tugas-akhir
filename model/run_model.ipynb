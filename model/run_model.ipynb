{
 "cells": [
  {
   "cell_type": "code",
   "execution_count": 1,
   "metadata": {},
   "outputs": [
    {
     "data": {
      "text/plain": [
       "True"
      ]
     },
     "execution_count": 1,
     "metadata": {},
     "output_type": "execute_result"
    }
   ],
   "source": [
    "import tensorflow as tf\n",
    "tf.executing_eagerly()"
   ]
  },
  {
   "cell_type": "code",
   "execution_count": 2,
   "metadata": {},
   "outputs": [],
   "source": [
    "import os\n",
    "import sys\n",
    "module_path = os.path.abspath(os.path.join('..'))\n",
    "if module_path not in sys.path:\n",
    "    sys.path.append(module_path)"
   ]
  },
  {
   "cell_type": "code",
   "execution_count": 3,
   "metadata": {},
   "outputs": [
    {
     "name": "stderr",
     "output_type": "stream",
     "text": [
      "[2020-03-17 18:07:48,643 INFO] Better speed can be achieved with apex installed from https://www.github.com/nvidia/apex .\n"
     ]
    }
   ],
   "source": [
    "import numpy as np\n",
    "\n",
    "from stog.utils.params import Params\n",
    "from stog.data.dataset_builder import dataset_from_params, iterator_from_params\n",
    "from stog.data.vocabulary import Vocabulary\n",
    "from stog.training.trainer import Trainer\n",
    "from stog.data.dataset import Batch\n",
    "from model.text_to_amr import TextToAMR\n",
    "\n",
    "from tensorflow.keras.layers import Embedding, Input, Dense, Flatten, LSTM, concatenate\n",
    "from tensorflow.keras.models import Model\n",
    "from tensorflow.keras.utils import plot_model\n",
    "from tensorflow.keras.losses import MeanSquaredError"
   ]
  },
  {
   "cell_type": "code",
   "execution_count": 4,
   "metadata": {},
   "outputs": [
    {
     "name": "stderr",
     "output_type": "stream",
     "text": [
      "/home/adylanrff/Documents/Kuliah/TA/amr_parser/stog/utils/params.py:104: YAMLLoadWarning: calling yaml.load() without Loader=... is deprecated, as the default Loader is unsafe. Please read https://msg.pyyaml.org/load for full details.\n",
      "  dict_merge.dict_merge(params_dict, yaml.load(f))\n"
     ]
    }
   ],
   "source": [
    "params = Params.from_file(\"../model/model_params.yaml\")"
   ]
  },
  {
   "cell_type": "code",
   "execution_count": 5,
   "metadata": {},
   "outputs": [
    {
     "name": "stderr",
     "output_type": "stream",
     "text": [
      "[2020-03-17 18:07:48,734 INFO] Building train datasets ...\n",
      "[2020-03-17 18:07:48,735 ERROR] Model name 'data/bert-base-cased/bert-base-cased-vocab.txt' was not found in model name list (bert-base-uncased, bert-large-uncased, bert-base-cased, bert-large-cased, bert-base-multilingual-uncased, bert-base-multilingual-cased, bert-base-chinese). We assumed 'data/bert-base-cased/bert-base-cased-vocab.txt' was a path or url but couldn't find any file associated to this path or url.\n",
      "0it [00:00, ?it/s][2020-03-17 18:07:48,738 INFO] Reading instances from lines in file at: ../data/raw/amr.txt.features\n",
      "[2020-03-17 18:07:48,810 INFO] POS tag coverage: 0.3087 (184/596)\n",
      "40it [00:00, 541.83it/s]\n",
      "[2020-03-17 18:07:48,812 INFO] Building dev datasets ...\n",
      "[2020-03-17 18:07:48,813 ERROR] Model name 'data/bert-base-cased/bert-base-cased-vocab.txt' was not found in model name list (bert-base-uncased, bert-large-uncased, bert-base-cased, bert-large-cased, bert-base-multilingual-uncased, bert-base-multilingual-cased, bert-base-chinese). We assumed 'data/bert-base-cased/bert-base-cased-vocab.txt' was a path or url but couldn't find any file associated to this path or url.\n",
      "0it [00:00, ?it/s][2020-03-17 18:07:48,814 INFO] Reading instances from lines in file at: ../data/raw/amr.txt.features\n",
      "[2020-03-17 18:07:48,883 INFO] POS tag coverage: 0.3087 (184/596)\n",
      "40it [00:00, 573.46it/s]\n",
      "[2020-03-17 18:07:48,884 INFO] Building test datasets ...\n",
      "[2020-03-17 18:07:48,885 ERROR] Model name 'data/bert-base-cased/bert-base-cased-vocab.txt' was not found in model name list (bert-base-uncased, bert-large-uncased, bert-base-cased, bert-large-cased, bert-base-multilingual-uncased, bert-base-multilingual-cased, bert-base-chinese). We assumed 'data/bert-base-cased/bert-base-cased-vocab.txt' was a path or url but couldn't find any file associated to this path or url.\n",
      "0it [00:00, ?it/s][2020-03-17 18:07:48,887 INFO] Reading instances from lines in file at: ../data/raw/amr.txt.features\n",
      "[2020-03-17 18:07:48,946 INFO] POS tag coverage: 0.3087 (184/596)\n",
      "40it [00:00, 678.14it/s]\n"
     ]
    }
   ],
   "source": [
    "data_params = params['data']\n",
    "dataset = dataset_from_params(data_params)"
   ]
  },
  {
   "cell_type": "code",
   "execution_count": 6,
   "metadata": {},
   "outputs": [],
   "source": [
    "train_data = dataset['train']\n",
    "dev_data = dataset.get('dev')\n",
    "test_data = dataset.get('test')"
   ]
  },
  {
   "cell_type": "code",
   "execution_count": 7,
   "metadata": {},
   "outputs": [
    {
     "name": "stderr",
     "output_type": "stream",
     "text": [
      "[2020-03-17 18:07:48,967 INFO] Fitting token dictionary from dataset.\n",
      "100%|██████████| 40/40 [00:00<00:00, 2488.68it/s]\n",
      "[2020-03-17 18:07:48,988 WARNING] vocabulary serialization directory ../data/processed/serialization is not empty\n"
     ]
    },
    {
     "name": "stdout",
     "output_type": "stream",
     "text": [
      "src_tokens\n",
      "   encoder_tokens\n",
      "   encoder_characters\n",
      "src_must_copy_tags\n",
      "tgt_tokens\n",
      "   decoder_tokens\n",
      "   decoder_characters\n",
      "src_pos_tags\n",
      "tgt_pos_tags\n",
      "tgt_copy_indices\n",
      "tgt_copy_mask\n",
      "tgt_copy_map\n",
      "src_copy_indices\n",
      "src_copy_map\n",
      "head_tags\n",
      "head_indices\n"
     ]
    }
   ],
   "source": [
    "vocab_params = params.get('vocab', {})\n",
    "vocab = Vocabulary.from_instances(instances=train_data, **vocab_params)\n",
    "vocab.save_to_files(\"../data/processed/serialization\")\n",
    "\n",
    "dataset = Batch(train_data)\n",
    "dataset.index_instances(vocab)\n",
    "dataset.index_instances(vocab)\n",
    "\n",
    "# print(dataset.as_tensor_dict()['src_tokens']['encoder_tokens'][1].numpy())\n",
    "# print(dataset.as_tensor_dict()['tgt_tokens']['decoder_tokens'][1].numpy())\n",
    "# print(dataset.get_padding_lengths())\n",
    "# print(dataset.as_tensor_dict())\n",
    "\n",
    "for key in dataset.as_tensor_dict():\n",
    "    print(key)\n",
    "    content = dataset.as_tensor_dict()[key]\n",
    "    if isinstance(content, dict):\n",
    "        for inner_key in content:\n",
    "            print(\"  \", inner_key)\n",
    "\n",
    "train_iterator, dev_iterater, test_iterater = iterator_from_params(vocab, data_params['iterator'])\n",
    "\n",
    "train_dataset = Batch(train_data)\n",
    "train_dataset.index_instances(vocab)\n",
    "\n",
    "test_dataset = Batch(test_data)\n",
    "test_dataset.index_instances(vocab)\n",
    "\n",
    "train_dataset = train_dataset.as_tensor_dict()\n",
    "test_dataset = test_dataset.as_tensor_dict()"
   ]
  },
  {
   "cell_type": "code",
   "execution_count": 8,
   "metadata": {},
   "outputs": [
    {
     "name": "stdout",
     "output_type": "stream",
     "text": [
      "Vocabulary with namespaces:\n",
      " \tNon Padded Namespaces: {'must_copy_tags', 'coref_tags'}\n",
      " \tNamespace: encoder_token_ids, Size: 334 \n",
      " \tNamespace: encoder_token_characters, Size: 39 \n",
      " \tNamespace: decoder_token_ids, Size: 283 \n",
      " \tNamespace: decoder_token_characters, Size: 65 \n",
      " \tNamespace: pos_tags, Size: 16 \n",
      " \tNamespace: head_tags, Size: 35 \n",
      "\n"
     ]
    }
   ],
   "source": [
    "print(vocab)"
   ]
  },
  {
   "cell_type": "markdown",
   "metadata": {},
   "source": [
    "###### Test Model"
   ]
  },
  {
   "cell_type": "code",
   "execution_count": 9,
   "metadata": {},
   "outputs": [
    {
     "name": "stdout",
     "output_type": "stream",
     "text": [
      "ENCODER_INPUT\n",
      "bert_token: None\n",
      "token_subword_index: None\n",
      "token: (40, 25)\n",
      "pos_tag: (40, 25)\n",
      "must_copy_tag: (40, 25)\n",
      "char: (40, 25, 14)\n",
      "mask: torch.Size([40, 25])\n",
      "\n",
      "DECODER_INPUT\n",
      "token: (40, 28)\n",
      "pos_tag: (40, 28)\n",
      "char: (40, 28, 17)\n",
      "coref: (40, 28)\n",
      "\n",
      "GENERATOR_INPUT\n",
      "vocab_targets: (40, 28)\n",
      "coref_targets: (40, 28)\n",
      "coref_attention_maps: (40, 28, 29)\n",
      "copy_targets: (40, 28)\n",
      "copy_attention_maps: (40, 25, 27)\n",
      "\n",
      "PARSER_INPUT\n",
      "edge_heads: (40, 28)\n",
      "edge_labels: (40, 28)\n",
      "corefs: (40, 28)\n",
      "mask: (40, 28)\n",
      "\n"
     ]
    }
   ],
   "source": [
    "text_to_amr = TextToAMR(vocab)\n",
    "encoder_input, decoder_input, generator_input, parser_input = text_to_amr.prepare_input(train_dataset)"
   ]
  },
  {
   "cell_type": "code",
   "execution_count": 10,
   "metadata": {},
   "outputs": [],
   "source": [
    "model = text_to_amr.generate_model()\n",
    "model.compile(optimizer='rmsprop', loss=\"mean_squared_error\")\n",
    "model.run_eagerly = True"
   ]
  },
  {
   "cell_type": "code",
   "execution_count": 11,
   "metadata": {},
   "outputs": [
    {
     "name": "stdout",
     "output_type": "stream",
     "text": [
      "Model: \"model\"\n",
      "__________________________________________________________________________________________________\n",
      "Layer (type)                    Output Shape         Param #     Connected to                     \n",
      "==================================================================================================\n",
      "token_encoder_input (InputLayer [(40, 25)]           0                                            \n",
      "__________________________________________________________________________________________________\n",
      "pos_encoder_input (InputLayer)  [(40, 25)]           0                                            \n",
      "__________________________________________________________________________________________________\n",
      "token_decoder_input (InputLayer [(40, 28)]           0                                            \n",
      "__________________________________________________________________________________________________\n",
      "encoder (Encoder)               ((40, 25, 400), ((40 676600      token_encoder_input[0][0]        \n",
      "__________________________________________________________________________________________________\n",
      "pos_decoder_input (InputLayer)  [(40, 28)]           0                                            \n",
      "__________________________________________________________________________________________________\n",
      "decoder (Decoder)               ((40, 28, 400), (28, 1152102     token_decoder_input[0][0]        \n",
      "__________________________________________________________________________________________________\n",
      "corefs_input (InputLayer)       [(40, 28)]           0                                            \n",
      "__________________________________________________________________________________________________\n",
      "edge_heads_input (InputLayer)   [(40, 28)]           0                                            \n",
      "__________________________________________________________________________________________________\n",
      "edge_labels_input (InputLayer)  [(40, 28)]           0                                            \n",
      "__________________________________________________________________________________________________\n",
      "mask_input (InputLayer)         [(40, 28)]           0                                            \n",
      "__________________________________________________________________________________________________\n",
      "deep_biaffine_decoder (DeepBiaf ((40, 28), (40, 29)) 956852      decoder[0][2]                    \n",
      "__________________________________________________________________________________________________\n",
      "flatten (Flatten)               (40, 28)             0           deep_biaffine_decoder[0][0]      \n",
      "__________________________________________________________________________________________________\n",
      "copy_attention_maps_input (Inpu [(40, 25, 27)]       0                                            \n",
      "__________________________________________________________________________________________________\n",
      "coref_attention_maps_input (Inp [(40, 28, 29)]       0                                            \n",
      "__________________________________________________________________________________________________\n",
      "dense_13 (Dense)                (40, 1)              29          flatten[0][0]                    \n",
      "==================================================================================================\n",
      "Total params: 2,785,583\n",
      "Trainable params: 2,723,883\n",
      "Non-trainable params: 61,700\n",
      "__________________________________________________________________________________________________\n"
     ]
    }
   ],
   "source": [
    "model.summary()"
   ]
  },
  {
   "cell_type": "code",
   "execution_count": 12,
   "metadata": {},
   "outputs": [
    {
     "name": "stdout",
     "output_type": "stream",
     "text": [
      "Train on 40 samples\n",
      "Epoch 1/10\n",
      "WARNING:tensorflow:Gradients do not exist for variables ['encoder/embedding/embeddings:0', 'encoder/bidirectional/forward_lstm/kernel:0', 'encoder/bidirectional/forward_lstm/recurrent_kernel:0', 'encoder/bidirectional/forward_lstm/bias:0', 'encoder/bidirectional/backward_lstm/kernel:0', 'encoder/bidirectional/backward_lstm/recurrent_kernel:0', 'encoder/bidirectional/backward_lstm/bias:0', 'decoder/embedding_1/embeddings:0', 'decoder/lstm_1/kernel:0', 'decoder/lstm_1/recurrent_kernel:0', 'decoder/lstm_1/bias:0', 'decoder/bahdanau_attention/dense_1/kernel:0', 'decoder/bahdanau_attention/dense_1/bias:0', 'decoder/bahdanau_attention/dense_2/kernel:0', 'decoder/bahdanau_attention/dense_2/bias:0', 'decoder/bahdanau_attention/dense_3/kernel:0', 'decoder/bahdanau_attention/dense_3/bias:0', 'decoder/bahdanau_attention_1_1/dense_4/kernel:0', 'decoder/bahdanau_attention_1_1/dense_4/bias:0', 'decoder/bahdanau_attention_1_1/dense_5/kernel:0', 'decoder/bahdanau_attention_1_1/dense_5/bias:0', 'decoder/bahdanau_attention_1_1/dense_6/kernel:0', 'decoder/bahdanau_attention_1_1/dense_6/bias:0', 'deep_biaffine_decoder/dense_9/kernel:0', 'deep_biaffine_decoder/dense_9/bias:0', 'deep_biaffine_decoder/dense_10/kernel:0', 'deep_biaffine_decoder/dense_10/bias:0', 'deep_biaffine_decoder/dense_11/kernel:0', 'deep_biaffine_decoder/dense_11/bias:0', 'deep_biaffine_decoder/dense_12/kernel:0', 'deep_biaffine_decoder/dense_12/bias:0', 'sentinel:0', 'W_d:0', 'W_e:0', 'b:0', 'U:0', 'U:0', 'W_l:0', 'W_r:0', 'bias:0'] when minimizing the loss.\n"
     ]
    },
    {
     "name": "stderr",
     "output_type": "stream",
     "text": [
      "[2020-03-17 18:08:05,053 WARNING] Gradients do not exist for variables ['encoder/embedding/embeddings:0', 'encoder/bidirectional/forward_lstm/kernel:0', 'encoder/bidirectional/forward_lstm/recurrent_kernel:0', 'encoder/bidirectional/forward_lstm/bias:0', 'encoder/bidirectional/backward_lstm/kernel:0', 'encoder/bidirectional/backward_lstm/recurrent_kernel:0', 'encoder/bidirectional/backward_lstm/bias:0', 'decoder/embedding_1/embeddings:0', 'decoder/lstm_1/kernel:0', 'decoder/lstm_1/recurrent_kernel:0', 'decoder/lstm_1/bias:0', 'decoder/bahdanau_attention/dense_1/kernel:0', 'decoder/bahdanau_attention/dense_1/bias:0', 'decoder/bahdanau_attention/dense_2/kernel:0', 'decoder/bahdanau_attention/dense_2/bias:0', 'decoder/bahdanau_attention/dense_3/kernel:0', 'decoder/bahdanau_attention/dense_3/bias:0', 'decoder/bahdanau_attention_1_1/dense_4/kernel:0', 'decoder/bahdanau_attention_1_1/dense_4/bias:0', 'decoder/bahdanau_attention_1_1/dense_5/kernel:0', 'decoder/bahdanau_attention_1_1/dense_5/bias:0', 'decoder/bahdanau_attention_1_1/dense_6/kernel:0', 'decoder/bahdanau_attention_1_1/dense_6/bias:0', 'deep_biaffine_decoder/dense_9/kernel:0', 'deep_biaffine_decoder/dense_9/bias:0', 'deep_biaffine_decoder/dense_10/kernel:0', 'deep_biaffine_decoder/dense_10/bias:0', 'deep_biaffine_decoder/dense_11/kernel:0', 'deep_biaffine_decoder/dense_11/bias:0', 'deep_biaffine_decoder/dense_12/kernel:0', 'deep_biaffine_decoder/dense_12/bias:0', 'sentinel:0', 'W_d:0', 'W_e:0', 'b:0', 'U:0', 'U:0', 'W_l:0', 'W_r:0', 'bias:0'] when minimizing the loss.\n"
     ]
    },
    {
     "name": "stdout",
     "output_type": "stream",
     "text": [
      "40/40 [==============================] - 3s 67ms/sample - loss: 49.2041\n",
      "Epoch 2/10\n",
      "WARNING:tensorflow:Gradients do not exist for variables ['encoder/embedding/embeddings:0', 'encoder/bidirectional/forward_lstm/kernel:0', 'encoder/bidirectional/forward_lstm/recurrent_kernel:0', 'encoder/bidirectional/forward_lstm/bias:0', 'encoder/bidirectional/backward_lstm/kernel:0', 'encoder/bidirectional/backward_lstm/recurrent_kernel:0', 'encoder/bidirectional/backward_lstm/bias:0', 'decoder/embedding_1/embeddings:0', 'decoder/lstm_1/kernel:0', 'decoder/lstm_1/recurrent_kernel:0', 'decoder/lstm_1/bias:0', 'decoder/bahdanau_attention/dense_1/kernel:0', 'decoder/bahdanau_attention/dense_1/bias:0', 'decoder/bahdanau_attention/dense_2/kernel:0', 'decoder/bahdanau_attention/dense_2/bias:0', 'decoder/bahdanau_attention/dense_3/kernel:0', 'decoder/bahdanau_attention/dense_3/bias:0', 'decoder/bahdanau_attention_1_1/dense_4/kernel:0', 'decoder/bahdanau_attention_1_1/dense_4/bias:0', 'decoder/bahdanau_attention_1_1/dense_5/kernel:0', 'decoder/bahdanau_attention_1_1/dense_5/bias:0', 'decoder/bahdanau_attention_1_1/dense_6/kernel:0', 'decoder/bahdanau_attention_1_1/dense_6/bias:0', 'deep_biaffine_decoder/dense_9/kernel:0', 'deep_biaffine_decoder/dense_9/bias:0', 'deep_biaffine_decoder/dense_10/kernel:0', 'deep_biaffine_decoder/dense_10/bias:0', 'deep_biaffine_decoder/dense_11/kernel:0', 'deep_biaffine_decoder/dense_11/bias:0', 'deep_biaffine_decoder/dense_12/kernel:0', 'deep_biaffine_decoder/dense_12/bias:0', 'sentinel:0', 'W_d:0', 'W_e:0', 'b:0', 'U:0', 'U:0', 'W_l:0', 'W_r:0', 'bias:0'] when minimizing the loss.\n"
     ]
    },
    {
     "name": "stderr",
     "output_type": "stream",
     "text": [
      "[2020-03-17 18:08:07,095 WARNING] Gradients do not exist for variables ['encoder/embedding/embeddings:0', 'encoder/bidirectional/forward_lstm/kernel:0', 'encoder/bidirectional/forward_lstm/recurrent_kernel:0', 'encoder/bidirectional/forward_lstm/bias:0', 'encoder/bidirectional/backward_lstm/kernel:0', 'encoder/bidirectional/backward_lstm/recurrent_kernel:0', 'encoder/bidirectional/backward_lstm/bias:0', 'decoder/embedding_1/embeddings:0', 'decoder/lstm_1/kernel:0', 'decoder/lstm_1/recurrent_kernel:0', 'decoder/lstm_1/bias:0', 'decoder/bahdanau_attention/dense_1/kernel:0', 'decoder/bahdanau_attention/dense_1/bias:0', 'decoder/bahdanau_attention/dense_2/kernel:0', 'decoder/bahdanau_attention/dense_2/bias:0', 'decoder/bahdanau_attention/dense_3/kernel:0', 'decoder/bahdanau_attention/dense_3/bias:0', 'decoder/bahdanau_attention_1_1/dense_4/kernel:0', 'decoder/bahdanau_attention_1_1/dense_4/bias:0', 'decoder/bahdanau_attention_1_1/dense_5/kernel:0', 'decoder/bahdanau_attention_1_1/dense_5/bias:0', 'decoder/bahdanau_attention_1_1/dense_6/kernel:0', 'decoder/bahdanau_attention_1_1/dense_6/bias:0', 'deep_biaffine_decoder/dense_9/kernel:0', 'deep_biaffine_decoder/dense_9/bias:0', 'deep_biaffine_decoder/dense_10/kernel:0', 'deep_biaffine_decoder/dense_10/bias:0', 'deep_biaffine_decoder/dense_11/kernel:0', 'deep_biaffine_decoder/dense_11/bias:0', 'deep_biaffine_decoder/dense_12/kernel:0', 'deep_biaffine_decoder/dense_12/bias:0', 'sentinel:0', 'W_d:0', 'W_e:0', 'b:0', 'U:0', 'U:0', 'W_l:0', 'W_r:0', 'bias:0'] when minimizing the loss.\n"
     ]
    },
    {
     "name": "stdout",
     "output_type": "stream",
     "text": [
      "40/40 [==============================] - 2s 45ms/sample - loss: 21.7585\n",
      "Epoch 3/10\n",
      "WARNING:tensorflow:Gradients do not exist for variables ['encoder/embedding/embeddings:0', 'encoder/bidirectional/forward_lstm/kernel:0', 'encoder/bidirectional/forward_lstm/recurrent_kernel:0', 'encoder/bidirectional/forward_lstm/bias:0', 'encoder/bidirectional/backward_lstm/kernel:0', 'encoder/bidirectional/backward_lstm/recurrent_kernel:0', 'encoder/bidirectional/backward_lstm/bias:0', 'decoder/embedding_1/embeddings:0', 'decoder/lstm_1/kernel:0', 'decoder/lstm_1/recurrent_kernel:0', 'decoder/lstm_1/bias:0', 'decoder/bahdanau_attention/dense_1/kernel:0', 'decoder/bahdanau_attention/dense_1/bias:0', 'decoder/bahdanau_attention/dense_2/kernel:0', 'decoder/bahdanau_attention/dense_2/bias:0', 'decoder/bahdanau_attention/dense_3/kernel:0', 'decoder/bahdanau_attention/dense_3/bias:0', 'decoder/bahdanau_attention_1_1/dense_4/kernel:0', 'decoder/bahdanau_attention_1_1/dense_4/bias:0', 'decoder/bahdanau_attention_1_1/dense_5/kernel:0', 'decoder/bahdanau_attention_1_1/dense_5/bias:0', 'decoder/bahdanau_attention_1_1/dense_6/kernel:0', 'decoder/bahdanau_attention_1_1/dense_6/bias:0', 'deep_biaffine_decoder/dense_9/kernel:0', 'deep_biaffine_decoder/dense_9/bias:0', 'deep_biaffine_decoder/dense_10/kernel:0', 'deep_biaffine_decoder/dense_10/bias:0', 'deep_biaffine_decoder/dense_11/kernel:0', 'deep_biaffine_decoder/dense_11/bias:0', 'deep_biaffine_decoder/dense_12/kernel:0', 'deep_biaffine_decoder/dense_12/bias:0', 'sentinel:0', 'W_d:0', 'W_e:0', 'b:0', 'U:0', 'U:0', 'W_l:0', 'W_r:0', 'bias:0'] when minimizing the loss.\n"
     ]
    },
    {
     "name": "stderr",
     "output_type": "stream",
     "text": [
      "[2020-03-17 18:08:08,672 WARNING] Gradients do not exist for variables ['encoder/embedding/embeddings:0', 'encoder/bidirectional/forward_lstm/kernel:0', 'encoder/bidirectional/forward_lstm/recurrent_kernel:0', 'encoder/bidirectional/forward_lstm/bias:0', 'encoder/bidirectional/backward_lstm/kernel:0', 'encoder/bidirectional/backward_lstm/recurrent_kernel:0', 'encoder/bidirectional/backward_lstm/bias:0', 'decoder/embedding_1/embeddings:0', 'decoder/lstm_1/kernel:0', 'decoder/lstm_1/recurrent_kernel:0', 'decoder/lstm_1/bias:0', 'decoder/bahdanau_attention/dense_1/kernel:0', 'decoder/bahdanau_attention/dense_1/bias:0', 'decoder/bahdanau_attention/dense_2/kernel:0', 'decoder/bahdanau_attention/dense_2/bias:0', 'decoder/bahdanau_attention/dense_3/kernel:0', 'decoder/bahdanau_attention/dense_3/bias:0', 'decoder/bahdanau_attention_1_1/dense_4/kernel:0', 'decoder/bahdanau_attention_1_1/dense_4/bias:0', 'decoder/bahdanau_attention_1_1/dense_5/kernel:0', 'decoder/bahdanau_attention_1_1/dense_5/bias:0', 'decoder/bahdanau_attention_1_1/dense_6/kernel:0', 'decoder/bahdanau_attention_1_1/dense_6/bias:0', 'deep_biaffine_decoder/dense_9/kernel:0', 'deep_biaffine_decoder/dense_9/bias:0', 'deep_biaffine_decoder/dense_10/kernel:0', 'deep_biaffine_decoder/dense_10/bias:0', 'deep_biaffine_decoder/dense_11/kernel:0', 'deep_biaffine_decoder/dense_11/bias:0', 'deep_biaffine_decoder/dense_12/kernel:0', 'deep_biaffine_decoder/dense_12/bias:0', 'sentinel:0', 'W_d:0', 'W_e:0', 'b:0', 'U:0', 'U:0', 'W_l:0', 'W_r:0', 'bias:0'] when minimizing the loss.\n"
     ]
    },
    {
     "name": "stdout",
     "output_type": "stream",
     "text": [
      "40/40 [==============================] - 2s 39ms/sample - loss: 45.8621\n",
      "Epoch 4/10\n",
      "WARNING:tensorflow:Gradients do not exist for variables ['encoder/embedding/embeddings:0', 'encoder/bidirectional/forward_lstm/kernel:0', 'encoder/bidirectional/forward_lstm/recurrent_kernel:0', 'encoder/bidirectional/forward_lstm/bias:0', 'encoder/bidirectional/backward_lstm/kernel:0', 'encoder/bidirectional/backward_lstm/recurrent_kernel:0', 'encoder/bidirectional/backward_lstm/bias:0', 'decoder/embedding_1/embeddings:0', 'decoder/lstm_1/kernel:0', 'decoder/lstm_1/recurrent_kernel:0', 'decoder/lstm_1/bias:0', 'decoder/bahdanau_attention/dense_1/kernel:0', 'decoder/bahdanau_attention/dense_1/bias:0', 'decoder/bahdanau_attention/dense_2/kernel:0', 'decoder/bahdanau_attention/dense_2/bias:0', 'decoder/bahdanau_attention/dense_3/kernel:0', 'decoder/bahdanau_attention/dense_3/bias:0', 'decoder/bahdanau_attention_1_1/dense_4/kernel:0', 'decoder/bahdanau_attention_1_1/dense_4/bias:0', 'decoder/bahdanau_attention_1_1/dense_5/kernel:0', 'decoder/bahdanau_attention_1_1/dense_5/bias:0', 'decoder/bahdanau_attention_1_1/dense_6/kernel:0', 'decoder/bahdanau_attention_1_1/dense_6/bias:0', 'deep_biaffine_decoder/dense_9/kernel:0', 'deep_biaffine_decoder/dense_9/bias:0', 'deep_biaffine_decoder/dense_10/kernel:0', 'deep_biaffine_decoder/dense_10/bias:0', 'deep_biaffine_decoder/dense_11/kernel:0', 'deep_biaffine_decoder/dense_11/bias:0', 'deep_biaffine_decoder/dense_12/kernel:0', 'deep_biaffine_decoder/dense_12/bias:0', 'sentinel:0', 'W_d:0', 'W_e:0', 'b:0', 'U:0', 'U:0', 'W_l:0', 'W_r:0', 'bias:0'] when minimizing the loss.\n"
     ]
    },
    {
     "name": "stderr",
     "output_type": "stream",
     "text": [
      "[2020-03-17 18:08:10,354 WARNING] Gradients do not exist for variables ['encoder/embedding/embeddings:0', 'encoder/bidirectional/forward_lstm/kernel:0', 'encoder/bidirectional/forward_lstm/recurrent_kernel:0', 'encoder/bidirectional/forward_lstm/bias:0', 'encoder/bidirectional/backward_lstm/kernel:0', 'encoder/bidirectional/backward_lstm/recurrent_kernel:0', 'encoder/bidirectional/backward_lstm/bias:0', 'decoder/embedding_1/embeddings:0', 'decoder/lstm_1/kernel:0', 'decoder/lstm_1/recurrent_kernel:0', 'decoder/lstm_1/bias:0', 'decoder/bahdanau_attention/dense_1/kernel:0', 'decoder/bahdanau_attention/dense_1/bias:0', 'decoder/bahdanau_attention/dense_2/kernel:0', 'decoder/bahdanau_attention/dense_2/bias:0', 'decoder/bahdanau_attention/dense_3/kernel:0', 'decoder/bahdanau_attention/dense_3/bias:0', 'decoder/bahdanau_attention_1_1/dense_4/kernel:0', 'decoder/bahdanau_attention_1_1/dense_4/bias:0', 'decoder/bahdanau_attention_1_1/dense_5/kernel:0', 'decoder/bahdanau_attention_1_1/dense_5/bias:0', 'decoder/bahdanau_attention_1_1/dense_6/kernel:0', 'decoder/bahdanau_attention_1_1/dense_6/bias:0', 'deep_biaffine_decoder/dense_9/kernel:0', 'deep_biaffine_decoder/dense_9/bias:0', 'deep_biaffine_decoder/dense_10/kernel:0', 'deep_biaffine_decoder/dense_10/bias:0', 'deep_biaffine_decoder/dense_11/kernel:0', 'deep_biaffine_decoder/dense_11/bias:0', 'deep_biaffine_decoder/dense_12/kernel:0', 'deep_biaffine_decoder/dense_12/bias:0', 'sentinel:0', 'W_d:0', 'W_e:0', 'b:0', 'U:0', 'U:0', 'W_l:0', 'W_r:0', 'bias:0'] when minimizing the loss.\n"
     ]
    },
    {
     "name": "stdout",
     "output_type": "stream",
     "text": [
      "40/40 [==============================] - 2s 42ms/sample - loss: 19.9726\n",
      "Epoch 5/10\n",
      "WARNING:tensorflow:Gradients do not exist for variables ['encoder/embedding/embeddings:0', 'encoder/bidirectional/forward_lstm/kernel:0', 'encoder/bidirectional/forward_lstm/recurrent_kernel:0', 'encoder/bidirectional/forward_lstm/bias:0', 'encoder/bidirectional/backward_lstm/kernel:0', 'encoder/bidirectional/backward_lstm/recurrent_kernel:0', 'encoder/bidirectional/backward_lstm/bias:0', 'decoder/embedding_1/embeddings:0', 'decoder/lstm_1/kernel:0', 'decoder/lstm_1/recurrent_kernel:0', 'decoder/lstm_1/bias:0', 'decoder/bahdanau_attention/dense_1/kernel:0', 'decoder/bahdanau_attention/dense_1/bias:0', 'decoder/bahdanau_attention/dense_2/kernel:0', 'decoder/bahdanau_attention/dense_2/bias:0', 'decoder/bahdanau_attention/dense_3/kernel:0', 'decoder/bahdanau_attention/dense_3/bias:0', 'decoder/bahdanau_attention_1_1/dense_4/kernel:0', 'decoder/bahdanau_attention_1_1/dense_4/bias:0', 'decoder/bahdanau_attention_1_1/dense_5/kernel:0', 'decoder/bahdanau_attention_1_1/dense_5/bias:0', 'decoder/bahdanau_attention_1_1/dense_6/kernel:0', 'decoder/bahdanau_attention_1_1/dense_6/bias:0', 'deep_biaffine_decoder/dense_9/kernel:0', 'deep_biaffine_decoder/dense_9/bias:0', 'deep_biaffine_decoder/dense_10/kernel:0', 'deep_biaffine_decoder/dense_10/bias:0', 'deep_biaffine_decoder/dense_11/kernel:0', 'deep_biaffine_decoder/dense_11/bias:0', 'deep_biaffine_decoder/dense_12/kernel:0', 'deep_biaffine_decoder/dense_12/bias:0', 'sentinel:0', 'W_d:0', 'W_e:0', 'b:0', 'U:0', 'U:0', 'W_l:0', 'W_r:0', 'bias:0'] when minimizing the loss.\n"
     ]
    },
    {
     "name": "stderr",
     "output_type": "stream",
     "text": [
      "[2020-03-17 18:08:11,929 WARNING] Gradients do not exist for variables ['encoder/embedding/embeddings:0', 'encoder/bidirectional/forward_lstm/kernel:0', 'encoder/bidirectional/forward_lstm/recurrent_kernel:0', 'encoder/bidirectional/forward_lstm/bias:0', 'encoder/bidirectional/backward_lstm/kernel:0', 'encoder/bidirectional/backward_lstm/recurrent_kernel:0', 'encoder/bidirectional/backward_lstm/bias:0', 'decoder/embedding_1/embeddings:0', 'decoder/lstm_1/kernel:0', 'decoder/lstm_1/recurrent_kernel:0', 'decoder/lstm_1/bias:0', 'decoder/bahdanau_attention/dense_1/kernel:0', 'decoder/bahdanau_attention/dense_1/bias:0', 'decoder/bahdanau_attention/dense_2/kernel:0', 'decoder/bahdanau_attention/dense_2/bias:0', 'decoder/bahdanau_attention/dense_3/kernel:0', 'decoder/bahdanau_attention/dense_3/bias:0', 'decoder/bahdanau_attention_1_1/dense_4/kernel:0', 'decoder/bahdanau_attention_1_1/dense_4/bias:0', 'decoder/bahdanau_attention_1_1/dense_5/kernel:0', 'decoder/bahdanau_attention_1_1/dense_5/bias:0', 'decoder/bahdanau_attention_1_1/dense_6/kernel:0', 'decoder/bahdanau_attention_1_1/dense_6/bias:0', 'deep_biaffine_decoder/dense_9/kernel:0', 'deep_biaffine_decoder/dense_9/bias:0', 'deep_biaffine_decoder/dense_10/kernel:0', 'deep_biaffine_decoder/dense_10/bias:0', 'deep_biaffine_decoder/dense_11/kernel:0', 'deep_biaffine_decoder/dense_11/bias:0', 'deep_biaffine_decoder/dense_12/kernel:0', 'deep_biaffine_decoder/dense_12/bias:0', 'sentinel:0', 'W_d:0', 'W_e:0', 'b:0', 'U:0', 'U:0', 'W_l:0', 'W_r:0', 'bias:0'] when minimizing the loss.\n"
     ]
    },
    {
     "name": "stdout",
     "output_type": "stream",
     "text": [
      "40/40 [==============================] - 2s 39ms/sample - loss: 15.4844\n",
      "Epoch 6/10\n",
      "WARNING:tensorflow:Gradients do not exist for variables ['encoder/embedding/embeddings:0', 'encoder/bidirectional/forward_lstm/kernel:0', 'encoder/bidirectional/forward_lstm/recurrent_kernel:0', 'encoder/bidirectional/forward_lstm/bias:0', 'encoder/bidirectional/backward_lstm/kernel:0', 'encoder/bidirectional/backward_lstm/recurrent_kernel:0', 'encoder/bidirectional/backward_lstm/bias:0', 'decoder/embedding_1/embeddings:0', 'decoder/lstm_1/kernel:0', 'decoder/lstm_1/recurrent_kernel:0', 'decoder/lstm_1/bias:0', 'decoder/bahdanau_attention/dense_1/kernel:0', 'decoder/bahdanau_attention/dense_1/bias:0', 'decoder/bahdanau_attention/dense_2/kernel:0', 'decoder/bahdanau_attention/dense_2/bias:0', 'decoder/bahdanau_attention/dense_3/kernel:0', 'decoder/bahdanau_attention/dense_3/bias:0', 'decoder/bahdanau_attention_1_1/dense_4/kernel:0', 'decoder/bahdanau_attention_1_1/dense_4/bias:0', 'decoder/bahdanau_attention_1_1/dense_5/kernel:0', 'decoder/bahdanau_attention_1_1/dense_5/bias:0', 'decoder/bahdanau_attention_1_1/dense_6/kernel:0', 'decoder/bahdanau_attention_1_1/dense_6/bias:0', 'deep_biaffine_decoder/dense_9/kernel:0', 'deep_biaffine_decoder/dense_9/bias:0', 'deep_biaffine_decoder/dense_10/kernel:0', 'deep_biaffine_decoder/dense_10/bias:0', 'deep_biaffine_decoder/dense_11/kernel:0', 'deep_biaffine_decoder/dense_11/bias:0', 'deep_biaffine_decoder/dense_12/kernel:0', 'deep_biaffine_decoder/dense_12/bias:0', 'sentinel:0', 'W_d:0', 'W_e:0', 'b:0', 'U:0', 'U:0', 'W_l:0', 'W_r:0', 'bias:0'] when minimizing the loss.\n"
     ]
    },
    {
     "name": "stderr",
     "output_type": "stream",
     "text": [
      "[2020-03-17 18:08:13,524 WARNING] Gradients do not exist for variables ['encoder/embedding/embeddings:0', 'encoder/bidirectional/forward_lstm/kernel:0', 'encoder/bidirectional/forward_lstm/recurrent_kernel:0', 'encoder/bidirectional/forward_lstm/bias:0', 'encoder/bidirectional/backward_lstm/kernel:0', 'encoder/bidirectional/backward_lstm/recurrent_kernel:0', 'encoder/bidirectional/backward_lstm/bias:0', 'decoder/embedding_1/embeddings:0', 'decoder/lstm_1/kernel:0', 'decoder/lstm_1/recurrent_kernel:0', 'decoder/lstm_1/bias:0', 'decoder/bahdanau_attention/dense_1/kernel:0', 'decoder/bahdanau_attention/dense_1/bias:0', 'decoder/bahdanau_attention/dense_2/kernel:0', 'decoder/bahdanau_attention/dense_2/bias:0', 'decoder/bahdanau_attention/dense_3/kernel:0', 'decoder/bahdanau_attention/dense_3/bias:0', 'decoder/bahdanau_attention_1_1/dense_4/kernel:0', 'decoder/bahdanau_attention_1_1/dense_4/bias:0', 'decoder/bahdanau_attention_1_1/dense_5/kernel:0', 'decoder/bahdanau_attention_1_1/dense_5/bias:0', 'decoder/bahdanau_attention_1_1/dense_6/kernel:0', 'decoder/bahdanau_attention_1_1/dense_6/bias:0', 'deep_biaffine_decoder/dense_9/kernel:0', 'deep_biaffine_decoder/dense_9/bias:0', 'deep_biaffine_decoder/dense_10/kernel:0', 'deep_biaffine_decoder/dense_10/bias:0', 'deep_biaffine_decoder/dense_11/kernel:0', 'deep_biaffine_decoder/dense_11/bias:0', 'deep_biaffine_decoder/dense_12/kernel:0', 'deep_biaffine_decoder/dense_12/bias:0', 'sentinel:0', 'W_d:0', 'W_e:0', 'b:0', 'U:0', 'U:0', 'W_l:0', 'W_r:0', 'bias:0'] when minimizing the loss.\n"
     ]
    },
    {
     "name": "stdout",
     "output_type": "stream",
     "text": [
      "40/40 [==============================] - 2s 40ms/sample - loss: 33.3436\n",
      "Epoch 7/10\n",
      "WARNING:tensorflow:Gradients do not exist for variables ['encoder/embedding/embeddings:0', 'encoder/bidirectional/forward_lstm/kernel:0', 'encoder/bidirectional/forward_lstm/recurrent_kernel:0', 'encoder/bidirectional/forward_lstm/bias:0', 'encoder/bidirectional/backward_lstm/kernel:0', 'encoder/bidirectional/backward_lstm/recurrent_kernel:0', 'encoder/bidirectional/backward_lstm/bias:0', 'decoder/embedding_1/embeddings:0', 'decoder/lstm_1/kernel:0', 'decoder/lstm_1/recurrent_kernel:0', 'decoder/lstm_1/bias:0', 'decoder/bahdanau_attention/dense_1/kernel:0', 'decoder/bahdanau_attention/dense_1/bias:0', 'decoder/bahdanau_attention/dense_2/kernel:0', 'decoder/bahdanau_attention/dense_2/bias:0', 'decoder/bahdanau_attention/dense_3/kernel:0', 'decoder/bahdanau_attention/dense_3/bias:0', 'decoder/bahdanau_attention_1_1/dense_4/kernel:0', 'decoder/bahdanau_attention_1_1/dense_4/bias:0', 'decoder/bahdanau_attention_1_1/dense_5/kernel:0', 'decoder/bahdanau_attention_1_1/dense_5/bias:0', 'decoder/bahdanau_attention_1_1/dense_6/kernel:0', 'decoder/bahdanau_attention_1_1/dense_6/bias:0', 'deep_biaffine_decoder/dense_9/kernel:0', 'deep_biaffine_decoder/dense_9/bias:0', 'deep_biaffine_decoder/dense_10/kernel:0', 'deep_biaffine_decoder/dense_10/bias:0', 'deep_biaffine_decoder/dense_11/kernel:0', 'deep_biaffine_decoder/dense_11/bias:0', 'deep_biaffine_decoder/dense_12/kernel:0', 'deep_biaffine_decoder/dense_12/bias:0', 'sentinel:0', 'W_d:0', 'W_e:0', 'b:0', 'U:0', 'U:0', 'W_l:0', 'W_r:0', 'bias:0'] when minimizing the loss.\n"
     ]
    },
    {
     "name": "stderr",
     "output_type": "stream",
     "text": [
      "[2020-03-17 18:08:15,108 WARNING] Gradients do not exist for variables ['encoder/embedding/embeddings:0', 'encoder/bidirectional/forward_lstm/kernel:0', 'encoder/bidirectional/forward_lstm/recurrent_kernel:0', 'encoder/bidirectional/forward_lstm/bias:0', 'encoder/bidirectional/backward_lstm/kernel:0', 'encoder/bidirectional/backward_lstm/recurrent_kernel:0', 'encoder/bidirectional/backward_lstm/bias:0', 'decoder/embedding_1/embeddings:0', 'decoder/lstm_1/kernel:0', 'decoder/lstm_1/recurrent_kernel:0', 'decoder/lstm_1/bias:0', 'decoder/bahdanau_attention/dense_1/kernel:0', 'decoder/bahdanau_attention/dense_1/bias:0', 'decoder/bahdanau_attention/dense_2/kernel:0', 'decoder/bahdanau_attention/dense_2/bias:0', 'decoder/bahdanau_attention/dense_3/kernel:0', 'decoder/bahdanau_attention/dense_3/bias:0', 'decoder/bahdanau_attention_1_1/dense_4/kernel:0', 'decoder/bahdanau_attention_1_1/dense_4/bias:0', 'decoder/bahdanau_attention_1_1/dense_5/kernel:0', 'decoder/bahdanau_attention_1_1/dense_5/bias:0', 'decoder/bahdanau_attention_1_1/dense_6/kernel:0', 'decoder/bahdanau_attention_1_1/dense_6/bias:0', 'deep_biaffine_decoder/dense_9/kernel:0', 'deep_biaffine_decoder/dense_9/bias:0', 'deep_biaffine_decoder/dense_10/kernel:0', 'deep_biaffine_decoder/dense_10/bias:0', 'deep_biaffine_decoder/dense_11/kernel:0', 'deep_biaffine_decoder/dense_11/bias:0', 'deep_biaffine_decoder/dense_12/kernel:0', 'deep_biaffine_decoder/dense_12/bias:0', 'sentinel:0', 'W_d:0', 'W_e:0', 'b:0', 'U:0', 'U:0', 'W_l:0', 'W_r:0', 'bias:0'] when minimizing the loss.\n"
     ]
    },
    {
     "name": "stdout",
     "output_type": "stream",
     "text": [
      "40/40 [==============================] - 2s 40ms/sample - loss: 31.2208\n",
      "Epoch 8/10\n",
      "WARNING:tensorflow:Gradients do not exist for variables ['encoder/embedding/embeddings:0', 'encoder/bidirectional/forward_lstm/kernel:0', 'encoder/bidirectional/forward_lstm/recurrent_kernel:0', 'encoder/bidirectional/forward_lstm/bias:0', 'encoder/bidirectional/backward_lstm/kernel:0', 'encoder/bidirectional/backward_lstm/recurrent_kernel:0', 'encoder/bidirectional/backward_lstm/bias:0', 'decoder/embedding_1/embeddings:0', 'decoder/lstm_1/kernel:0', 'decoder/lstm_1/recurrent_kernel:0', 'decoder/lstm_1/bias:0', 'decoder/bahdanau_attention/dense_1/kernel:0', 'decoder/bahdanau_attention/dense_1/bias:0', 'decoder/bahdanau_attention/dense_2/kernel:0', 'decoder/bahdanau_attention/dense_2/bias:0', 'decoder/bahdanau_attention/dense_3/kernel:0', 'decoder/bahdanau_attention/dense_3/bias:0', 'decoder/bahdanau_attention_1_1/dense_4/kernel:0', 'decoder/bahdanau_attention_1_1/dense_4/bias:0', 'decoder/bahdanau_attention_1_1/dense_5/kernel:0', 'decoder/bahdanau_attention_1_1/dense_5/bias:0', 'decoder/bahdanau_attention_1_1/dense_6/kernel:0', 'decoder/bahdanau_attention_1_1/dense_6/bias:0', 'deep_biaffine_decoder/dense_9/kernel:0', 'deep_biaffine_decoder/dense_9/bias:0', 'deep_biaffine_decoder/dense_10/kernel:0', 'deep_biaffine_decoder/dense_10/bias:0', 'deep_biaffine_decoder/dense_11/kernel:0', 'deep_biaffine_decoder/dense_11/bias:0', 'deep_biaffine_decoder/dense_12/kernel:0', 'deep_biaffine_decoder/dense_12/bias:0', 'sentinel:0', 'W_d:0', 'W_e:0', 'b:0', 'U:0', 'U:0', 'W_l:0', 'W_r:0', 'bias:0'] when minimizing the loss.\n"
     ]
    },
    {
     "name": "stderr",
     "output_type": "stream",
     "text": [
      "[2020-03-17 18:08:16,687 WARNING] Gradients do not exist for variables ['encoder/embedding/embeddings:0', 'encoder/bidirectional/forward_lstm/kernel:0', 'encoder/bidirectional/forward_lstm/recurrent_kernel:0', 'encoder/bidirectional/forward_lstm/bias:0', 'encoder/bidirectional/backward_lstm/kernel:0', 'encoder/bidirectional/backward_lstm/recurrent_kernel:0', 'encoder/bidirectional/backward_lstm/bias:0', 'decoder/embedding_1/embeddings:0', 'decoder/lstm_1/kernel:0', 'decoder/lstm_1/recurrent_kernel:0', 'decoder/lstm_1/bias:0', 'decoder/bahdanau_attention/dense_1/kernel:0', 'decoder/bahdanau_attention/dense_1/bias:0', 'decoder/bahdanau_attention/dense_2/kernel:0', 'decoder/bahdanau_attention/dense_2/bias:0', 'decoder/bahdanau_attention/dense_3/kernel:0', 'decoder/bahdanau_attention/dense_3/bias:0', 'decoder/bahdanau_attention_1_1/dense_4/kernel:0', 'decoder/bahdanau_attention_1_1/dense_4/bias:0', 'decoder/bahdanau_attention_1_1/dense_5/kernel:0', 'decoder/bahdanau_attention_1_1/dense_5/bias:0', 'decoder/bahdanau_attention_1_1/dense_6/kernel:0', 'decoder/bahdanau_attention_1_1/dense_6/bias:0', 'deep_biaffine_decoder/dense_9/kernel:0', 'deep_biaffine_decoder/dense_9/bias:0', 'deep_biaffine_decoder/dense_10/kernel:0', 'deep_biaffine_decoder/dense_10/bias:0', 'deep_biaffine_decoder/dense_11/kernel:0', 'deep_biaffine_decoder/dense_11/bias:0', 'deep_biaffine_decoder/dense_12/kernel:0', 'deep_biaffine_decoder/dense_12/bias:0', 'sentinel:0', 'W_d:0', 'W_e:0', 'b:0', 'U:0', 'U:0', 'W_l:0', 'W_r:0', 'bias:0'] when minimizing the loss.\n"
     ]
    },
    {
     "name": "stdout",
     "output_type": "stream",
     "text": [
      "40/40 [==============================] - 2s 39ms/sample - loss: 22.2741\n",
      "Epoch 9/10\n",
      "WARNING:tensorflow:Gradients do not exist for variables ['encoder/embedding/embeddings:0', 'encoder/bidirectional/forward_lstm/kernel:0', 'encoder/bidirectional/forward_lstm/recurrent_kernel:0', 'encoder/bidirectional/forward_lstm/bias:0', 'encoder/bidirectional/backward_lstm/kernel:0', 'encoder/bidirectional/backward_lstm/recurrent_kernel:0', 'encoder/bidirectional/backward_lstm/bias:0', 'decoder/embedding_1/embeddings:0', 'decoder/lstm_1/kernel:0', 'decoder/lstm_1/recurrent_kernel:0', 'decoder/lstm_1/bias:0', 'decoder/bahdanau_attention/dense_1/kernel:0', 'decoder/bahdanau_attention/dense_1/bias:0', 'decoder/bahdanau_attention/dense_2/kernel:0', 'decoder/bahdanau_attention/dense_2/bias:0', 'decoder/bahdanau_attention/dense_3/kernel:0', 'decoder/bahdanau_attention/dense_3/bias:0', 'decoder/bahdanau_attention_1_1/dense_4/kernel:0', 'decoder/bahdanau_attention_1_1/dense_4/bias:0', 'decoder/bahdanau_attention_1_1/dense_5/kernel:0', 'decoder/bahdanau_attention_1_1/dense_5/bias:0', 'decoder/bahdanau_attention_1_1/dense_6/kernel:0', 'decoder/bahdanau_attention_1_1/dense_6/bias:0', 'deep_biaffine_decoder/dense_9/kernel:0', 'deep_biaffine_decoder/dense_9/bias:0', 'deep_biaffine_decoder/dense_10/kernel:0', 'deep_biaffine_decoder/dense_10/bias:0', 'deep_biaffine_decoder/dense_11/kernel:0', 'deep_biaffine_decoder/dense_11/bias:0', 'deep_biaffine_decoder/dense_12/kernel:0', 'deep_biaffine_decoder/dense_12/bias:0', 'sentinel:0', 'W_d:0', 'W_e:0', 'b:0', 'U:0', 'U:0', 'W_l:0', 'W_r:0', 'bias:0'] when minimizing the loss.\n"
     ]
    },
    {
     "name": "stderr",
     "output_type": "stream",
     "text": [
      "[2020-03-17 18:08:18,262 WARNING] Gradients do not exist for variables ['encoder/embedding/embeddings:0', 'encoder/bidirectional/forward_lstm/kernel:0', 'encoder/bidirectional/forward_lstm/recurrent_kernel:0', 'encoder/bidirectional/forward_lstm/bias:0', 'encoder/bidirectional/backward_lstm/kernel:0', 'encoder/bidirectional/backward_lstm/recurrent_kernel:0', 'encoder/bidirectional/backward_lstm/bias:0', 'decoder/embedding_1/embeddings:0', 'decoder/lstm_1/kernel:0', 'decoder/lstm_1/recurrent_kernel:0', 'decoder/lstm_1/bias:0', 'decoder/bahdanau_attention/dense_1/kernel:0', 'decoder/bahdanau_attention/dense_1/bias:0', 'decoder/bahdanau_attention/dense_2/kernel:0', 'decoder/bahdanau_attention/dense_2/bias:0', 'decoder/bahdanau_attention/dense_3/kernel:0', 'decoder/bahdanau_attention/dense_3/bias:0', 'decoder/bahdanau_attention_1_1/dense_4/kernel:0', 'decoder/bahdanau_attention_1_1/dense_4/bias:0', 'decoder/bahdanau_attention_1_1/dense_5/kernel:0', 'decoder/bahdanau_attention_1_1/dense_5/bias:0', 'decoder/bahdanau_attention_1_1/dense_6/kernel:0', 'decoder/bahdanau_attention_1_1/dense_6/bias:0', 'deep_biaffine_decoder/dense_9/kernel:0', 'deep_biaffine_decoder/dense_9/bias:0', 'deep_biaffine_decoder/dense_10/kernel:0', 'deep_biaffine_decoder/dense_10/bias:0', 'deep_biaffine_decoder/dense_11/kernel:0', 'deep_biaffine_decoder/dense_11/bias:0', 'deep_biaffine_decoder/dense_12/kernel:0', 'deep_biaffine_decoder/dense_12/bias:0', 'sentinel:0', 'W_d:0', 'W_e:0', 'b:0', 'U:0', 'U:0', 'W_l:0', 'W_r:0', 'bias:0'] when minimizing the loss.\n"
     ]
    },
    {
     "name": "stdout",
     "output_type": "stream",
     "text": [
      "40/40 [==============================] - 2s 40ms/sample - loss: 13.3618\n",
      "Epoch 10/10\n",
      "WARNING:tensorflow:Gradients do not exist for variables ['encoder/embedding/embeddings:0', 'encoder/bidirectional/forward_lstm/kernel:0', 'encoder/bidirectional/forward_lstm/recurrent_kernel:0', 'encoder/bidirectional/forward_lstm/bias:0', 'encoder/bidirectional/backward_lstm/kernel:0', 'encoder/bidirectional/backward_lstm/recurrent_kernel:0', 'encoder/bidirectional/backward_lstm/bias:0', 'decoder/embedding_1/embeddings:0', 'decoder/lstm_1/kernel:0', 'decoder/lstm_1/recurrent_kernel:0', 'decoder/lstm_1/bias:0', 'decoder/bahdanau_attention/dense_1/kernel:0', 'decoder/bahdanau_attention/dense_1/bias:0', 'decoder/bahdanau_attention/dense_2/kernel:0', 'decoder/bahdanau_attention/dense_2/bias:0', 'decoder/bahdanau_attention/dense_3/kernel:0', 'decoder/bahdanau_attention/dense_3/bias:0', 'decoder/bahdanau_attention_1_1/dense_4/kernel:0', 'decoder/bahdanau_attention_1_1/dense_4/bias:0', 'decoder/bahdanau_attention_1_1/dense_5/kernel:0', 'decoder/bahdanau_attention_1_1/dense_5/bias:0', 'decoder/bahdanau_attention_1_1/dense_6/kernel:0', 'decoder/bahdanau_attention_1_1/dense_6/bias:0', 'deep_biaffine_decoder/dense_9/kernel:0', 'deep_biaffine_decoder/dense_9/bias:0', 'deep_biaffine_decoder/dense_10/kernel:0', 'deep_biaffine_decoder/dense_10/bias:0', 'deep_biaffine_decoder/dense_11/kernel:0', 'deep_biaffine_decoder/dense_11/bias:0', 'deep_biaffine_decoder/dense_12/kernel:0', 'deep_biaffine_decoder/dense_12/bias:0', 'sentinel:0', 'W_d:0', 'W_e:0', 'b:0', 'U:0', 'U:0', 'W_l:0', 'W_r:0', 'bias:0'] when minimizing the loss.\n"
     ]
    },
    {
     "name": "stderr",
     "output_type": "stream",
     "text": [
      "[2020-03-17 18:08:19,843 WARNING] Gradients do not exist for variables ['encoder/embedding/embeddings:0', 'encoder/bidirectional/forward_lstm/kernel:0', 'encoder/bidirectional/forward_lstm/recurrent_kernel:0', 'encoder/bidirectional/forward_lstm/bias:0', 'encoder/bidirectional/backward_lstm/kernel:0', 'encoder/bidirectional/backward_lstm/recurrent_kernel:0', 'encoder/bidirectional/backward_lstm/bias:0', 'decoder/embedding_1/embeddings:0', 'decoder/lstm_1/kernel:0', 'decoder/lstm_1/recurrent_kernel:0', 'decoder/lstm_1/bias:0', 'decoder/bahdanau_attention/dense_1/kernel:0', 'decoder/bahdanau_attention/dense_1/bias:0', 'decoder/bahdanau_attention/dense_2/kernel:0', 'decoder/bahdanau_attention/dense_2/bias:0', 'decoder/bahdanau_attention/dense_3/kernel:0', 'decoder/bahdanau_attention/dense_3/bias:0', 'decoder/bahdanau_attention_1_1/dense_4/kernel:0', 'decoder/bahdanau_attention_1_1/dense_4/bias:0', 'decoder/bahdanau_attention_1_1/dense_5/kernel:0', 'decoder/bahdanau_attention_1_1/dense_5/bias:0', 'decoder/bahdanau_attention_1_1/dense_6/kernel:0', 'decoder/bahdanau_attention_1_1/dense_6/bias:0', 'deep_biaffine_decoder/dense_9/kernel:0', 'deep_biaffine_decoder/dense_9/bias:0', 'deep_biaffine_decoder/dense_10/kernel:0', 'deep_biaffine_decoder/dense_10/bias:0', 'deep_biaffine_decoder/dense_11/kernel:0', 'deep_biaffine_decoder/dense_11/bias:0', 'deep_biaffine_decoder/dense_12/kernel:0', 'deep_biaffine_decoder/dense_12/bias:0', 'sentinel:0', 'W_d:0', 'W_e:0', 'b:0', 'U:0', 'U:0', 'W_l:0', 'W_r:0', 'bias:0'] when minimizing the loss.\n"
     ]
    },
    {
     "name": "stdout",
     "output_type": "stream",
     "text": [
      "40/40 [==============================] - 2s 39ms/sample - loss: 13.4457\n"
     ]
    },
    {
     "data": {
      "text/plain": [
       "<tensorflow.python.keras.callbacks.History at 0x7f9a06ce9510>"
      ]
     },
     "execution_count": 12,
     "metadata": {},
     "output_type": "execute_result"
    }
   ],
   "source": [
    "token_encoder_input = encoder_input.get('token')\n",
    "pos_encoder_input = encoder_input.get('pos_tag')\n",
    "token_decoder_input = decoder_input.get('token')\n",
    "pos_decoder_input = decoder_input.get('pos_tag')\n",
    "copy_attention_map_input = generator_input.get('copy_attention_maps')\n",
    "coref_attention_map_input = generator_input.get('coref_attention_maps')\n",
    "edge_heads_input = parser_input.get('edge_heads')\n",
    "edge_labels_input = parser_input.get('edge_labels')\n",
    "parser_mask_input = parser_input.get('mask')\n",
    "coref_input = parser_input.get('corefs')\n",
    "\n",
    "\n",
    "# token_encoder_input, \n",
    "# pos_encoder_input, \n",
    "# token_decoder_input, \n",
    "# pos_decoder_input, \n",
    "# copy_attention_maps_input, \n",
    "# coref_attention_maps_input,\n",
    "# mask_input,\n",
    "# edge_heads_input,\n",
    "# edge_labels_input,\n",
    "# corefs_input,\n",
    "\n",
    "model_input = [\n",
    "    token_encoder_input, \n",
    "    pos_encoder_input, \n",
    "    token_decoder_input, \n",
    "    pos_decoder_input, \n",
    "    copy_attention_map_input, \n",
    "    coref_attention_map_input,\n",
    "    parser_mask_input, \n",
    "    edge_heads_input,\n",
    "    edge_labels_input,\n",
    "    coref_input\n",
    "]\n",
    "\n",
    "model.fit(model_input, np.asarray([1 for _ in range(len(model_input[0]))]), epochs=10)"
   ]
  },
  {
   "cell_type": "code",
   "execution_count": null,
   "metadata": {},
   "outputs": [],
   "source": [
    "\n"
   ]
  }
 ],
 "metadata": {
  "kernelspec": {
   "display_name": "Python 3",
   "language": "python",
   "name": "python3"
  },
  "language_info": {
   "codemirror_mode": {
    "name": "ipython",
    "version": 3
   },
   "file_extension": ".py",
   "mimetype": "text/x-python",
   "name": "python",
   "nbconvert_exporter": "python",
   "pygments_lexer": "ipython3",
   "version": "3.7.5"
  }
 },
 "nbformat": 4,
 "nbformat_minor": 4
}
