{
 "cells": [
  {
   "cell_type": "code",
   "execution_count": 1,
   "metadata": {},
   "outputs": [],
   "source": [
    "import os\n",
    "import sys\n",
    "os.environ['TF_CPP_MIN_LOG_LEVEL'] = '2' \n",
    "module_path = os.path.abspath(os.path.join('..'))\n",
    "if module_path not in sys.path:\n",
    "    sys.path.append(module_path)"
   ]
  },
  {
   "cell_type": "code",
   "execution_count": 2,
   "metadata": {},
   "outputs": [],
   "source": [
    "import tensorflow as tf\n",
    "tf.executing_eagerly()\n",
    "tf.get_logger().setLevel('ERROR')"
   ]
  },
  {
   "cell_type": "code",
   "execution_count": 3,
   "metadata": {},
   "outputs": [
    {
     "name": "stderr",
     "output_type": "stream",
     "text": [
      "[2020-04-02 16:18:47,597 INFO] Better speed can be achieved with apex installed from https://www.github.com/nvidia/apex .\n"
     ]
    }
   ],
   "source": [
    "import numpy as np\n",
    "import matplotlib.pyplot as plt\n",
    "plt.rcParams['figure.figsize'] = [15, 10]\n",
    "\n",
    "from tqdm import tqdm\n",
    "\n",
    "from stog.utils.params import Params\n",
    "from stog.data.dataset_builder import dataset_from_params, iterator_from_params\n",
    "from stog.data.vocabulary import Vocabulary\n",
    "from stog.training.trainer import Trainer\n",
    "from stog.data.dataset import Batch\n",
    "from model.text_to_amr import TextToAMR\n",
    "\n",
    "from tensorflow.keras.layers import Embedding, Input, Dense, Flatten, LSTM, concatenate\n",
    "from tensorflow.keras.models import Model\n",
    "from tensorflow.keras.utils import plot_model\n",
    "from tensorflow.keras.losses import MeanSquaredError"
   ]
  },
  {
   "cell_type": "code",
   "execution_count": 4,
   "metadata": {},
   "outputs": [
    {
     "name": "stderr",
     "output_type": "stream",
     "text": [
      "/home/adylanrff/Documents/Kuliah/TA/amr_parser/stog/utils/params.py:104: YAMLLoadWarning: calling yaml.load() without Loader=... is deprecated, as the default Loader is unsafe. Please read https://msg.pyyaml.org/load for full details.\n",
      "  dict_merge.dict_merge(params_dict, yaml.load(f))\n"
     ]
    }
   ],
   "source": [
    "params = Params.from_file(\"../model/model_params.yaml\")"
   ]
  },
  {
   "cell_type": "code",
   "execution_count": 5,
   "metadata": {},
   "outputs": [
    {
     "name": "stderr",
     "output_type": "stream",
     "text": [
      "[2020-04-02 16:18:47,697 ERROR] Model name 'data/bert-base-cased/bert-base-cased-vocab.txt' was not found in model name list (bert-base-uncased, bert-large-uncased, bert-base-cased, bert-large-cased, bert-base-multilingual-uncased, bert-base-multilingual-cased, bert-base-chinese). We assumed 'data/bert-base-cased/bert-base-cased-vocab.txt' was a path or url but couldn't find any file associated to this path or url.\n",
      "0it [00:00, ?it/s][2020-04-02 16:18:47,699 INFO] Reading instances from lines in file at: ../data/raw/amr.txt.features\n",
      "[2020-04-02 16:18:47,758 INFO] POS tag coverage: 0.3087 (184/596)\n",
      "40it [00:00, 673.01it/s]\n",
      "[2020-04-02 16:18:47,760 ERROR] Model name 'data/bert-base-cased/bert-base-cased-vocab.txt' was not found in model name list (bert-base-uncased, bert-large-uncased, bert-base-cased, bert-large-cased, bert-base-multilingual-uncased, bert-base-multilingual-cased, bert-base-chinese). We assumed 'data/bert-base-cased/bert-base-cased-vocab.txt' was a path or url but couldn't find any file associated to this path or url.\n",
      "0it [00:00, ?it/s][2020-04-02 16:18:47,762 INFO] Reading instances from lines in file at: ../data/raw/amr.txt.features\n",
      "[2020-04-02 16:18:47,817 INFO] POS tag coverage: 0.3087 (184/596)\n",
      "40it [00:00, 718.26it/s]\n",
      "[2020-04-02 16:18:47,818 ERROR] Model name 'data/bert-base-cased/bert-base-cased-vocab.txt' was not found in model name list (bert-base-uncased, bert-large-uncased, bert-base-cased, bert-large-cased, bert-base-multilingual-uncased, bert-base-multilingual-cased, bert-base-chinese). We assumed 'data/bert-base-cased/bert-base-cased-vocab.txt' was a path or url but couldn't find any file associated to this path or url.\n",
      "0it [00:00, ?it/s][2020-04-02 16:18:47,819 INFO] Reading instances from lines in file at: ../data/raw/amr.txt.features\n",
      "[2020-04-02 16:18:47,872 INFO] POS tag coverage: 0.3087 (184/596)\n",
      "40it [00:00, 746.48it/s]"
     ]
    },
    {
     "name": "stdout",
     "output_type": "stream",
     "text": [
      "Building train datasets ...\n",
      "False\n",
      "Building dev datasets ...\n",
      "False\n",
      "Building test datasets ...\n",
      "False\n"
     ]
    },
    {
     "name": "stderr",
     "output_type": "stream",
     "text": [
      "\n"
     ]
    }
   ],
   "source": [
    "data_params = params['data']\n",
    "dataset = dataset_from_params(data_params)"
   ]
  },
  {
   "cell_type": "code",
   "execution_count": 6,
   "metadata": {},
   "outputs": [],
   "source": [
    "train_data = dataset['train']\n",
    "dev_data = dataset.get('dev')\n",
    "test_data = dataset.get('test')"
   ]
  },
  {
   "cell_type": "code",
   "execution_count": 7,
   "metadata": {},
   "outputs": [
    {
     "name": "stderr",
     "output_type": "stream",
     "text": [
      "[2020-04-02 16:18:47,892 INFO] Fitting token dictionary from dataset.\n",
      "100%|██████████| 40/40 [00:00<00:00, 3329.67it/s]\n",
      "[2020-04-02 16:18:47,910 WARNING] vocabulary serialization directory ../data/processed/serialization is not empty\n"
     ]
    },
    {
     "name": "stdout",
     "output_type": "stream",
     "text": [
      "<stog.data.dataset.Batch object at 0x7f656ee17390>\n",
      "src_tokens\n",
      "   encoder_tokens\n",
      "   encoder_characters\n",
      "src_must_copy_tags\n",
      "tgt_tokens\n",
      "   decoder_tokens\n",
      "   decoder_characters\n",
      "src_pos_tags\n",
      "tgt_pos_tags\n",
      "tgt_copy_indices\n",
      "tgt_copy_mask\n",
      "tgt_copy_map\n",
      "src_copy_indices\n",
      "src_copy_map\n",
      "head_tags\n",
      "head_indices\n"
     ]
    }
   ],
   "source": [
    "vocab_params = params.get('vocab', {})\n",
    "vocab = Vocabulary.from_instances(instances=train_data, **vocab_params)\n",
    "vocab.save_to_files(\"../data/processed/serialization\")\n",
    "\n",
    "dataset = Batch(train_data)\n",
    "dataset.index_instances(vocab)\n",
    "dataset.index_instances(vocab)\n",
    "print(dataset)\n",
    "\n",
    "\n",
    "for key in dataset.as_tensor_dict():\n",
    "    print(key)\n",
    "    content = dataset.as_tensor_dict()[key]\n",
    "    if isinstance(content, dict):\n",
    "        for inner_key in content:\n",
    "            print(\"  \", inner_key)\n",
    "\n",
    "train_iterator, dev_iterater, test_iterater = iterator_from_params(vocab, data_params['iterator'])\n",
    "\n",
    "train_dataset = Batch(train_data)\n",
    "train_dataset.index_instances(vocab)\n",
    "\n",
    "test_dataset = Batch(test_data)\n",
    "test_dataset.index_instances(vocab)\n",
    "\n",
    "train_dataset = train_dataset.as_tensor_dict()\n",
    "test_dataset = test_dataset.as_tensor_dict()"
   ]
  },
  {
   "cell_type": "code",
   "execution_count": 8,
   "metadata": {},
   "outputs": [],
   "source": [
    "def create_model_input(encoder_input, decoder_input, generator_input, parser_input):\n",
    "    token_encoder_input = encoder_input.get('token')\n",
    "    pos_encoder_input = encoder_input.get('pos_tag')\n",
    "    mask_encoder_input = encoder_input.get('mask')\n",
    "    token_decoder_input = decoder_input.get('token')\n",
    "    pos_decoder_input = decoder_input.get('pos_tag')\n",
    "\n",
    "    copy_attention_map_input = generator_input.get('copy_attention_maps')\n",
    "    coref_attention_map_input = generator_input.get('coref_attention_maps')\n",
    "    vocab_target_input  = generator_input.get('vocab_targets')\n",
    "    coref_target_input  = generator_input.get('coref_targets')\n",
    "    copy_target_input  = generator_input.get('copy_targets')\n",
    "\n",
    "    edge_heads_input = parser_input.get('edge_heads')\n",
    "    edge_labels_input = parser_input.get('edge_labels')\n",
    "    parser_mask_input = parser_input.get('mask')\n",
    "    coref_input = parser_input.get('corefs')\n",
    "\n",
    "\n",
    "    # token_encoder_input, \n",
    "    # pos_encoder_input, \n",
    "    # token_decoder_input, \n",
    "    # pos_decoder_input, \n",
    "    # copy_attention_maps_input, \n",
    "    # coref_attention_maps_input,\n",
    "    # mask_input,\n",
    "    # edge_heads_input,\n",
    "    # edge_labels_input,\n",
    "    # corefs_input,\n",
    "\n",
    "    model_input = [\n",
    "        token_encoder_input, \n",
    "        pos_encoder_input, \n",
    "        token_decoder_input, \n",
    "        pos_decoder_input, \n",
    "        copy_attention_map_input, \n",
    "        coref_attention_map_input,\n",
    "        parser_mask_input, \n",
    "        edge_heads_input,\n",
    "        edge_labels_input,\n",
    "        coref_input,\n",
    "        vocab_target_input,\n",
    "        coref_target_input,\n",
    "        copy_target_input,\n",
    "        mask_encoder_input\n",
    "    ]\n",
    "    \n",
    "    return model_input\n"
   ]
  },
  {
   "cell_type": "code",
   "execution_count": 9,
   "metadata": {},
   "outputs": [
    {
     "name": "stdout",
     "output_type": "stream",
     "text": [
      "Vocabulary with namespaces:\n",
      " \tNon Padded Namespaces: {'must_copy_tags', 'coref_tags'}\n",
      " \tNamespace: encoder_token_ids, Size: 334 \n",
      " \tNamespace: encoder_token_characters, Size: 39 \n",
      " \tNamespace: decoder_token_ids, Size: 283 \n",
      " \tNamespace: decoder_token_characters, Size: 65 \n",
      " \tNamespace: pos_tags, Size: 16 \n",
      " \tNamespace: head_tags, Size: 35 \n",
      "\n"
     ]
    }
   ],
   "source": [
    "print(vocab)"
   ]
  },
  {
   "cell_type": "markdown",
   "metadata": {},
   "source": [
    "###### Test Model"
   ]
  },
  {
   "cell_type": "code",
   "execution_count": 10,
   "metadata": {},
   "outputs": [
    {
     "name": "stdout",
     "output_type": "stream",
     "text": [
      "ENCODER_INPUT\n",
      "bert_token: None\n",
      "token_subword_index: None\n",
      "token: (40, 25)\n",
      "pos_tag: (40, 25)\n",
      "must_copy_tag: (40, 25)\n",
      "char: (40, 25, 14)\n",
      "mask: (40, 25)\n",
      "\n",
      "DECODER_INPUT\n",
      "token: (40, 28)\n",
      "pos_tag: (40, 28)\n",
      "char: (40, 28, 17)\n",
      "coref: (40, 28)\n",
      "\n",
      "GENERATOR_INPUT\n",
      "vocab_targets: (40, 28)\n",
      "coref_targets: (40, 28)\n",
      "coref_attention_maps: (40, 28, 29)\n",
      "copy_targets: (40, 28)\n",
      "copy_attention_maps: (40, 25, 27)\n",
      "\n",
      "PARSER_INPUT\n",
      "edge_heads: (40, 28)\n",
      "edge_labels: (40, 28)\n",
      "corefs: (40, 28)\n",
      "mask: (40, 28)\n",
      "\n"
     ]
    }
   ],
   "source": [
    "text_to_amr = TextToAMR(vocab)\n",
    "encoder_input, decoder_input, generator_input, parser_input = text_to_amr.prepare_input(train_dataset)"
   ]
  },
  {
   "cell_type": "code",
   "execution_count": 11,
   "metadata": {},
   "outputs": [],
   "source": [
    "train_model_input = create_model_input(encoder_input, decoder_input, generator_input, parser_input)\n",
    "train_model_input = [e.astype('int32') for e in train_model_input]"
   ]
  },
  {
   "cell_type": "code",
   "execution_count": 12,
   "metadata": {},
   "outputs": [
    {
     "name": "stdout",
     "output_type": "stream",
     "text": [
      "tensor([ 3, 65,  5,  2, 66, 67,  5, 68, 69, 70, 71, 72, 73,  4,  0,  0,  0,  0,\n",
      "         0,  0,  0,  0,  0,  0,  0,  0,  0,  0,  0])\n"
     ]
    }
   ],
   "source": [
    "print(train_dataset['tgt_tokens']['decoder_tokens'][0])"
   ]
  },
  {
   "cell_type": "markdown",
   "metadata": {},
   "source": [
    "### Train"
   ]
  },
  {
   "cell_type": "code",
   "execution_count": 13,
   "metadata": {},
   "outputs": [
    {
     "name": "stderr",
     "output_type": "stream",
     "text": [
      "TOKEN LOSS: nan, EDGE LOSS: 637.9061, TOTAL LOSS: nan: 100%|██████████| 2/2 [00:07<00:00,  3.64s/it]\n"
     ]
    }
   ],
   "source": [
    "total_losses = []\n",
    "token_losses = []\n",
    "edge_losses = []\n",
    "\n",
    "EPOCHS = 2\n",
    "\n",
    "epoch_tqdm = tqdm(range(EPOCHS))\n",
    "\n",
    "for epoch in epoch_tqdm:\n",
    "    loss, token_loss, edge_loss = text_to_amr.train(train_model_input)\n",
    "    total_losses.append(loss)\n",
    "    token_losses.append(token_loss)\n",
    "    edge_losses.append(edge_loss)\n",
    "    epoch_tqdm.set_description(\"TOKEN LOSS: {:.4f}, EDGE LOSS: {:.4f}, TOTAL LOSS: {:.4f}\".format(float(token_loss.numpy()), \\\n",
    "                                             float(edge_loss.numpy()), \\\n",
    "                                            float(loss.numpy())))"
   ]
  },
  {
   "cell_type": "code",
   "execution_count": 14,
   "metadata": {},
   "outputs": [
    {
     "data": {
      "image/png": "[encoded data removed]",
      "text/plain": [
       "<Figure size 1080x720 with 1 Axes>"
      ]
     },
     "metadata": {
      "needs_background": "light"
     },
     "output_type": "display_data"
    }
   ],
   "source": [
    "plt.stackplot([i for i in range(EPOCHS)], token_losses, edge_losses, labels=['Token Loss', 'Edge Loss'])\n",
    "plt.title(\"TRAIN 200 EPOCH\")\n",
    "plt.legend()\n",
    "plt.show()"
   ]
  },
  {
   "cell_type": "code",
   "execution_count": 15,
   "metadata": {},
   "outputs": [
    {
     "data": {
      "image/png": "[encoded data removed]",
      "text/plain": [
       "<Figure size 1080x720 with 1 Axes>"
      ]
     },
     "metadata": {
      "needs_background": "light"
     },
     "output_type": "display_data"
    }
   ],
   "source": [
    "plt.plot(edge_losses, label=\"Edge Losses\", color=\"orange\")\n",
    "plt.legend()\n",
    "plt.show()"
   ]
  },
  {
   "cell_type": "code",
   "execution_count": 16,
   "metadata": {},
   "outputs": [
    {
     "data": {
      "image/png": "[encoded data removed]",
      "text/plain": [
       "<Figure size 1080x720 with 1 Axes>"
      ]
     },
     "metadata": {
      "needs_background": "light"
     },
     "output_type": "display_data"
    }
   ],
   "source": [
    "plt.plot(token_losses, label=\"Token Losses\")\n",
    "plt.legend()\n",
    "plt.show()"
   ]
  },
  {
   "cell_type": "markdown",
   "metadata": {},
   "source": [
    "## Inference"
   ]
  },
  {
   "cell_type": "code",
   "execution_count": 17,
   "metadata": {},
   "outputs": [
    {
     "name": "stderr",
     "output_type": "stream",
     "text": [
      "[2020-04-02 16:18:56,722 ERROR] Model name 'data/bert-base-cased/bert-base-cased-vocab.txt' was not found in model name list (bert-base-uncased, bert-large-uncased, bert-base-cased, bert-large-cased, bert-base-multilingual-uncased, bert-base-multilingual-cased, bert-base-chinese). We assumed 'data/bert-base-cased/bert-base-cased-vocab.txt' was a path or url but couldn't find any file associated to this path or url.\n",
      "0it [00:00, ?it/s][2020-04-02 16:18:56,728 INFO] Reading instances from lines in file at: ../data/raw/amr.txt.features\n",
      "[2020-04-02 16:18:56,797 INFO] POS tag coverage: 0.3087 (184/596)\n",
      "40it [00:00, 568.48it/s]\n",
      "[2020-04-02 16:18:56,798 ERROR] Model name 'data/bert-base-cased/bert-base-cased-vocab.txt' was not found in model name list (bert-base-uncased, bert-large-uncased, bert-base-cased, bert-large-cased, bert-base-multilingual-uncased, bert-base-multilingual-cased, bert-base-chinese). We assumed 'data/bert-base-cased/bert-base-cased-vocab.txt' was a path or url but couldn't find any file associated to this path or url.\n",
      "0it [00:00, ?it/s][2020-04-02 16:18:56,800 INFO] Reading instances from lines in file at: ../data/raw/amr.txt.features\n",
      "[2020-04-02 16:18:56,879 INFO] POS tag coverage: 0.3087 (184/596)\n",
      "40it [00:00, 500.42it/s]\n",
      "[2020-04-02 16:18:56,880 ERROR] Model name 'data/bert-base-cased/bert-base-cased-vocab.txt' was not found in model name list (bert-base-uncased, bert-large-uncased, bert-base-cased, bert-large-cased, bert-base-multilingual-uncased, bert-base-multilingual-cased, bert-base-chinese). We assumed 'data/bert-base-cased/bert-base-cased-vocab.txt' was a path or url but couldn't find any file associated to this path or url.\n",
      "0it [00:00, ?it/s][2020-04-02 16:18:56,882 INFO] Reading instances from lines in file at: ../data/raw/amr.txt.features\n"
     ]
    },
    {
     "name": "stdout",
     "output_type": "stream",
     "text": [
      "Building train datasets ...\n",
      "True\n",
      "Building dev datasets ...\n",
      "True\n",
      "Building test datasets ...\n",
      "True\n"
     ]
    },
    {
     "name": "stderr",
     "output_type": "stream",
     "text": [
      "[2020-04-02 16:18:56,955 INFO] POS tag coverage: 0.3087 (184/596)\n",
      "40it [00:00, 529.25it/s]\n"
     ]
    }
   ],
   "source": [
    "test_dataset = dataset_from_params(data_params, evaluation=True)"
   ]
  },
  {
   "cell_type": "code",
   "execution_count": 18,
   "metadata": {},
   "outputs": [],
   "source": [
    "test_data = test_dataset['test']\n",
    "test_data = Batch(test_data)\n",
    "test_data.index_instances(vocab)\n",
    "test_data_tensor = test_data.as_tensor_dict()"
   ]
  },
  {
   "cell_type": "code",
   "execution_count": 19,
   "metadata": {},
   "outputs": [
    {
     "name": "stdout",
     "output_type": "stream",
     "text": [
      "ENCODER_INPUT\n",
      "bert_token: None\n",
      "token_subword_index: None\n",
      "token: (40, 25)\n",
      "pos_tag: (40, 25)\n",
      "must_copy_tag: (40, 25)\n",
      "char: (40, 25, 14)\n",
      "mask: (40, 25)\n",
      "\n",
      "DECODER_INPUT\n",
      "token: (40, 28)\n",
      "pos_tag: (40, 28)\n",
      "char: (40, 28, 17)\n",
      "coref: (40, 28)\n",
      "\n",
      "GENERATOR_INPUT\n",
      "vocab_targets: (40, 28)\n",
      "coref_targets: (40, 28)\n",
      "coref_attention_maps: (40, 28, 29)\n",
      "copy_targets: (40, 28)\n",
      "copy_attention_maps: (40, 25, 27)\n",
      "\n",
      "PARSER_INPUT\n",
      "edge_heads: (40, 28)\n",
      "edge_labels: (40, 28)\n",
      "corefs: (40, 28)\n",
      "mask: (40, 28)\n",
      "\n"
     ]
    }
   ],
   "source": [
    "encoder_input, decoder_input, generator_input, parser_input = text_to_amr.prepare_input(test_data_tensor)"
   ]
  },
  {
   "cell_type": "code",
   "execution_count": 20,
   "metadata": {},
   "outputs": [],
   "source": [
    "test_model_input = create_model_input(encoder_input, decoder_input, generator_input, parser_input)\n",
    "test_model_input += [test_data_tensor['src_copy_vocab'], test_data_tensor['tag_lut'], test_data_tensor.get('source_copy_invalid_ids', None)]"
   ]
  },
  {
   "cell_type": "code",
   "execution_count": 21,
   "metadata": {},
   "outputs": [
    {
     "name": "stderr",
     "output_type": "stream",
     "text": [
      "  4%|▎         | 1/28 [00:05<02:37,  5.84s/it]\n"
     ]
    },
    {
     "ename": "ValueError",
     "evalue": "too many values to unpack (expected 3)",
     "output_type": "error",
     "traceback": [
      "\u001b[0;31m---------------------------------------------------------------------------\u001b[0m",
      "\u001b[0;31mValueError\u001b[0m                                Traceback (most recent call last)",
      "\u001b[0;32m<ipython-input-21-05025c6a7afa>\u001b[0m in \u001b[0;36m<module>\u001b[0;34m\u001b[0m\n\u001b[0;32m----> 1\u001b[0;31m \u001b[0moutputs\u001b[0m \u001b[0;34m=\u001b[0m \u001b[0mtext_to_amr\u001b[0m\u001b[0;34m.\u001b[0m\u001b[0mpredict\u001b[0m\u001b[0;34m(\u001b[0m\u001b[0mtest_model_input\u001b[0m\u001b[0;34m)\u001b[0m\u001b[0;34m\u001b[0m\u001b[0;34m\u001b[0m\u001b[0m\n\u001b[0m",
      "\u001b[0;32m~/Documents/Kuliah/TA/amr_parser/model/text_to_amr.py\u001b[0m in \u001b[0;36mpredict\u001b[0;34m(self, model_input)\u001b[0m\n\u001b[1;32m    127\u001b[0m \u001b[0;34m\u001b[0m\u001b[0m\n\u001b[1;32m    128\u001b[0m         generator_outputs = self.decode_with_pointer_generator(\n\u001b[0;32m--> 129\u001b[0;31m                 encoder_memory_bank, encoder_mask, encoder_final_states, copy_attention_maps, copy_vocabs, tag_luts, invalid_indexes)\n\u001b[0m\u001b[1;32m    130\u001b[0m         \u001b[0mprint\u001b[0m\u001b[0;34m(\u001b[0m\u001b[0mgenerator_outputs\u001b[0m\u001b[0;34m)\u001b[0m\u001b[0;34m\u001b[0m\u001b[0;34m\u001b[0m\u001b[0m\n\u001b[1;32m    131\u001b[0m         parser_outputs = self.decode_with_graph_parser(\n",
      "\u001b[0;32m~/Documents/Kuliah/TA/amr_parser/model/text_to_amr.py\u001b[0m in \u001b[0;36mdecode_with_pointer_generator\u001b[0;34m(self, memory_bank, mask, states, copy_attention_maps, copy_vocabs, tag_luts, invalid_indexes)\u001b[0m\n\u001b[1;32m    203\u001b[0m             _probs, _predictions = self.pointer_generator(\n\u001b[1;32m    204\u001b[0m                 \u001b[0mdec_output\u001b[0m\u001b[0;34m,\u001b[0m \u001b[0m_copy_attentions\u001b[0m\u001b[0;34m,\u001b[0m \u001b[0mcopy_attention_maps\u001b[0m\u001b[0;34m,\u001b[0m\u001b[0;34m\u001b[0m\u001b[0;34m\u001b[0m\u001b[0m\n\u001b[0;32m--> 205\u001b[0;31m                 _coref_attentions, _coref_attention_maps, invalid_indexes)\n\u001b[0m\u001b[1;32m    206\u001b[0m \u001b[0;34m\u001b[0m\u001b[0m\n\u001b[1;32m    207\u001b[0m             \u001b[0msource_dynamic_vocab_size\u001b[0m\u001b[0;34m,\u001b[0m \u001b[0mtarget_dynamic_vocab_size\u001b[0m \u001b[0;34m=\u001b[0m \u001b[0m_copy_attentions\u001b[0m\u001b[0;34m.\u001b[0m\u001b[0mshape\u001b[0m\u001b[0;34m[\u001b[0m\u001b[0;36m2\u001b[0m\u001b[0;34m]\u001b[0m\u001b[0;34m,\u001b[0m \u001b[0m_coref_attentions\u001b[0m\u001b[0;34m.\u001b[0m\u001b[0mshape\u001b[0m\u001b[0;34m[\u001b[0m\u001b[0;36m2\u001b[0m\u001b[0;34m]\u001b[0m\u001b[0;34m\u001b[0m\u001b[0;34m\u001b[0m\u001b[0m\n",
      "\u001b[0;32m/home/linuxbrew/.linuxbrew/opt/python/lib/python3.7/site-packages/tensorflow_core/python/keras/engine/base_layer.py\u001b[0m in \u001b[0;36m__call__\u001b[0;34m(self, inputs, *args, **kwargs)\u001b[0m\n\u001b[1;32m    889\u001b[0m           with base_layer_utils.autocast_context_manager(\n\u001b[1;32m    890\u001b[0m               self._compute_dtype):\n\u001b[0;32m--> 891\u001b[0;31m             \u001b[0moutputs\u001b[0m \u001b[0;34m=\u001b[0m \u001b[0mself\u001b[0m\u001b[0;34m.\u001b[0m\u001b[0mcall\u001b[0m\u001b[0;34m(\u001b[0m\u001b[0mcast_inputs\u001b[0m\u001b[0;34m,\u001b[0m \u001b[0;34m*\u001b[0m\u001b[0margs\u001b[0m\u001b[0;34m,\u001b[0m \u001b[0;34m**\u001b[0m\u001b[0mkwargs\u001b[0m\u001b[0;34m)\u001b[0m\u001b[0;34m\u001b[0m\u001b[0;34m\u001b[0m\u001b[0m\n\u001b[0m\u001b[1;32m    892\u001b[0m           \u001b[0mself\u001b[0m\u001b[0;34m.\u001b[0m\u001b[0m_handle_activity_regularization\u001b[0m\u001b[0;34m(\u001b[0m\u001b[0minputs\u001b[0m\u001b[0;34m,\u001b[0m \u001b[0moutputs\u001b[0m\u001b[0;34m)\u001b[0m\u001b[0;34m\u001b[0m\u001b[0;34m\u001b[0m\u001b[0m\n\u001b[1;32m    893\u001b[0m           \u001b[0mself\u001b[0m\u001b[0;34m.\u001b[0m\u001b[0m_set_mask_metadata\u001b[0m\u001b[0;34m(\u001b[0m\u001b[0minputs\u001b[0m\u001b[0;34m,\u001b[0m \u001b[0moutputs\u001b[0m\u001b[0;34m,\u001b[0m \u001b[0minput_masks\u001b[0m\u001b[0;34m)\u001b[0m\u001b[0;34m\u001b[0m\u001b[0;34m\u001b[0m\u001b[0m\n",
      "\u001b[0;32m~/Documents/Kuliah/TA/amr_parser/model/pointer_generator.py\u001b[0m in \u001b[0;36mcall\u001b[0;34m(self, hiddens, source_attentions, source_attention_maps, target_attentions, target_attention_maps, invalid_indexes)\u001b[0m\n\u001b[1;32m     23\u001b[0m     \u001b[0;32mdef\u001b[0m \u001b[0mcall\u001b[0m\u001b[0;34m(\u001b[0m\u001b[0mself\u001b[0m\u001b[0;34m,\u001b[0m \u001b[0mhiddens\u001b[0m\u001b[0;34m,\u001b[0m \u001b[0msource_attentions\u001b[0m\u001b[0;34m,\u001b[0m \u001b[0msource_attention_maps\u001b[0m\u001b[0;34m,\u001b[0m \u001b[0mtarget_attentions\u001b[0m\u001b[0;34m,\u001b[0m \u001b[0mtarget_attention_maps\u001b[0m\u001b[0;34m,\u001b[0m \u001b[0minvalid_indexes\u001b[0m\u001b[0;34m=\u001b[0m\u001b[0;32mNone\u001b[0m\u001b[0;34m)\u001b[0m\u001b[0;34m:\u001b[0m\u001b[0;34m\u001b[0m\u001b[0;34m\u001b[0m\u001b[0m\n\u001b[1;32m     24\u001b[0m \u001b[0;34m\u001b[0m\u001b[0m\n\u001b[0;32m---> 25\u001b[0;31m         \u001b[0mbatch_size\u001b[0m\u001b[0;34m,\u001b[0m \u001b[0mnum_target_nodes\u001b[0m\u001b[0;34m,\u001b[0m \u001b[0mhidden_size\u001b[0m \u001b[0;34m=\u001b[0m \u001b[0mK\u001b[0m\u001b[0;34m.\u001b[0m\u001b[0mint_shape\u001b[0m\u001b[0;34m(\u001b[0m\u001b[0mhiddens\u001b[0m\u001b[0;34m)\u001b[0m\u001b[0;34m\u001b[0m\u001b[0;34m\u001b[0m\u001b[0m\n\u001b[0m\u001b[1;32m     26\u001b[0m         \u001b[0msource_dynamic_vocab_size\u001b[0m \u001b[0;34m=\u001b[0m \u001b[0msource_attention_maps\u001b[0m\u001b[0;34m.\u001b[0m\u001b[0mshape\u001b[0m\u001b[0;34m[\u001b[0m\u001b[0;36m2\u001b[0m\u001b[0;34m]\u001b[0m\u001b[0;34m\u001b[0m\u001b[0;34m\u001b[0m\u001b[0m\n\u001b[1;32m     27\u001b[0m         \u001b[0mtarget_dynamic_vocab_size\u001b[0m \u001b[0;34m=\u001b[0m \u001b[0mtarget_attention_maps\u001b[0m\u001b[0;34m.\u001b[0m\u001b[0mshape\u001b[0m\u001b[0;34m[\u001b[0m\u001b[0;36m2\u001b[0m\u001b[0;34m]\u001b[0m\u001b[0;34m\u001b[0m\u001b[0;34m\u001b[0m\u001b[0m\n",
      "\u001b[0;31mValueError\u001b[0m: too many values to unpack (expected 3)"
     ]
    }
   ],
   "source": [
    "outputs = text_to_amr.predict(test_model_input)"
   ]
  },
  {
   "cell_type": "code",
   "execution_count": null,
   "metadata": {},
   "outputs": [],
   "source": [
    "outputs['heads']"
   ]
  },
  {
   "cell_type": "code",
   "execution_count": null,
   "metadata": {},
   "outputs": [],
   "source": [
    "outputs['heads'][0]"
   ]
  },
  {
   "cell_type": "code",
   "execution_count": null,
   "metadata": {},
   "outputs": [],
   "source": [
    "for node in outputs['nodes']:\n",
    "    print(node)"
   ]
  },
  {
   "cell_type": "code",
   "execution_count": null,
   "metadata": {},
   "outputs": [],
   "source": []
  }
 ],
 "metadata": {
  "kernelspec": {
   "display_name": "Python 3",
   "language": "python",
   "name": "python3"
  },
  "language_info": {
   "codemirror_mode": {
    "name": "ipython",
    "version": 3
   },
   "file_extension": ".py",
   "mimetype": "text/x-python",
   "name": "python",
   "nbconvert_exporter": "python",
   "pygments_lexer": "ipython3",
   "version": "3.7.5"
  }
 },
 "nbformat": 4,
 "nbformat_minor": 4
}
