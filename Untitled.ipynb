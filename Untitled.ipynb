{
 "cells": [
  {
   "cell_type": "code",
   "execution_count": 1,
   "metadata": {},
   "outputs": [],
   "source": [
    "import tensorflow as tf\n",
    "import numpy as np"
   ]
  },
  {
   "cell_type": "code",
   "execution_count": 25,
   "metadata": {},
   "outputs": [],
   "source": [
    "edge_label_h = np.random.randint(0,10,(40,29,100))\n",
    "edge_heads = np.random.randint(0,10,(40,27))"
   ]
  },
  {
   "cell_type": "code",
   "execution_count": 36,
   "metadata": {},
   "outputs": [],
   "source": [
    "batch_size = edge_heads.shape[0]\n",
    "label_length = edge_heads.shape[1]\n",
    "batch_index = tf.range(batch_size)\n",
    "\n",
    "tile = tf.transpose(tf.reshape(tf.tile(batch_index, [label_length]), shape=[label_length, batch_size]))\n",
    "tile = tf.split(tile, 40, 0)"
   ]
  },
  {
   "cell_type": "code",
   "execution_count": 37,
   "metadata": {},
   "outputs": [
    {
     "data": {
      "text/plain": [
       "TensorShape([1, 27])"
      ]
     },
     "execution_count": 37,
     "metadata": {},
     "output_type": "execute_result"
    }
   ],
   "source": [
    "tile[0].shape"
   ]
  },
  {
   "cell_type": "code",
   "execution_count": 48,
   "metadata": {},
   "outputs": [
    {
     "name": "stdout",
     "output_type": "stream",
     "text": [
      "40\n",
      "(40, 27, 2)\n"
     ]
    }
   ],
   "source": [
    "splitted_edge_heads = tf.split(edge_heads, 40, 0)\n",
    "print(len(splitted_edge_heads))\n",
    "indices = []\n",
    "for idx,head in enumerate(splitted_edge_heads):\n",
    "    matrix_idx = tf.cast(tf.transpose(tile[idx]), dtype='int32')\n",
    "    head = tf.cast(tf.transpose(head), dtype='int32')    \n",
    "    indices.append(tf.reshape(tf.stack([matrix_idx,head], axis=-1), shape=[label_length,2]))\n",
    "\n",
    "indices = tf.stack(indices)\n",
    "print(indices.shape)"
   ]
  },
  {
   "cell_type": "code",
   "execution_count": null,
   "metadata": {},
   "outputs": [],
   "source": []
  }
 ],
 "metadata": {
  "kernelspec": {
   "display_name": "Python 3",
   "language": "python",
   "name": "python3"
  },
  "language_info": {
   "codemirror_mode": {
    "name": "ipython",
    "version": 3
   },
   "file_extension": ".py",
   "mimetype": "text/x-python",
   "name": "python",
   "nbconvert_exporter": "python",
   "pygments_lexer": "ipython3",
   "version": "3.7.5"
  }
 },
 "nbformat": 4,
 "nbformat_minor": 4
}
