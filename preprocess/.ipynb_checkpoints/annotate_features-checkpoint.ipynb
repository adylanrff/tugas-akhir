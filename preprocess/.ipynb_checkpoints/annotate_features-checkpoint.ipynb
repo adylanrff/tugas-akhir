{
 "cells": [
  {
   "cell_type": "code",
   "execution_count": 1,
   "metadata": {},
   "outputs": [],
   "source": [
    "import os\n",
    "import sys\n",
    "module_path = os.path.abspath(os.path.join('..'))\n",
    "if module_path not in sys.path:\n",
    "    sys.path.append(module_path)"
   ]
  },
  {
   "cell_type": "code",
   "execution_count": 2,
   "metadata": {},
   "outputs": [
    {
     "name": "stderr",
     "output_type": "stream",
     "text": [
      "Using TensorFlow backend.\n"
     ]
    },
    {
     "name": "stdout",
     "output_type": "stream",
     "text": [
      "WARNING:tensorflow:From /home/linuxbrew/.linuxbrew/opt/python/lib/python3.7/site-packages/tensorflow_core/python/ops/resource_variable_ops.py:1630: calling BaseResourceVariable.__init__ (from tensorflow.python.ops.resource_variable_ops) with constraint is deprecated and will be removed in a future version.\n",
      "Instructions for updating:\n",
      "If using Keras pass *_constraint arguments to layers.\n"
     ]
    },
    {
     "name": "stderr",
     "output_type": "stream",
     "text": [
      "/home/linuxbrew/.linuxbrew/opt/python/lib/python3.7/site-packages/sklearn/externals/joblib/__init__.py:15: FutureWarning: sklearn.externals.joblib is deprecated in 0.21 and will be removed in 0.23. Please import this functionality directly from joblib, which can be installed with: pip install joblib. If this warning is raised when loading pickled models, you may need to re-serialize those models with scikit-learn 0.21+.\n",
      "  warnings.warn(msg, category=FutureWarning)\n"
     ]
    },
    {
     "name": "stdout",
     "output_type": "stream",
     "text": [
      "WARNING:tensorflow:From /home/linuxbrew/.linuxbrew/opt/python/lib/python3.7/site-packages/tensorflow_core/python/keras/backend.py:3994: where (from tensorflow.python.ops.array_ops) is deprecated and will be removed in a future version.\n",
      "Instructions for updating:\n",
      "Use tf.where in 2.0, which has the same broadcast rule as np.where\n"
     ]
    }
   ],
   "source": [
    "import pandas as pd\n",
    "import stanfordnlp\n",
    "\n",
    "from collections import defaultdict\n",
    "from Sastrawi.Stemmer.StemmerFactory import StemmerFactory\n",
    "from utils.ner.entity_recognizer import get_entities"
   ]
  },
  {
   "cell_type": "code",
   "execution_count": 3,
   "metadata": {},
   "outputs": [],
   "source": [
    "factory = StemmerFactory()"
   ]
  },
  {
   "cell_type": "markdown",
   "metadata": {},
   "source": [
    "#### Adapted from Zhang's code"
   ]
  },
  {
   "cell_type": "code",
   "execution_count": 4,
   "metadata": {},
   "outputs": [],
   "source": [
    "class FeatureAnnotator:\n",
    "    def __init__(self):\n",
    "        self.nlp = stanfordnlp.Pipeline(lang=\"id\",use_gpu=False, processors='tokenize,mwt,pos', silent=True)\n",
    "        self.stemmer = factory.create_stemmer()\n",
    "        self.ner = get_entities\n",
    "    \n",
    "    def annotate(self, sentence):\n",
    "        annotation = defaultdict(list)\n",
    "        doc = self.nlp(sentence)\n",
    "        \n",
    "        annotation['ner_tags'] = self.ner(sentence)\n",
    "        for sent in doc.sentences:\n",
    "            for word in sent.words:\n",
    "                annotation['token'].append(word.text)\n",
    "                annotation['lemma'].append(self.stemmer.stem(word.text))\n",
    "                annotation['pos_tags'].append(word.upos)\n",
    "\n",
    "        return annotation"
   ]
  },
  {
   "cell_type": "code",
   "execution_count": 5,
   "metadata": {},
   "outputs": [],
   "source": [
    "docs = [\"Kucing bapak Budi suka makan anjing\"]"
   ]
  },
  {
   "cell_type": "code",
   "execution_count": 6,
   "metadata": {},
   "outputs": [
    {
     "name": "stdout",
     "output_type": "stream",
     "text": [
      "Use device: cpu\n",
      "---\n",
      "Loading: tokenize\n",
      "With settings: \n",
      "{'model_path': '/home/adylanrff/stanfordnlp_resources/id_gsd_models/id_gsd_tokenizer.pt', 'lang': 'id', 'shorthand': 'id_gsd', 'mode': 'predict'}\n",
      "---\n",
      "Loading: pos\n",
      "With settings: \n",
      "{'model_path': '/home/adylanrff/stanfordnlp_resources/id_gsd_models/id_gsd_tagger.pt', 'pretrain_path': '/home/adylanrff/stanfordnlp_resources/id_gsd_models/id_gsd.pretrain.pt', 'lang': 'id', 'shorthand': 'id_gsd', 'mode': 'predict'}\n",
      "Done loading processors!\n",
      "---\n",
      "WARNING:tensorflow:From /home/linuxbrew/.linuxbrew/opt/python/lib/python3.7/site-packages/keras/backend/tensorflow_backend.py:422: The name tf.global_variables is deprecated. Please use tf.compat.v1.global_variables instead.\n",
      "\n",
      "defaultdict(<class 'list'>, {'ner_tags': ['O', 'O', 'PER', 'O', 'O', 'O'], 'token': ['Kucing', 'bapak', 'Budi', 'suka', 'makan', 'anjing'], 'lemma': ['kucing', 'bapak', 'budi', 'suka', 'makan', 'anjing'], 'pos_tags': ['PROPN', 'NOUN', 'PROPN', 'VERB', 'VERB', 'NOUN']})\n"
     ]
    }
   ],
   "source": [
    "annotator = FeatureAnnotator()\n",
    "for doc in docs:\n",
    "    print(annotator.annotate(doc))"
   ]
  },
  {
   "cell_type": "code",
   "execution_count": null,
   "metadata": {},
   "outputs": [],
   "source": []
  }
 ],
 "metadata": {
  "kernelspec": {
   "display_name": "Python 3",
   "language": "python",
   "name": "python3"
  },
  "language_info": {
   "codemirror_mode": {
    "name": "ipython",
    "version": 3
   },
   "file_extension": ".py",
   "mimetype": "text/x-python",
   "name": "python",
   "nbconvert_exporter": "python",
   "pygments_lexer": "ipython3",
   "version": "3.7.5"
  }
 },
 "nbformat": 4,
 "nbformat_minor": 4
}
