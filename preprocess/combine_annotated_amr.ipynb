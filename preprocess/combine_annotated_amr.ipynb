{
 "cells": [
  {
   "cell_type": "code",
   "execution_count": 57,
   "metadata": {},
   "outputs": [
    {
     "name": "stdout",
     "output_type": "stream",
     "text": [
      "/home/adylanrff/Documents/Kuliah/TA/amr_parser/preprocess\n"
     ]
    }
   ],
   "source": [
    "!pwd"
   ]
  },
  {
   "cell_type": "code",
   "execution_count": 58,
   "metadata": {},
   "outputs": [],
   "source": [
    "import os\n",
    "import sys\n",
    "module_path = os.path.abspath(os.path.join('..'))\n",
    "if module_path not in sys.path:\n",
    "    sys.path.append(module_path)"
   ]
  },
  {
   "cell_type": "code",
   "execution_count": 59,
   "metadata": {},
   "outputs": [],
   "source": [
    "amr_folder = \"../data/raw/\"\n",
    "annotation_folder = amr_folder + \"annotated/\"\n",
    "current_max_amr_id = 0"
   ]
  },
  {
   "cell_type": "code",
   "execution_count": 60,
   "metadata": {},
   "outputs": [
    {
     "data": {
      "text/plain": [
       "['../data/raw/annotated/srl_sentence_amr_annotation_1[DONE].txt',\n",
       " '../data/raw/annotated/srl_sentence_amr_annotation_2[DONE].txt',\n",
       " '../data/raw/annotated/srl_sentence_amr_annotation_3[DONE].txt',\n",
       " '../data/raw/annotated/srl_sentence_amr_annotation_4[DONE].txt',\n",
       " '../data/raw/annotated/srl_sentence_amr_annotation_5[DONE].txt',\n",
       " '../data/raw/annotated/srl_sentence_amr_annotation_6[DONE].txt',\n",
       " '../data/raw/annotated/srl_sentence_amr_annotation_7[DONE].txt',\n",
       " '../data/raw/annotated/srl_sentence_amr_annotation_8[DONE].txt',\n",
       " '../data/raw/annotated/srl_sentence_amr_annotation_9[DONE].txt']"
      ]
     },
     "execution_count": 60,
     "metadata": {},
     "output_type": "execute_result"
    }
   ],
   "source": [
    "amr_annotation_base_filename = \"srl_sentence_amr_annotation_{}[DONE].txt\"\n",
    "amr_annotation_filenames = []\n",
    "for i in range(9):\n",
    "    amr_annotation_filenames.append(annotation_folder+amr_annotation_base_filename.format(i+1))\n",
    "    \n",
    "amr_annotation_filenames"
   ]
  },
  {
   "cell_type": "code",
   "execution_count": 61,
   "metadata": {},
   "outputs": [],
   "source": [
    "combined_amr_filename = amr_folder + 'test.txt'\n",
    "\n",
    "amrs = []\n",
    "\n",
    "amr_id = current_max_amr_id + 1\n",
    "with open(combined_amr_filename, 'w') as amr_file:\n",
    "    for idx, filename in enumerate(amr_annotation_filenames):\n",
    "        with open(filename) as annotation_file:\n",
    "            lines = annotation_file.readlines()\n",
    "            amr = []\n",
    "            for line in lines:\n",
    "                if len(line):\n",
    "                    if (len(amr) == 0):\n",
    "                        amr.append(\"# ::id {}\\n\".format(amr_id))\n",
    "                        amr.append(\"# ::snt \")\n",
    "\n",
    "                    if (line[0] == \"-\"):\n",
    "                        amrs.append(''.join(amr))\n",
    "                        amr = []\n",
    "                        amr_id += 1\n",
    "                    else:\n",
    "                        amr.append(line)\n",
    "                    \n",
    "    amr_file.write('\\n'.join(amrs))"
   ]
  },
  {
   "cell_type": "code",
   "execution_count": null,
   "metadata": {},
   "outputs": [],
   "source": []
  }
 ],
 "metadata": {
  "kernelspec": {
   "display_name": "Python 3",
   "language": "python",
   "name": "python3"
  },
  "language_info": {
   "codemirror_mode": {
    "name": "ipython",
    "version": 3
   },
   "file_extension": ".py",
   "mimetype": "text/x-python",
   "name": "python",
   "nbconvert_exporter": "python",
   "pygments_lexer": "ipython3",
   "version": "3.7.5"
  }
 },
 "nbformat": 4,
 "nbformat_minor": 4
}
